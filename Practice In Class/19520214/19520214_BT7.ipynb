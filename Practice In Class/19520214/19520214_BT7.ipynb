{
  "nbformat": 4,
  "nbformat_minor": 0,
  "metadata": {
    "colab": {
      "name": "19520214_BT7.ipynb",
      "provenance": [],
      "collapsed_sections": []
    },
    "kernelspec": {
      "name": "python3",
      "display_name": "Python 3"
    },
    "language_info": {
      "name": "python"
    }
  },
  "cells": [
    {
      "cell_type": "markdown",
      "metadata": {
        "id": "aOBDGEtSHcW5"
      },
      "source": [
        "<h1 align=\"center\"><b>CS116.M11 - LẬP TRÌNH PYTHON CHO MÁY HỌC</b></h1>\n",
        "<h1 align=\"center\"><b>BÀI TẬP 7 - NGÀY 19/10/2021</b></h1>"
      ]
    },
    {
      "cell_type": "markdown",
      "metadata": {
        "id": "A-9-Y90ZHbsM"
      },
      "source": [
        "# **Thông tin sinh viên**"
      ]
    },
    {
      "cell_type": "markdown",
      "metadata": {
        "id": "Qn50WZSKHpYB"
      },
      "source": [
        "1. ***MSSV:*** 19520214\n",
        "2. ***Họ tên:*** Cao Hưng Phú\n",
        "3. ***Bài tập:*** Bài tập 7\n",
        "4. ***Ngày thực hiện:*** 19/10/2021"
      ]
    },
    {
      "cell_type": "markdown",
      "metadata": {
        "id": "oAg2K8tXHtoh"
      },
      "source": [
        "# **Bài làm**"
      ]
    },
    {
      "cell_type": "markdown",
      "metadata": {
        "id": "bYrSJMcfHvZe"
      },
      "source": [
        "### **Các hàm và thư viện cần thiết**"
      ]
    },
    {
      "cell_type": "code",
      "metadata": {
        "id": "oNMpduoxKBgV"
      },
      "source": [
        "import numpy as np\n",
        "import pandas as pd\n",
        "import warnings\n",
        "warnings.simplefilter(\"ignore\")"
      ],
      "execution_count": 28,
      "outputs": []
    },
    {
      "cell_type": "markdown",
      "metadata": {
        "id": "xkz5SpXiJGG9"
      },
      "source": [
        "### **Bước 1: Load dữ liệu Social Network Ads**"
      ]
    },
    {
      "cell_type": "code",
      "metadata": {
        "colab": {
          "base_uri": "https://localhost:8080/",
          "height": 278
        },
        "id": "DV5zqIBbKHqZ",
        "outputId": "2df9b744-4540-499d-e343-7bd8f1e7ab0e"
      },
      "source": [
        "# Tải file Social_Network_Ads.csv từ GoogleDrive\n",
        "!gdown --id \"1vlfarV6qq7ot4KXb9NW8RoG2Rm1cJ0E2\"\n",
        "\n",
        "# Gán path file Social_Network_Ads.csv\n",
        "path_data = \"/content/Social_Network_Ads.csv\"\n",
        "\n",
        "# Đọc file Wine.csv\n",
        "df = pd.read_csv(path_data)\n",
        "\n",
        "# Hiển thị 5 dòng đầu của data\n",
        "df.head(5)"
      ],
      "execution_count": 22,
      "outputs": [
        {
          "output_type": "stream",
          "name": "stdout",
          "text": [
            "Downloading...\n",
            "From: https://drive.google.com/uc?id=1vlfarV6qq7ot4KXb9NW8RoG2Rm1cJ0E2\n",
            "To: /content/Social_Network_Ads.csv\n",
            "\r  0% 0.00/4.90k [00:00<?, ?B/s]\r100% 4.90k/4.90k [00:00<00:00, 8.80MB/s]\n"
          ]
        },
        {
          "output_type": "execute_result",
          "data": {
            "text/html": [
              "<div>\n",
              "<style scoped>\n",
              "    .dataframe tbody tr th:only-of-type {\n",
              "        vertical-align: middle;\n",
              "    }\n",
              "\n",
              "    .dataframe tbody tr th {\n",
              "        vertical-align: top;\n",
              "    }\n",
              "\n",
              "    .dataframe thead th {\n",
              "        text-align: right;\n",
              "    }\n",
              "</style>\n",
              "<table border=\"1\" class=\"dataframe\">\n",
              "  <thead>\n",
              "    <tr style=\"text-align: right;\">\n",
              "      <th></th>\n",
              "      <th>Age</th>\n",
              "      <th>EstimatedSalary</th>\n",
              "      <th>Purchased</th>\n",
              "    </tr>\n",
              "  </thead>\n",
              "  <tbody>\n",
              "    <tr>\n",
              "      <th>0</th>\n",
              "      <td>19</td>\n",
              "      <td>19000</td>\n",
              "      <td>0</td>\n",
              "    </tr>\n",
              "    <tr>\n",
              "      <th>1</th>\n",
              "      <td>35</td>\n",
              "      <td>20000</td>\n",
              "      <td>0</td>\n",
              "    </tr>\n",
              "    <tr>\n",
              "      <th>2</th>\n",
              "      <td>26</td>\n",
              "      <td>43000</td>\n",
              "      <td>0</td>\n",
              "    </tr>\n",
              "    <tr>\n",
              "      <th>3</th>\n",
              "      <td>27</td>\n",
              "      <td>57000</td>\n",
              "      <td>0</td>\n",
              "    </tr>\n",
              "    <tr>\n",
              "      <th>4</th>\n",
              "      <td>19</td>\n",
              "      <td>76000</td>\n",
              "      <td>0</td>\n",
              "    </tr>\n",
              "  </tbody>\n",
              "</table>\n",
              "</div>"
            ],
            "text/plain": [
              "   Age  EstimatedSalary  Purchased\n",
              "0   19            19000          0\n",
              "1   35            20000          0\n",
              "2   26            43000          0\n",
              "3   27            57000          0\n",
              "4   19            76000          0"
            ]
          },
          "metadata": {},
          "execution_count": 22
        }
      ]
    },
    {
      "cell_type": "markdown",
      "metadata": {
        "id": "hhzm4b6ZJOZ8"
      },
      "source": [
        "### **Bước 2: Chuẩn hóa dữ liệu với Standard Scaler**"
      ]
    },
    {
      "cell_type": "code",
      "metadata": {
        "id": "P7yB-4QULZle"
      },
      "source": [
        "X = np.array(df[['Age', 'EstimatedSalary']])\n",
        "y = np.array(df['Purchased'])"
      ],
      "execution_count": 42,
      "outputs": []
    },
    {
      "cell_type": "code",
      "metadata": {
        "id": "rgtnNL8YLD4O"
      },
      "source": [
        "from sklearn.preprocessing import StandardScaler\n",
        "scaler = StandardScaler()\n",
        "scaler.fit(X)\n",
        "X = scaler.transform(X)"
      ],
      "execution_count": 43,
      "outputs": []
    },
    {
      "cell_type": "markdown",
      "metadata": {
        "id": "KzuoJjYBJRY7"
      },
      "source": [
        "### **Bước 3: Chia ra làm 2 tập train và test với K-Fold cross validation, K = 5**"
      ]
    },
    {
      "cell_type": "code",
      "metadata": {
        "id": "zeWYFBgXOFBV"
      },
      "source": [
        "from sklearn.model_selection import KFold\n",
        "\n",
        "kFold = KFold(n_splits=5)\n",
        "kFold.get_n_splits(X)\n",
        "\n",
        "list_X_train, list_y_train, list_X_test, list_y_test = [], [], [], []\n",
        "\n",
        "for i_train, i_test in kFold.split(X):\n",
        "  list_X_train.append(X[i_train])\n",
        "  list_y_train.append(y[i_train])\n",
        "  list_X_test.append(X[i_test])\n",
        "  list_y_test.append(y[i_test])"
      ],
      "execution_count": 56,
      "outputs": []
    },
    {
      "cell_type": "markdown",
      "metadata": {
        "id": "JHIy6oH2JS6I"
      },
      "source": [
        "### **Bước 4: Áp dụng lần lượt một trong các classifier sau: KNN, SVM, Decision Tree, Bayesian, Logistic Regression**"
      ]
    },
    {
      "cell_type": "markdown",
      "metadata": {
        "id": "R1TfKxEfZilp"
      },
      "source": [
        "#### **Hàm chính để gọi lấy kết quả**"
      ]
    },
    {
      "cell_type": "code",
      "metadata": {
        "id": "nQexgtSoT63G"
      },
      "source": [
        "def getResultModel(model):\n",
        "  list_accuracy = []\n",
        "  for i in range(len(list_X_train)):\n",
        "    model.fit(list_X_train[i], list_y_train[i])\n",
        "    list_accuracy.append(model.score(list_X_test[i], list_y_test[i]))\n",
        "  return list_accuracy"
      ],
      "execution_count": 64,
      "outputs": []
    },
    {
      "cell_type": "markdown",
      "metadata": {
        "id": "bE0lzmCzPnKY"
      },
      "source": [
        "#### **4.1. KNN**"
      ]
    },
    {
      "cell_type": "code",
      "metadata": {
        "id": "fJ_wApD0TDqE"
      },
      "source": [
        "from sklearn.neighbors import KNeighborsClassifier\n",
        "KNNmodel = KNeighborsClassifier(n_neighbors=3)\n",
        "KNNres = getResultModel(KNNmodel)"
      ],
      "execution_count": 74,
      "outputs": []
    },
    {
      "cell_type": "markdown",
      "metadata": {
        "id": "zBEYu4hhQJ3c"
      },
      "source": [
        "#### **4.2. SVM**"
      ]
    },
    {
      "cell_type": "markdown",
      "metadata": {
        "id": "IU8uAlqfi81D"
      },
      "source": [
        "##### **4.2.1. SVM Linear**"
      ]
    },
    {
      "cell_type": "code",
      "metadata": {
        "id": "C3aRcZwMQJX9"
      },
      "source": [
        "from sklearn.svm import SVC\n",
        "SVMlinearmodel = SVC(kernel='linear')\n",
        "SVMlinearres = getResultModel(SVMlinearmodel)"
      ],
      "execution_count": 140,
      "outputs": []
    },
    {
      "cell_type": "markdown",
      "metadata": {
        "id": "FNpxvNOljXJO"
      },
      "source": [
        "##### **4.2.2. SVM Poly**"
      ]
    },
    {
      "cell_type": "code",
      "metadata": {
        "id": "3bAHRyX1jWkv"
      },
      "source": [
        "from sklearn.svm import SVC\n",
        "SVMpolymodel = SVC(kernel='poly')\n",
        "SVMpolyres = getResultModel(SVMpolymodel)"
      ],
      "execution_count": 142,
      "outputs": []
    },
    {
      "cell_type": "markdown",
      "metadata": {
        "id": "a7EtTMuNjlCt"
      },
      "source": [
        "##### **4.2.3. SVM rbf**"
      ]
    },
    {
      "cell_type": "code",
      "metadata": {
        "id": "BIv47s3KjUn_"
      },
      "source": [
        "from sklearn.svm import SVC\n",
        "SVMrbfmodel = SVC(kernel='rbf')\n",
        "SVMrbfres = getResultModel(SVMrbfmodel)"
      ],
      "execution_count": 144,
      "outputs": []
    },
    {
      "cell_type": "markdown",
      "metadata": {
        "id": "GbsyLaiRQMwF"
      },
      "source": [
        "#### **4.3. Decision Tree**"
      ]
    },
    {
      "cell_type": "code",
      "metadata": {
        "id": "yy-fzcAtXfgK"
      },
      "source": [
        "from sklearn.tree import DecisionTreeClassifier\n",
        "DTmodel = DecisionTreeClassifier()\n",
        "DTres = getResultModel(DTmodel)"
      ],
      "execution_count": 76,
      "outputs": []
    },
    {
      "cell_type": "markdown",
      "metadata": {
        "id": "dURna_TYQOtV"
      },
      "source": [
        "#### **4.4. Bayesian**"
      ]
    },
    {
      "cell_type": "code",
      "metadata": {
        "id": "8gdFc_yZYBH9"
      },
      "source": [
        "from sklearn.naive_bayes import GaussianNB\n",
        "NBmodel = GaussianNB()\n",
        "NBres = getResultModel(NBmodel)"
      ],
      "execution_count": 77,
      "outputs": []
    },
    {
      "cell_type": "markdown",
      "metadata": {
        "id": "EBcnixuPQPjJ"
      },
      "source": [
        "#### **4.5. Logistic Regression**"
      ]
    },
    {
      "cell_type": "code",
      "metadata": {
        "id": "t_IWMZqjYekk"
      },
      "source": [
        "from sklearn.linear_model import LogisticRegression\n",
        "LRmodel = LogisticRegression()\n",
        "LRres = getResultModel(LRmodel)"
      ],
      "execution_count": 78,
      "outputs": []
    },
    {
      "cell_type": "markdown",
      "metadata": {
        "id": "ywNEcG1-Ju6C"
      },
      "source": [
        "### **Bước 5: Tính accuracy sử dụng KFold**"
      ]
    },
    {
      "cell_type": "code",
      "metadata": {
        "id": "1fyjIpYca29p"
      },
      "source": [
        "def showResult(nameModel, listRes):\n",
        "  print(\"=> Model: {}\".format(nameModel))\n",
        "  print(\"* Chi tiết các Fold:\")\n",
        "  for i, res in enumerate(listRes):\n",
        "    print(\" > Fold {} - Score: {}\".format(i, res))\n",
        "  print(\"* Tổng thể các Fold:\")\n",
        "  print(\" > Score {:.2f} (Độ lệch: +-{:.2f})\".format(np.mean(listRes), np.std(listRes)))"
      ],
      "execution_count": 88,
      "outputs": []
    },
    {
      "cell_type": "code",
      "metadata": {
        "colab": {
          "base_uri": "https://localhost:8080/"
        },
        "id": "zeMTeLf-bZdj",
        "outputId": "c3093975-ad5b-45af-bdf4-e5abd12976cb"
      },
      "source": [
        "# KNN\n",
        "showResult('KNN', KNNres)"
      ],
      "execution_count": 89,
      "outputs": [
        {
          "output_type": "stream",
          "name": "stdout",
          "text": [
            "=> Model: KNN\n",
            "* Chi tiết các Fold:\n",
            " > Fold 0 - Score: 0.95\n",
            " > Fold 1 - Score: 0.95\n",
            " > Fold 2 - Score: 0.85\n",
            " > Fold 3 - Score: 0.8625\n",
            " > Fold 4 - Score: 0.85\n",
            "* Tổng thể các Fold:\n",
            " > Score 0.89 (Độ lệch: +-0.05)\n"
          ]
        }
      ]
    },
    {
      "cell_type": "code",
      "metadata": {
        "colab": {
          "base_uri": "https://localhost:8080/"
        },
        "id": "ztJy56UAcTg6",
        "outputId": "76b516fb-b3b2-4644-ff0c-2b5f6fe7e058"
      },
      "source": [
        "# SVM\n",
        "showResult('SVM linear', SVMlinearres)\n",
        "print(\"\\n\")\n",
        "showResult('SVM poly', SVMpolyres)\n",
        "print(\"\\n\")\n",
        "showResult('SVM rbf', SVMrbfres)"
      ],
      "execution_count": 146,
      "outputs": [
        {
          "output_type": "stream",
          "name": "stdout",
          "text": [
            "=> Model: SVM linear\n",
            "* Chi tiết các Fold:\n",
            " > Fold 0 - Score: 0.7875\n",
            " > Fold 1 - Score: 0.9125\n",
            " > Fold 2 - Score: 0.825\n",
            " > Fold 3 - Score: 0.8375\n",
            " > Fold 4 - Score: 0.7375\n",
            "* Tổng thể các Fold:\n",
            " > Score 0.82 (Độ lệch: +-0.06)\n",
            "\n",
            "\n",
            "=> Model: SVM poly\n",
            "* Chi tiết các Fold:\n",
            " > Fold 0 - Score: 0.8375\n",
            " > Fold 1 - Score: 0.95\n",
            " > Fold 2 - Score: 0.825\n",
            " > Fold 3 - Score: 0.7625\n",
            " > Fold 4 - Score: 0.675\n",
            "* Tổng thể các Fold:\n",
            " > Score 0.81 (Độ lệch: +-0.09)\n",
            "\n",
            "\n",
            "=> Model: SVM rbf\n",
            "* Chi tiết các Fold:\n",
            " > Fold 0 - Score: 0.95\n",
            " > Fold 1 - Score: 0.975\n",
            " > Fold 2 - Score: 0.825\n",
            " > Fold 3 - Score: 0.85\n",
            " > Fold 4 - Score: 0.9375\n",
            "* Tổng thể các Fold:\n",
            " > Score 0.91 (Độ lệch: +-0.06)\n"
          ]
        }
      ]
    },
    {
      "cell_type": "code",
      "metadata": {
        "colab": {
          "base_uri": "https://localhost:8080/"
        },
        "id": "gM92rH8dcdO6",
        "outputId": "93591134-1365-4aab-b720-8756a325d83d"
      },
      "source": [
        "# Decision Tree\n",
        "showResult('Decision Tree', DTres)"
      ],
      "execution_count": 92,
      "outputs": [
        {
          "output_type": "stream",
          "name": "stdout",
          "text": [
            "=> Model: Decision Tree\n",
            "* Chi tiết các Fold:\n",
            " > Fold 0 - Score: 0.8875\n",
            " > Fold 1 - Score: 0.95\n",
            " > Fold 2 - Score: 0.825\n",
            " > Fold 3 - Score: 0.8\n",
            " > Fold 4 - Score: 0.8375\n",
            "* Tổng thể các Fold:\n",
            " > Score 0.86 (Độ lệch: +-0.05)\n"
          ]
        }
      ]
    },
    {
      "cell_type": "code",
      "metadata": {
        "colab": {
          "base_uri": "https://localhost:8080/"
        },
        "id": "ypOzCdg_cj0y",
        "outputId": "fa10b325-a613-4f54-d89c-38e4ef687077"
      },
      "source": [
        "# Bayesian\n",
        "showResult('Bayesian', NBres)"
      ],
      "execution_count": 93,
      "outputs": [
        {
          "output_type": "stream",
          "name": "stdout",
          "text": [
            "=> Model: Bayesian\n",
            "* Chi tiết các Fold:\n",
            " > Fold 0 - Score: 0.9\n",
            " > Fold 1 - Score: 0.9375\n",
            " > Fold 2 - Score: 0.825\n",
            " > Fold 3 - Score: 0.825\n",
            " > Fold 4 - Score: 0.8\n",
            "* Tổng thể các Fold:\n",
            " > Score 0.86 (Độ lệch: +-0.05)\n"
          ]
        }
      ]
    },
    {
      "cell_type": "code",
      "metadata": {
        "colab": {
          "base_uri": "https://localhost:8080/"
        },
        "id": "9zI7XIAqctK5",
        "outputId": "761ac1d1-b094-4e01-ec90-58bc18e5f60a"
      },
      "source": [
        "# Logistic Regression\n",
        "showResult('Logistic Regression', LRres)"
      ],
      "execution_count": 95,
      "outputs": [
        {
          "output_type": "stream",
          "name": "stdout",
          "text": [
            "=> Model: Logistic Regression\n",
            "* Chi tiết các Fold:\n",
            " > Fold 0 - Score: 0.7875\n",
            " > Fold 1 - Score: 0.9125\n",
            " > Fold 2 - Score: 0.825\n",
            " > Fold 3 - Score: 0.8375\n",
            " > Fold 4 - Score: 0.75\n",
            "* Tổng thể các Fold:\n",
            " > Score 0.82 (Độ lệch: +-0.05)\n"
          ]
        }
      ]
    },
    {
      "cell_type": "markdown",
      "metadata": {
        "id": "uGRcFiYVKo5V"
      },
      "source": [
        "### **Bước 6: Lập bảng so sánh các phương pháp**"
      ]
    },
    {
      "cell_type": "code",
      "metadata": {
        "id": "tRPyfl50fQw0"
      },
      "source": [
        "def convertListRes(nameRes, listRes):\n",
        "  res = [nameRes]\n",
        "  for x in listRes:\n",
        "    res.append(x)\n",
        "  res.append(float(\"{:.2f}\".format(np.mean(listRes))))\n",
        "  return res\n",
        "\n",
        "def convertColumnName(dataShowConvert):\n",
        "  res = ['Tên model']\n",
        "  for i in range(len(dataShowConvert[0]) - 2):\n",
        "    res.append(\"Fold {}\".format(i + 1))\n",
        "  res.append('Trung bình')\n",
        "  return res"
      ],
      "execution_count": 136,
      "outputs": []
    },
    {
      "cell_type": "code",
      "metadata": {
        "colab": {
          "base_uri": "https://localhost:8080/"
        },
        "id": "jVF8EBfDdIMT",
        "outputId": "d66d8cc6-235b-4386-cada-512f1d521fbd"
      },
      "source": [
        "dataShow = [['KNN', KNNres], ['SVM linear', SVMlinearres], ['SVM poly', SVMpolyres], ['SVM rbf', SVMrbfres],\\\n",
        "            ['Decision Tree', DTres], ['Bayesian', NBres], ['Logistic Regression', LRres]]\n",
        "dataShowConvert = [convertListRes(*x) for x in dataShow]\n",
        "# dataShowConvert"
      ],
      "execution_count": 147,
      "outputs": [
        {
          "output_type": "execute_result",
          "data": {
            "text/plain": [
              "[['KNN', 0.95, 0.95, 0.85, 0.8625, 0.85, 0.89],\n",
              " ['SVM linear', 0.7875, 0.9125, 0.825, 0.8375, 0.7375, 0.82],\n",
              " ['SVM poly', 0.8375, 0.95, 0.825, 0.7625, 0.675, 0.81],\n",
              " ['SVM rbf', 0.95, 0.975, 0.825, 0.85, 0.9375, 0.91],\n",
              " ['Decision Tree', 0.8875, 0.95, 0.825, 0.8, 0.8375, 0.86],\n",
              " ['Bayesian', 0.9, 0.9375, 0.825, 0.825, 0.8, 0.86],\n",
              " ['Logistic Regression', 0.7875, 0.9125, 0.825, 0.8375, 0.75, 0.82]]"
            ]
          },
          "metadata": {},
          "execution_count": 147
        }
      ]
    },
    {
      "cell_type": "code",
      "metadata": {
        "id": "r3r_24myaF49"
      },
      "source": [
        "import pandas as pd\n",
        "from markdownTable import markdownTable\n",
        "df_show = pd.DataFrame(dataShowConvert, columns=convertColumnName(dataShowConvert))\n",
        "# df_show.to_markdown()"
      ],
      "execution_count": 151,
      "outputs": []
    },
    {
      "cell_type": "markdown",
      "metadata": {
        "id": "0ma6ztE-iB5O"
      },
      "source": [
        "|    | Tên model           |   Fold 1 |   Fold 2 |   Fold 3 |   Fold 4 |   Fold 5 |   Trung bình |\n",
        "|---:|:--------------------|---------:|---------:|---------:|---------:|---------:|-------------:|\n",
        "|  0 | KNN                 |   0.95   |   0.95   |    0.85  |   0.8625 |   0.85   |         0.89 |\n",
        "|  1 | SVM linear          |   0.7875 |   0.9125 |    0.825 |   0.8375 |   0.7375 |         0.82 |\n",
        "|  2 | SVM poly            |   0.8375 |   0.95   |    0.825 |   0.7625 |   0.675  |         0.81 |\n",
        "|  3 | SVM rbf             |   0.95   |   0.975  |    0.825 |   0.85   |   0.9375 |         0.91 |\n",
        "|  4 | Decision Tree       |   0.8875 |   0.95   |    0.825 |   0.8    |   0.8375 |         0.86 |\n",
        "|  5 | Bayesian            |   0.9    |   0.9375 |    0.825 |   0.825  |   0.8    |         0.86 |\n",
        "|  6 | Logistic Regression |   0.7875 |   0.9125 |    0.825 |   0.8375 |   0.75   |         0.82 |"
      ]
    }
  ]
}