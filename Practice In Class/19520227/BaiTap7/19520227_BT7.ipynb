{
  "nbformat": 4,
  "nbformat_minor": 0,
  "metadata": {
    "colab": {
      "name": "19520227_BT7.ipynb",
      "provenance": [],
      "authorship_tag": "ABX9TyPD+XluuYABDSFRQu523psH",
      "include_colab_link": true
    },
    "kernelspec": {
      "name": "python3",
      "display_name": "Python 3"
    },
    "language_info": {
      "name": "python"
    }
  },
  "cells": [
    {
      "cell_type": "markdown",
      "metadata": {
        "id": "view-in-github",
        "colab_type": "text"
      },
      "source": [
        "<a href=\"https://colab.research.google.com/github/lphuong304/CS116.M11/blob/main/Practice%20In%20Class/19520227/BaiTap7/19520227_BT7.ipynb\" target=\"_parent\"><img src=\"https://colab.research.google.com/assets/colab-badge.svg\" alt=\"Open In Colab\"/></a>"
      ]
    },
    {
      "cell_type": "markdown",
      "metadata": {
        "id": "7own1cErGAXw"
      },
      "source": [
        "<h1 align=\"center\"><strong>BÀI TẬP  - 19/10/2021</strong></h1>\n",
        "<h1 align=\"center\"><strong>LẬP TRÌNH PYTHON CHO MÁY HỌC CS116.M11 - BÀI TOÁN PHÂN LỚP </strong></h1>\n",
        "\n",
        "# GIỚI THIỆU:\n",
        "\n",
        "1. Họ và tên: Nguyễn Ngọc Lan Phương\n",
        "2. MSSV: 19520227 - KHMT2019\n",
        "3. Lớp: CS116.M11\n",
        "4. Bài tập: Bài toán phân lớp.\n",
        "5. Ngày thực hiện: 19/10/2021"
      ]
    },
    {
      "cell_type": "markdown",
      "metadata": {
        "id": "_JRB2IKwIgZf"
      },
      "source": [
        "##1. Import Packages"
      ]
    },
    {
      "cell_type": "code",
      "metadata": {
        "id": "e3bSazf1F0AE"
      },
      "source": [
        "import pandas as pd \n",
        "import os\n",
        "import numpy as np\n",
        "import matplotlib.pyplot as plt\n",
        "import warnings\n",
        "import seaborn as sns \n",
        "from scipy import stats\n",
        "warnings.filterwarnings('ignore')\n",
        "from sklearn.preprocessing import StandardScaler, MinMaxScaler\n",
        "from sklearn.decomposition import PCA\n",
        "from sklearn import metrics\n",
        "from sklearn.model_selection import train_test_split, KFold, cross_val_score\n",
        "from sklearn.metrics import accuracy_score, precision_score, classification_report\n",
        "from sklearn.linear_model import LogisticRegression\n",
        "from sklearn.tree import DecisionTreeClassifier\n",
        "from sklearn.ensemble import RandomForestClassifier\n",
        "from sklearn.svm import SVC\n",
        "from sklearn.neighbors import KNeighborsClassifier\n",
        "from sklearn.naive_bayes import GaussianNB"
      ],
      "execution_count": null,
      "outputs": []
    },
    {
      "cell_type": "markdown",
      "metadata": {
        "id": "CqwtAOcSIjlj"
      },
      "source": [
        "##2. Load data"
      ]
    },
    {
      "cell_type": "code",
      "metadata": {
        "colab": {
          "base_uri": "https://localhost:8080/"
        },
        "id": "rNvSDzCOHtmG",
        "outputId": "7724bfdb-8b7d-4d75-c853-3cce3f570ce1"
      },
      "source": [
        "!gdown --id 1vFk63n3YATMLGauFCovSHgmXUi1vhxMM"
      ],
      "execution_count": null,
      "outputs": [
        {
          "output_type": "stream",
          "name": "stdout",
          "text": [
            "Downloading...\n",
            "From: https://drive.google.com/uc?id=1vFk63n3YATMLGauFCovSHgmXUi1vhxMM\n",
            "To: /content/Social_Network_Ads.csv\n",
            "\r  0% 0.00/4.90k [00:00<?, ?B/s]\r100% 4.90k/4.90k [00:00<00:00, 3.78MB/s]\n"
          ]
        }
      ]
    },
    {
      "cell_type": "code",
      "metadata": {
        "id": "zMUm9m1TIogm"
      },
      "source": [
        "data = pd.read_csv('/content/Social_Network_Ads.csv')"
      ],
      "execution_count": null,
      "outputs": []
    },
    {
      "cell_type": "code",
      "metadata": {
        "colab": {
          "base_uri": "https://localhost:8080/",
          "height": 359
        },
        "id": "snhgMf7_JCyh",
        "outputId": "45bfede7-8723-4fb9-90ea-de60c11d5bd2"
      },
      "source": [
        "data.head(10)"
      ],
      "execution_count": null,
      "outputs": [
        {
          "output_type": "execute_result",
          "data": {
            "text/html": [
              "<div>\n",
              "<style scoped>\n",
              "    .dataframe tbody tr th:only-of-type {\n",
              "        vertical-align: middle;\n",
              "    }\n",
              "\n",
              "    .dataframe tbody tr th {\n",
              "        vertical-align: top;\n",
              "    }\n",
              "\n",
              "    .dataframe thead th {\n",
              "        text-align: right;\n",
              "    }\n",
              "</style>\n",
              "<table border=\"1\" class=\"dataframe\">\n",
              "  <thead>\n",
              "    <tr style=\"text-align: right;\">\n",
              "      <th></th>\n",
              "      <th>Age</th>\n",
              "      <th>EstimatedSalary</th>\n",
              "      <th>Purchased</th>\n",
              "    </tr>\n",
              "  </thead>\n",
              "  <tbody>\n",
              "    <tr>\n",
              "      <th>0</th>\n",
              "      <td>19</td>\n",
              "      <td>19000</td>\n",
              "      <td>0</td>\n",
              "    </tr>\n",
              "    <tr>\n",
              "      <th>1</th>\n",
              "      <td>35</td>\n",
              "      <td>20000</td>\n",
              "      <td>0</td>\n",
              "    </tr>\n",
              "    <tr>\n",
              "      <th>2</th>\n",
              "      <td>26</td>\n",
              "      <td>43000</td>\n",
              "      <td>0</td>\n",
              "    </tr>\n",
              "    <tr>\n",
              "      <th>3</th>\n",
              "      <td>27</td>\n",
              "      <td>57000</td>\n",
              "      <td>0</td>\n",
              "    </tr>\n",
              "    <tr>\n",
              "      <th>4</th>\n",
              "      <td>19</td>\n",
              "      <td>76000</td>\n",
              "      <td>0</td>\n",
              "    </tr>\n",
              "    <tr>\n",
              "      <th>5</th>\n",
              "      <td>27</td>\n",
              "      <td>58000</td>\n",
              "      <td>0</td>\n",
              "    </tr>\n",
              "    <tr>\n",
              "      <th>6</th>\n",
              "      <td>27</td>\n",
              "      <td>84000</td>\n",
              "      <td>0</td>\n",
              "    </tr>\n",
              "    <tr>\n",
              "      <th>7</th>\n",
              "      <td>32</td>\n",
              "      <td>150000</td>\n",
              "      <td>1</td>\n",
              "    </tr>\n",
              "    <tr>\n",
              "      <th>8</th>\n",
              "      <td>25</td>\n",
              "      <td>33000</td>\n",
              "      <td>0</td>\n",
              "    </tr>\n",
              "    <tr>\n",
              "      <th>9</th>\n",
              "      <td>35</td>\n",
              "      <td>65000</td>\n",
              "      <td>0</td>\n",
              "    </tr>\n",
              "  </tbody>\n",
              "</table>\n",
              "</div>"
            ],
            "text/plain": [
              "   Age  EstimatedSalary  Purchased\n",
              "0   19            19000          0\n",
              "1   35            20000          0\n",
              "2   26            43000          0\n",
              "3   27            57000          0\n",
              "4   19            76000          0\n",
              "5   27            58000          0\n",
              "6   27            84000          0\n",
              "7   32           150000          1\n",
              "8   25            33000          0\n",
              "9   35            65000          0"
            ]
          },
          "metadata": {},
          "execution_count": 4
        }
      ]
    },
    {
      "cell_type": "code",
      "metadata": {
        "colab": {
          "base_uri": "https://localhost:8080/",
          "height": 419
        },
        "id": "xnIQtU4RLBzp",
        "outputId": "caf98b37-5797-444e-a22d-275e567d0d3f"
      },
      "source": [
        "X = data.iloc[:,:-1]\n",
        "y = data.iloc[:,-1]\n",
        "X"
      ],
      "execution_count": null,
      "outputs": [
        {
          "output_type": "execute_result",
          "data": {
            "text/html": [
              "<div>\n",
              "<style scoped>\n",
              "    .dataframe tbody tr th:only-of-type {\n",
              "        vertical-align: middle;\n",
              "    }\n",
              "\n",
              "    .dataframe tbody tr th {\n",
              "        vertical-align: top;\n",
              "    }\n",
              "\n",
              "    .dataframe thead th {\n",
              "        text-align: right;\n",
              "    }\n",
              "</style>\n",
              "<table border=\"1\" class=\"dataframe\">\n",
              "  <thead>\n",
              "    <tr style=\"text-align: right;\">\n",
              "      <th></th>\n",
              "      <th>Age</th>\n",
              "      <th>EstimatedSalary</th>\n",
              "    </tr>\n",
              "  </thead>\n",
              "  <tbody>\n",
              "    <tr>\n",
              "      <th>0</th>\n",
              "      <td>19</td>\n",
              "      <td>19000</td>\n",
              "    </tr>\n",
              "    <tr>\n",
              "      <th>1</th>\n",
              "      <td>35</td>\n",
              "      <td>20000</td>\n",
              "    </tr>\n",
              "    <tr>\n",
              "      <th>2</th>\n",
              "      <td>26</td>\n",
              "      <td>43000</td>\n",
              "    </tr>\n",
              "    <tr>\n",
              "      <th>3</th>\n",
              "      <td>27</td>\n",
              "      <td>57000</td>\n",
              "    </tr>\n",
              "    <tr>\n",
              "      <th>4</th>\n",
              "      <td>19</td>\n",
              "      <td>76000</td>\n",
              "    </tr>\n",
              "    <tr>\n",
              "      <th>...</th>\n",
              "      <td>...</td>\n",
              "      <td>...</td>\n",
              "    </tr>\n",
              "    <tr>\n",
              "      <th>395</th>\n",
              "      <td>46</td>\n",
              "      <td>41000</td>\n",
              "    </tr>\n",
              "    <tr>\n",
              "      <th>396</th>\n",
              "      <td>51</td>\n",
              "      <td>23000</td>\n",
              "    </tr>\n",
              "    <tr>\n",
              "      <th>397</th>\n",
              "      <td>50</td>\n",
              "      <td>20000</td>\n",
              "    </tr>\n",
              "    <tr>\n",
              "      <th>398</th>\n",
              "      <td>36</td>\n",
              "      <td>33000</td>\n",
              "    </tr>\n",
              "    <tr>\n",
              "      <th>399</th>\n",
              "      <td>49</td>\n",
              "      <td>36000</td>\n",
              "    </tr>\n",
              "  </tbody>\n",
              "</table>\n",
              "<p>400 rows × 2 columns</p>\n",
              "</div>"
            ],
            "text/plain": [
              "     Age  EstimatedSalary\n",
              "0     19            19000\n",
              "1     35            20000\n",
              "2     26            43000\n",
              "3     27            57000\n",
              "4     19            76000\n",
              "..   ...              ...\n",
              "395   46            41000\n",
              "396   51            23000\n",
              "397   50            20000\n",
              "398   36            33000\n",
              "399   49            36000\n",
              "\n",
              "[400 rows x 2 columns]"
            ]
          },
          "metadata": {},
          "execution_count": 5
        }
      ]
    },
    {
      "cell_type": "markdown",
      "metadata": {
        "id": "dwcv1yhVJIoh"
      },
      "source": [
        "##3. Normalize data"
      ]
    },
    {
      "cell_type": "code",
      "metadata": {
        "id": "sBt6pi-kJSFH"
      },
      "source": [
        "scalerX = StandardScaler().fit_transform(X)"
      ],
      "execution_count": null,
      "outputs": []
    },
    {
      "cell_type": "markdown",
      "metadata": {
        "id": "0kIIsW9KLXAH"
      },
      "source": [
        "##4.Chia tập dữ liệu +  Áp dụng các Classifier để tính toán + Tính độ chính xác (trong một hàm **kFold_each_model()**"
      ]
    },
    {
      "cell_type": "code",
      "metadata": {
        "id": "NObuoPnLUi55"
      },
      "source": [
        "def kFold_each_model(model, n_splits):\n",
        "  evaluate = KFold(n_splits=n_splits, random_state=None)\n",
        "  model = model\n",
        "  \n",
        "  acc_score = []\n",
        "  \n",
        "  for train_index , test_index in evaluate.split(X):\n",
        "      X_train , X_test = scalerX[train_index,:],scalerX[test_index,:]\n",
        "      y_train , y_test = y[train_index] , y[test_index]\n",
        "      \n",
        "      model.fit(X_train,y_train)\n",
        "      predictY = model.predict(X_test)\n",
        "      \n",
        "      acc = accuracy_score(predictY , y_test)\n",
        "      acc_score.append(acc)\n",
        "      \n",
        "  avg_acc_score = round(sum(acc_score)/n_splits,3)\n",
        "  acc_score.append(avg_acc_score)\n",
        "  return acc_score, X_test, y_test, predictY"
      ],
      "execution_count": null,
      "outputs": []
    },
    {
      "cell_type": "markdown",
      "metadata": {
        "id": "OymJrDV_LmS1"
      },
      "source": [
        "###4.1 KNN"
      ]
    },
    {
      "cell_type": "code",
      "metadata": {
        "colab": {
          "base_uri": "https://localhost:8080/"
        },
        "id": "Vw_YB_gvLTJc",
        "outputId": "9867a829-70fe-4994-c138-7cb679cbe3d3"
      },
      "source": [
        "knn = KNeighborsClassifier(n_neighbors=5)\n",
        "acc_score_knn, X_test, y_test_knn, predictY_knn = kFold_each_model(knn, 5)\n",
        "y_test_knn.shape\n",
        "# fig = plt.figure(figsize=(8,8))\n",
        "# plt.scatter(X_test, predictY_knn)\n",
        "# plt.show()"
      ],
      "execution_count": null,
      "outputs": [
        {
          "output_type": "execute_result",
          "data": {
            "text/plain": [
              "(80,)"
            ]
          },
          "metadata": {},
          "execution_count": 42
        }
      ]
    },
    {
      "cell_type": "markdown",
      "metadata": {
        "id": "bOjcejBmOtN-"
      },
      "source": [
        "##4.2 SVM"
      ]
    },
    {
      "cell_type": "code",
      "metadata": {
        "colab": {
          "base_uri": "https://localhost:8080/"
        },
        "id": "zuermxp_Oxf2",
        "outputId": "89fc2991-0d0b-4555-c1c1-2d7955687aac"
      },
      "source": [
        "svc = SVC()\n",
        "acc_score_svm= kFold_each_model(svc, 5)\n",
        "acc_score_svm"
      ],
      "execution_count": null,
      "outputs": [
        {
          "output_type": "execute_result",
          "data": {
            "text/plain": [
              "[0.95, 0.975, 0.825, 0.85, 0.9375, 0.908]"
            ]
          },
          "metadata": {},
          "execution_count": 9
        }
      ]
    },
    {
      "cell_type": "markdown",
      "metadata": {
        "id": "4mdWOKm_O9rZ"
      },
      "source": [
        "##4.3 Decision Tree"
      ]
    },
    {
      "cell_type": "code",
      "metadata": {
        "colab": {
          "base_uri": "https://localhost:8080/"
        },
        "id": "XUuJY0d_O93a",
        "outputId": "fa45cbda-cb59-4c41-8f4d-fabc10670aec"
      },
      "source": [
        "dtree = DecisionTreeClassifier()\n",
        "acc_score_dtree = kFold_each_model(dtree, 5)\n",
        "acc_score_dtree"
      ],
      "execution_count": null,
      "outputs": [
        {
          "output_type": "execute_result",
          "data": {
            "text/plain": [
              "[0.875, 0.95, 0.825, 0.8, 0.8375, 0.858]"
            ]
          },
          "metadata": {},
          "execution_count": 10
        }
      ]
    },
    {
      "cell_type": "markdown",
      "metadata": {
        "id": "hpQvverKO-H4"
      },
      "source": [
        "##4.4 Naive Bayes"
      ]
    },
    {
      "cell_type": "code",
      "metadata": {
        "colab": {
          "base_uri": "https://localhost:8080/"
        },
        "id": "B92YT2yVO-Ul",
        "outputId": "cae337aa-d8cb-4907-c139-36e375ff354a"
      },
      "source": [
        "NB = GaussianNB()\n",
        "acc_score_nb = kFold_each_model(NB, 5)\n",
        "acc_score_nb"
      ],
      "execution_count": null,
      "outputs": [
        {
          "output_type": "execute_result",
          "data": {
            "text/plain": [
              "[0.9, 0.9375, 0.825, 0.825, 0.8, 0.857]"
            ]
          },
          "metadata": {},
          "execution_count": 11
        }
      ]
    },
    {
      "cell_type": "markdown",
      "metadata": {
        "id": "2-sS3nXfLmZ9"
      },
      "source": [
        "##4.5 Random Forest"
      ]
    },
    {
      "cell_type": "code",
      "metadata": {
        "colab": {
          "base_uri": "https://localhost:8080/"
        },
        "id": "L55uwRUMPQQi",
        "outputId": "acf1a5fb-b8ef-413c-e304-bb718c53ab62"
      },
      "source": [
        "RF = RandomForestClassifier()\n",
        "acc_score_rf= kFold_each_model(RF, 5)\n",
        "acc_score_rf"
      ],
      "execution_count": null,
      "outputs": [
        {
          "output_type": "execute_result",
          "data": {
            "text/plain": [
              "[0.9375, 0.9625, 0.8125, 0.85, 0.875, 0.888]"
            ]
          },
          "metadata": {},
          "execution_count": 12
        }
      ]
    },
    {
      "cell_type": "markdown",
      "metadata": {
        "id": "4PNxLA7pPQZq"
      },
      "source": [
        "##4.6 Logistic Regression"
      ]
    },
    {
      "cell_type": "code",
      "metadata": {
        "colab": {
          "base_uri": "https://localhost:8080/"
        },
        "id": "IYZR4DW2PZ0M",
        "outputId": "fe383033-cbaf-41ff-9614-7242139f4f9c"
      },
      "source": [
        "lr = LogisticRegression()\n",
        "acc_score_lr = kFold_each_model(lr, 5)\n",
        "acc_score_lr"
      ],
      "execution_count": null,
      "outputs": [
        {
          "output_type": "execute_result",
          "data": {
            "text/plain": [
              "[0.7875, 0.9125, 0.825, 0.8375, 0.75, 0.822]"
            ]
          },
          "metadata": {},
          "execution_count": 13
        }
      ]
    },
    {
      "cell_type": "markdown",
      "metadata": {
        "id": "S09QCLfaZkJq"
      },
      "source": [
        "##4.7 SVM Kernel polynomial"
      ]
    },
    {
      "cell_type": "code",
      "metadata": {
        "colab": {
          "base_uri": "https://localhost:8080/"
        },
        "id": "mcI69NORZkTo",
        "outputId": "a9590ef9-6405-44b7-f7ce-a2193c2acdca"
      },
      "source": [
        "svcpoly = SVC(kernel='poly')\n",
        "acc_score_svmpoly= kFold_each_model(svcpoly, 5)\n",
        "acc_score_svmpoly"
      ],
      "execution_count": null,
      "outputs": [
        {
          "output_type": "execute_result",
          "data": {
            "text/plain": [
              "[0.8375, 0.95, 0.825, 0.7625, 0.675, 0.81]"
            ]
          },
          "metadata": {},
          "execution_count": 14
        }
      ]
    },
    {
      "cell_type": "markdown",
      "metadata": {
        "id": "hCsHSBlsZkeQ"
      },
      "source": [
        "##4.8 SVM Kernel RBF"
      ]
    },
    {
      "cell_type": "code",
      "metadata": {
        "colab": {
          "base_uri": "https://localhost:8080/"
        },
        "id": "QAbaInBHZknY",
        "outputId": "4f92bfe8-f88d-40d6-ecf0-a9109155f64c"
      },
      "source": [
        "svcrbf = SVC(kernel='rbf')\n",
        "acc_score_svmrbf = kFold_each_model(svcrbf, 5)\n",
        "acc_score_svmrbf"
      ],
      "execution_count": null,
      "outputs": [
        {
          "output_type": "execute_result",
          "data": {
            "text/plain": [
              "[0.95, 0.975, 0.825, 0.85, 0.9375, 0.908]"
            ]
          },
          "metadata": {},
          "execution_count": 15
        }
      ]
    },
    {
      "cell_type": "markdown",
      "metadata": {
        "id": "EXICLWA1XLU4"
      },
      "source": [
        "#5. Comparision Table"
      ]
    },
    {
      "cell_type": "code",
      "metadata": {
        "id": "C4Pi4Yy0XT6Q"
      },
      "source": [
        "listofKeys = ['KNN', 'SVM', 'SVM Polyminal', 'SVM RBF', 'Decision Tree', 'Naive Bayes', 'Random Forest', 'Logistic Regression', 'Average']\n",
        "listofAcc = [acc_score_knn, acc_score_svm,acc_score_svmpoly,acc_score_svmrbf, acc_score_dtree,acc_score_nb,acc_score_rf,acc_score_lr ]"
      ],
      "execution_count": null,
      "outputs": []
    },
    {
      "cell_type": "code",
      "metadata": {
        "colab": {
          "base_uri": "https://localhost:8080/",
          "height": 235
        },
        "id": "Yfo0YUV8gKbX",
        "outputId": "acf0e7fd-71da-4e7c-9dde-12f72549f70d"
      },
      "source": [
        "zipResut = zip(listofKeys, listofAcc)\n",
        "dictofData = dict(zipResut)\n",
        "_result = pd.DataFrame(dictofData)\n",
        "index = ['Fold 1', 'Fold 2', 'Fold 3', 'Fold 4', 'Fold 5', 'Average']\n",
        "_result.index = index\n",
        "_result"
      ],
      "execution_count": null,
      "outputs": [
        {
          "output_type": "execute_result",
          "data": {
            "text/html": [
              "<div>\n",
              "<style scoped>\n",
              "    .dataframe tbody tr th:only-of-type {\n",
              "        vertical-align: middle;\n",
              "    }\n",
              "\n",
              "    .dataframe tbody tr th {\n",
              "        vertical-align: top;\n",
              "    }\n",
              "\n",
              "    .dataframe thead th {\n",
              "        text-align: right;\n",
              "    }\n",
              "</style>\n",
              "<table border=\"1\" class=\"dataframe\">\n",
              "  <thead>\n",
              "    <tr style=\"text-align: right;\">\n",
              "      <th></th>\n",
              "      <th>KNN</th>\n",
              "      <th>SVM</th>\n",
              "      <th>SVM Polyminal</th>\n",
              "      <th>SVM RBF</th>\n",
              "      <th>Decision Tree</th>\n",
              "      <th>Naive Bayes</th>\n",
              "      <th>Random Forest</th>\n",
              "      <th>Logistic Regression</th>\n",
              "    </tr>\n",
              "  </thead>\n",
              "  <tbody>\n",
              "    <tr>\n",
              "      <th>Fold 1</th>\n",
              "      <td>0.950</td>\n",
              "      <td>0.9500</td>\n",
              "      <td>0.8375</td>\n",
              "      <td>0.9500</td>\n",
              "      <td>0.8750</td>\n",
              "      <td>0.9000</td>\n",
              "      <td>0.9375</td>\n",
              "      <td>0.7875</td>\n",
              "    </tr>\n",
              "    <tr>\n",
              "      <th>Fold 2</th>\n",
              "      <td>0.950</td>\n",
              "      <td>0.9750</td>\n",
              "      <td>0.9500</td>\n",
              "      <td>0.9750</td>\n",
              "      <td>0.9500</td>\n",
              "      <td>0.9375</td>\n",
              "      <td>0.9625</td>\n",
              "      <td>0.9125</td>\n",
              "    </tr>\n",
              "    <tr>\n",
              "      <th>Fold 3</th>\n",
              "      <td>0.825</td>\n",
              "      <td>0.8250</td>\n",
              "      <td>0.8250</td>\n",
              "      <td>0.8250</td>\n",
              "      <td>0.8250</td>\n",
              "      <td>0.8250</td>\n",
              "      <td>0.8125</td>\n",
              "      <td>0.8250</td>\n",
              "    </tr>\n",
              "    <tr>\n",
              "      <th>Fold 4</th>\n",
              "      <td>0.850</td>\n",
              "      <td>0.8500</td>\n",
              "      <td>0.7625</td>\n",
              "      <td>0.8500</td>\n",
              "      <td>0.8000</td>\n",
              "      <td>0.8250</td>\n",
              "      <td>0.8500</td>\n",
              "      <td>0.8375</td>\n",
              "    </tr>\n",
              "    <tr>\n",
              "      <th>Fold 5</th>\n",
              "      <td>0.900</td>\n",
              "      <td>0.9375</td>\n",
              "      <td>0.6750</td>\n",
              "      <td>0.9375</td>\n",
              "      <td>0.8375</td>\n",
              "      <td>0.8000</td>\n",
              "      <td>0.8750</td>\n",
              "      <td>0.7500</td>\n",
              "    </tr>\n",
              "    <tr>\n",
              "      <th>Average</th>\n",
              "      <td>0.895</td>\n",
              "      <td>0.9080</td>\n",
              "      <td>0.8100</td>\n",
              "      <td>0.9080</td>\n",
              "      <td>0.8580</td>\n",
              "      <td>0.8570</td>\n",
              "      <td>0.8880</td>\n",
              "      <td>0.8220</td>\n",
              "    </tr>\n",
              "  </tbody>\n",
              "</table>\n",
              "</div>"
            ],
            "text/plain": [
              "           KNN     SVM  ...  Random Forest  Logistic Regression\n",
              "Fold 1   0.950  0.9500  ...         0.9375               0.7875\n",
              "Fold 2   0.950  0.9750  ...         0.9625               0.9125\n",
              "Fold 3   0.825  0.8250  ...         0.8125               0.8250\n",
              "Fold 4   0.850  0.8500  ...         0.8500               0.8375\n",
              "Fold 5   0.900  0.9375  ...         0.8750               0.7500\n",
              "Average  0.895  0.9080  ...         0.8880               0.8220\n",
              "\n",
              "[6 rows x 8 columns]"
            ]
          },
          "metadata": {},
          "execution_count": 18
        }
      ]
    }
  ]
}