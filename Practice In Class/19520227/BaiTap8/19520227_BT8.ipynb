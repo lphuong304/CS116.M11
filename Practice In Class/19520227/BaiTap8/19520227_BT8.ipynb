{
  "nbformat": 4,
  "nbformat_minor": 0,
  "metadata": {
    "colab": {
      "name": "19520227_BT8.ipynb",
      "provenance": [],
      "collapsed_sections": [],
      "authorship_tag": "ABX9TyNQcdadik9nwujuvt0vIop9",
      "include_colab_link": true
    },
    "kernelspec": {
      "name": "python3",
      "display_name": "Python 3"
    },
    "language_info": {
      "name": "python"
    }
  },
  "cells": [
    {
      "cell_type": "markdown",
      "metadata": {
        "id": "view-in-github",
        "colab_type": "text"
      },
      "source": [
        "<a href=\"https://colab.research.google.com/github/lphuong304/CS116.M11/blob/main/Practice%20In%20Class/19520227/BaiTap8/19520227_BT8.ipynb\" target=\"_parent\"><img src=\"https://colab.research.google.com/assets/colab-badge.svg\" alt=\"Open In Colab\"/></a>"
      ]
    },
    {
      "cell_type": "markdown",
      "metadata": {
        "id": "uRoHrP3PUkLh"
      },
      "source": [
        "<h1 align=\"center\"><strong>BÀI TẬP 8 - 26/10/2021</strong></h1>\n",
        "<h1 align=\"center\"><strong>LẬP TRÌNH PYTHON CHO MÁY HỌC CS116.M11 - BÀI TOÁN LINEAR REGRESSION </strong></h1>\n",
        "\n",
        "# GIỚI THIỆU:\n",
        "\n",
        "1. Họ và tên: Nguyễn Ngọc Lan Phương\n",
        "2. MSSV: 19520227 - KHMT2019\n",
        "3. Lớp: CS116.M11\n",
        "4. Bài tập: Bài toán Linear Regression.\n",
        "5. Ngày thực hiện: 26/10/2021\n",
        "\n",
        "# MỤC LỤC\n",
        "1. [get data](#1)\n",
        "2. [import packages](#2)\n",
        "3. [bài tập 1: linear regression đơn biến](#3)\n",
        "4. [bài tập 2: linear regression đa biến](#4)"
      ]
    },
    {
      "cell_type": "markdown",
      "metadata": {
        "id": "sbpvn1lAU2DI"
      },
      "source": [
        "<a name = \"1\"></a>\n",
        "#1. import packages"
      ]
    },
    {
      "cell_type": "code",
      "metadata": {
        "id": "PH8Bw9F_YjtL"
      },
      "source": [
        "import os\n",
        "import pandas as pd\n",
        "import numpy as np\n",
        "import matplotlib.pyplot as plt\n",
        "from sklearn.linear_model import LinearRegression, LogisticRegression, Ridge, Lasso\n",
        "from sklearn.preprocessing import StandardScaler, LabelEncoder, OneHotEncoder\n",
        "from sklearn.metrics import accuracy_score, mean_squared_error\n",
        "from sklearn.model_selection import train_test_split, KFold\n",
        "from sklearn.tree import DecisionTreeClassifier\n",
        "from sklearn.ensemble import RandomForestClassifier\n",
        "from sklearn.svm import SVC\n",
        "from sklearn.neighbors import KNeighborsClassifier\n",
        "from sklearn.naive_bayes import GaussianNB\n",
        "import warnings\n",
        "warnings.filterwarnings('ignore')"
      ],
      "execution_count": null,
      "outputs": []
    },
    {
      "cell_type": "markdown",
      "metadata": {
        "id": "EQVvyXLsYjkH"
      },
      "source": [
        "<a name = \"2\"></a>\n",
        "#2. get data"
      ]
    },
    {
      "cell_type": "code",
      "metadata": {
        "id": "D8onIUTdUgMf",
        "colab": {
          "base_uri": "https://localhost:8080/"
        },
        "outputId": "364dc84b-b941-40a0-cbb4-0767111e707f"
      },
      "source": [
        "!gdown --id 1TskjrzWz6NN0HUGlXNGZ89GXANeta9Rr\n",
        "!gdown --id 1Io9T7pIjRUck79cPMuowq--tleM868fQ"
      ],
      "execution_count": null,
      "outputs": [
        {
          "output_type": "stream",
          "name": "stdout",
          "text": [
            "Downloading...\n",
            "From: https://drive.google.com/uc?id=1TskjrzWz6NN0HUGlXNGZ89GXANeta9Rr\n",
            "To: /content/Salary_Data.csv\n",
            "100% 454/454 [00:00<00:00, 759kB/s]\n",
            "Downloading...\n",
            "From: https://drive.google.com/uc?id=1Io9T7pIjRUck79cPMuowq--tleM868fQ\n",
            "To: /content/50_Startups.csv\n",
            "100% 2.44k/2.44k [00:00<00:00, 3.56MB/s]\n"
          ]
        }
      ]
    },
    {
      "cell_type": "code",
      "metadata": {
        "id": "4rqs-zmAbHSB",
        "colab": {
          "base_uri": "https://localhost:8080/",
          "height": 203
        },
        "outputId": "60661087-6db9-43fc-8a49-a0c40936a13d"
      },
      "source": [
        "dataSalary = pd.read_csv('/content/Salary_Data.csv')\n",
        "dataSalary.head(5)"
      ],
      "execution_count": null,
      "outputs": [
        {
          "output_type": "execute_result",
          "data": {
            "text/html": [
              "<div>\n",
              "<style scoped>\n",
              "    .dataframe tbody tr th:only-of-type {\n",
              "        vertical-align: middle;\n",
              "    }\n",
              "\n",
              "    .dataframe tbody tr th {\n",
              "        vertical-align: top;\n",
              "    }\n",
              "\n",
              "    .dataframe thead th {\n",
              "        text-align: right;\n",
              "    }\n",
              "</style>\n",
              "<table border=\"1\" class=\"dataframe\">\n",
              "  <thead>\n",
              "    <tr style=\"text-align: right;\">\n",
              "      <th></th>\n",
              "      <th>YearsExperience</th>\n",
              "      <th>Salary</th>\n",
              "    </tr>\n",
              "  </thead>\n",
              "  <tbody>\n",
              "    <tr>\n",
              "      <th>0</th>\n",
              "      <td>1.1</td>\n",
              "      <td>39343.0</td>\n",
              "    </tr>\n",
              "    <tr>\n",
              "      <th>1</th>\n",
              "      <td>1.3</td>\n",
              "      <td>46205.0</td>\n",
              "    </tr>\n",
              "    <tr>\n",
              "      <th>2</th>\n",
              "      <td>1.5</td>\n",
              "      <td>37731.0</td>\n",
              "    </tr>\n",
              "    <tr>\n",
              "      <th>3</th>\n",
              "      <td>2.0</td>\n",
              "      <td>43525.0</td>\n",
              "    </tr>\n",
              "    <tr>\n",
              "      <th>4</th>\n",
              "      <td>2.2</td>\n",
              "      <td>39891.0</td>\n",
              "    </tr>\n",
              "  </tbody>\n",
              "</table>\n",
              "</div>"
            ],
            "text/plain": [
              "   YearsExperience   Salary\n",
              "0              1.1  39343.0\n",
              "1              1.3  46205.0\n",
              "2              1.5  37731.0\n",
              "3              2.0  43525.0\n",
              "4              2.2  39891.0"
            ]
          },
          "metadata": {},
          "execution_count": 98
        }
      ]
    },
    {
      "cell_type": "code",
      "metadata": {
        "colab": {
          "base_uri": "https://localhost:8080/",
          "height": 203
        },
        "id": "dcEmGsVtsnln",
        "outputId": "d4bd5ae8-cb35-4588-8785-71e81aeffb95"
      },
      "source": [
        "dataStartup = pd.read_csv('/content/50_Startups.csv')\n",
        "dataStartup.head(5)"
      ],
      "execution_count": null,
      "outputs": [
        {
          "output_type": "execute_result",
          "data": {
            "text/html": [
              "<div>\n",
              "<style scoped>\n",
              "    .dataframe tbody tr th:only-of-type {\n",
              "        vertical-align: middle;\n",
              "    }\n",
              "\n",
              "    .dataframe tbody tr th {\n",
              "        vertical-align: top;\n",
              "    }\n",
              "\n",
              "    .dataframe thead th {\n",
              "        text-align: right;\n",
              "    }\n",
              "</style>\n",
              "<table border=\"1\" class=\"dataframe\">\n",
              "  <thead>\n",
              "    <tr style=\"text-align: right;\">\n",
              "      <th></th>\n",
              "      <th>R&amp;D Spend</th>\n",
              "      <th>Administration</th>\n",
              "      <th>Marketing Spend</th>\n",
              "      <th>State</th>\n",
              "      <th>Profit</th>\n",
              "    </tr>\n",
              "  </thead>\n",
              "  <tbody>\n",
              "    <tr>\n",
              "      <th>0</th>\n",
              "      <td>165349.20</td>\n",
              "      <td>136897.80</td>\n",
              "      <td>471784.10</td>\n",
              "      <td>New York</td>\n",
              "      <td>192261.83</td>\n",
              "    </tr>\n",
              "    <tr>\n",
              "      <th>1</th>\n",
              "      <td>162597.70</td>\n",
              "      <td>151377.59</td>\n",
              "      <td>443898.53</td>\n",
              "      <td>California</td>\n",
              "      <td>191792.06</td>\n",
              "    </tr>\n",
              "    <tr>\n",
              "      <th>2</th>\n",
              "      <td>153441.51</td>\n",
              "      <td>101145.55</td>\n",
              "      <td>407934.54</td>\n",
              "      <td>Florida</td>\n",
              "      <td>191050.39</td>\n",
              "    </tr>\n",
              "    <tr>\n",
              "      <th>3</th>\n",
              "      <td>144372.41</td>\n",
              "      <td>118671.85</td>\n",
              "      <td>383199.62</td>\n",
              "      <td>New York</td>\n",
              "      <td>182901.99</td>\n",
              "    </tr>\n",
              "    <tr>\n",
              "      <th>4</th>\n",
              "      <td>142107.34</td>\n",
              "      <td>91391.77</td>\n",
              "      <td>366168.42</td>\n",
              "      <td>Florida</td>\n",
              "      <td>166187.94</td>\n",
              "    </tr>\n",
              "  </tbody>\n",
              "</table>\n",
              "</div>"
            ],
            "text/plain": [
              "   R&D Spend  Administration  Marketing Spend       State     Profit\n",
              "0  165349.20       136897.80        471784.10    New York  192261.83\n",
              "1  162597.70       151377.59        443898.53  California  191792.06\n",
              "2  153441.51       101145.55        407934.54     Florida  191050.39\n",
              "3  144372.41       118671.85        383199.62    New York  182901.99\n",
              "4  142107.34        91391.77        366168.42     Florida  166187.94"
            ]
          },
          "metadata": {},
          "execution_count": 99
        }
      ]
    },
    {
      "cell_type": "markdown",
      "metadata": {
        "id": "DGA9ZP1ssuit"
      },
      "source": [
        "<a name = \"3\"></a>\n",
        "#3. Bài tập 1: Bài tập Linear Regression đơn biến"
      ]
    },
    {
      "cell_type": "code",
      "metadata": {
        "id": "g9o1ec60sfaJ"
      },
      "source": [
        "X1 = dataSalary.iloc[:,:-1]\n",
        "y1 = dataSalary.iloc[:,-1:]"
      ],
      "execution_count": null,
      "outputs": []
    },
    {
      "cell_type": "markdown",
      "metadata": {
        "id": "38Ea3pcptctq"
      },
      "source": [
        "###3.1 Phân chia tập train:test (8:2)"
      ]
    },
    {
      "cell_type": "code",
      "metadata": {
        "colab": {
          "base_uri": "https://localhost:8080/"
        },
        "id": "w5wqUekNtku_",
        "outputId": "321931d7-9ca1-492a-f240-5e3fa135e6d9"
      },
      "source": [
        "X_trainSal, X_testSal, y_trainSal, y_testSal = train_test_split(X1,y1,test_size = 0.2, random_state = 42)\n",
        "print('Số mẫu dữ liệu trong tập train:{}'.format(X_trainSal.shape))\n",
        "print('Số mẫu dữ liệu trong tập test:{}'.format(X_testSal.shape))"
      ],
      "execution_count": null,
      "outputs": [
        {
          "output_type": "stream",
          "name": "stdout",
          "text": [
            "Số mẫu dữ liệu trong tập train:(24, 1)\n",
            "Số mẫu dữ liệu trong tập test:(6, 1)\n"
          ]
        }
      ]
    },
    {
      "cell_type": "markdown",
      "metadata": {
        "id": "0adgb2ljuKMi"
      },
      "source": [
        "###3.2 Dùng Linear Regression để dự đoán"
      ]
    },
    {
      "cell_type": "code",
      "metadata": {
        "colab": {
          "base_uri": "https://localhost:8080/"
        },
        "id": "6t2uALjfuJc5",
        "outputId": "69d22db9-2466-4437-f054-dfa7d8a7cf34"
      },
      "source": [
        "lr1 = LinearRegression()\n",
        "lr1.fit(X_trainSal, y_trainSal)\n",
        "\n",
        "predictSal = lr1.predict(X_testSal)\n",
        "\n",
        "loss = lr1.score( X_testSal,y_testSal)\n",
        "print('Score: {}'.format(round(loss,3)))"
      ],
      "execution_count": null,
      "outputs": [
        {
          "output_type": "stream",
          "name": "stdout",
          "text": [
            "Score: 0.902\n"
          ]
        }
      ]
    },
    {
      "cell_type": "markdown",
      "metadata": {
        "id": "2NCwP55Uz_Ef"
      },
      "source": [
        "###3.3 Visualize"
      ]
    },
    {
      "cell_type": "code",
      "metadata": {
        "colab": {
          "base_uri": "https://localhost:8080/",
          "height": 355
        },
        "id": "21v6cAG8nIy4",
        "outputId": "092f7b57-4554-4eaf-e8fc-aa81c28efd82"
      },
      "source": [
        "#visulize datasets\n",
        "_,ax = plt.subplots(nrows=1, ncols=1, figsize = (8,5))\n",
        "ax.scatter(X1, y1, facecolor='crimson', alpha=0.7, label='y_test')\n",
        "ax.set_xlabel('Years Experience', fontsize = 14)\n",
        "ax.set_ylabel('Salary', fontsize = 14)\n",
        "plt.show"
      ],
      "execution_count": null,
      "outputs": [
        {
          "output_type": "execute_result",
          "data": {
            "text/plain": [
              "<function matplotlib.pyplot.show>"
            ]
          },
          "metadata": {},
          "execution_count": 103
        },
        {
          "output_type": "display_data",
          "data": {
            "image/png": "[encoded data removed]",
            "text/plain": [
              "<Figure size 576x360 with 1 Axes>"
            ]
          },
          "metadata": {
            "needs_background": "light"
          }
        }
      ]
    },
    {
      "cell_type": "code",
      "metadata": {
        "colab": {
          "base_uri": "https://localhost:8080/",
          "height": 355
        },
        "id": "GFXtHUGS0Bgb",
        "outputId": "736cad40-0c28-4a22-ba89-1d327e536f8a"
      },
      "source": [
        "#visulize model\n",
        "_,ax = plt.subplots(nrows=1, ncols=1, figsize = (8,5))\n",
        "ax.scatter(X_testSal, y_testSal, facecolor='crimson', alpha=0.7, label='y_test')\n",
        "ax.set_xlabel('Years Experience', fontsize = 14)\n",
        "ax.set_ylabel('Salary', fontsize = 14)\n",
        "ax.plot(X_testSal,predictSal, color = 'purple', label = 'predict')\n",
        "ax.legend(['predict','y_test'])\n",
        "plt.show"
      ],
      "execution_count": null,
      "outputs": [
        {
          "output_type": "execute_result",
          "data": {
            "text/plain": [
              "<function matplotlib.pyplot.show>"
            ]
          },
          "metadata": {},
          "execution_count": 104
        },
        {
          "output_type": "display_data",
          "data": {
            "image/png": "[encoded data removed]",
            "text/plain": [
              "<Figure size 576x360 with 1 Axes>"
            ]
          },
          "metadata": {
            "needs_background": "light"
          }
        }
      ]
    },
    {
      "cell_type": "markdown",
      "metadata": {
        "id": "uE7HwQbAXJHo"
      },
      "source": [
        "###3.4 Sử dụng các mô hình Classifier và KFold"
      ]
    },
    {
      "cell_type": "code",
      "metadata": {
        "colab": {
          "base_uri": "https://localhost:8080/",
          "height": 973
        },
        "id": "g6gA8uAOktNn",
        "outputId": "e3d7396f-606a-43ce-fa6b-d941e61ddd62"
      },
      "source": [
        "#convert continuous data to catergorical\n",
        "catergory = pd.cut(dataSalary.Salary,bins=[0,20000,40000,60000,70000,80000,90000,100000,110000,120000,130000,140000,150000,160000,180000,200000],labels=['0','1','2','3','4','5','6','7','8','9','10','11','12','13','14'])\n",
        "dataSalary.insert(1,'Salary_Catergorical', catergory)\n",
        "dataSalCater = dataSalary[['YearsExperience','Salary_Catergorical']]\n",
        "dataSalCater"
      ],
      "execution_count": null,
      "outputs": [
        {
          "output_type": "execute_result",
          "data": {
            "text/html": [
              "<div>\n",
              "<style scoped>\n",
              "    .dataframe tbody tr th:only-of-type {\n",
              "        vertical-align: middle;\n",
              "    }\n",
              "\n",
              "    .dataframe tbody tr th {\n",
              "        vertical-align: top;\n",
              "    }\n",
              "\n",
              "    .dataframe thead th {\n",
              "        text-align: right;\n",
              "    }\n",
              "</style>\n",
              "<table border=\"1\" class=\"dataframe\">\n",
              "  <thead>\n",
              "    <tr style=\"text-align: right;\">\n",
              "      <th></th>\n",
              "      <th>YearsExperience</th>\n",
              "      <th>Salary_Catergorical</th>\n",
              "    </tr>\n",
              "  </thead>\n",
              "  <tbody>\n",
              "    <tr>\n",
              "      <th>0</th>\n",
              "      <td>1.1</td>\n",
              "      <td>1</td>\n",
              "    </tr>\n",
              "    <tr>\n",
              "      <th>1</th>\n",
              "      <td>1.3</td>\n",
              "      <td>2</td>\n",
              "    </tr>\n",
              "    <tr>\n",
              "      <th>2</th>\n",
              "      <td>1.5</td>\n",
              "      <td>1</td>\n",
              "    </tr>\n",
              "    <tr>\n",
              "      <th>3</th>\n",
              "      <td>2.0</td>\n",
              "      <td>2</td>\n",
              "    </tr>\n",
              "    <tr>\n",
              "      <th>4</th>\n",
              "      <td>2.2</td>\n",
              "      <td>1</td>\n",
              "    </tr>\n",
              "    <tr>\n",
              "      <th>5</th>\n",
              "      <td>2.9</td>\n",
              "      <td>2</td>\n",
              "    </tr>\n",
              "    <tr>\n",
              "      <th>6</th>\n",
              "      <td>3.0</td>\n",
              "      <td>3</td>\n",
              "    </tr>\n",
              "    <tr>\n",
              "      <th>7</th>\n",
              "      <td>3.2</td>\n",
              "      <td>2</td>\n",
              "    </tr>\n",
              "    <tr>\n",
              "      <th>8</th>\n",
              "      <td>3.2</td>\n",
              "      <td>3</td>\n",
              "    </tr>\n",
              "    <tr>\n",
              "      <th>9</th>\n",
              "      <td>3.7</td>\n",
              "      <td>2</td>\n",
              "    </tr>\n",
              "    <tr>\n",
              "      <th>10</th>\n",
              "      <td>3.9</td>\n",
              "      <td>3</td>\n",
              "    </tr>\n",
              "    <tr>\n",
              "      <th>11</th>\n",
              "      <td>4.0</td>\n",
              "      <td>2</td>\n",
              "    </tr>\n",
              "    <tr>\n",
              "      <th>12</th>\n",
              "      <td>4.0</td>\n",
              "      <td>2</td>\n",
              "    </tr>\n",
              "    <tr>\n",
              "      <th>13</th>\n",
              "      <td>4.1</td>\n",
              "      <td>2</td>\n",
              "    </tr>\n",
              "    <tr>\n",
              "      <th>14</th>\n",
              "      <td>4.5</td>\n",
              "      <td>3</td>\n",
              "    </tr>\n",
              "    <tr>\n",
              "      <th>15</th>\n",
              "      <td>4.9</td>\n",
              "      <td>3</td>\n",
              "    </tr>\n",
              "    <tr>\n",
              "      <th>16</th>\n",
              "      <td>5.1</td>\n",
              "      <td>3</td>\n",
              "    </tr>\n",
              "    <tr>\n",
              "      <th>17</th>\n",
              "      <td>5.3</td>\n",
              "      <td>5</td>\n",
              "    </tr>\n",
              "    <tr>\n",
              "      <th>18</th>\n",
              "      <td>5.9</td>\n",
              "      <td>5</td>\n",
              "    </tr>\n",
              "    <tr>\n",
              "      <th>19</th>\n",
              "      <td>6.0</td>\n",
              "      <td>6</td>\n",
              "    </tr>\n",
              "    <tr>\n",
              "      <th>20</th>\n",
              "      <td>6.8</td>\n",
              "      <td>6</td>\n",
              "    </tr>\n",
              "    <tr>\n",
              "      <th>21</th>\n",
              "      <td>7.1</td>\n",
              "      <td>6</td>\n",
              "    </tr>\n",
              "    <tr>\n",
              "      <th>22</th>\n",
              "      <td>7.9</td>\n",
              "      <td>7</td>\n",
              "    </tr>\n",
              "    <tr>\n",
              "      <th>23</th>\n",
              "      <td>8.2</td>\n",
              "      <td>8</td>\n",
              "    </tr>\n",
              "    <tr>\n",
              "      <th>24</th>\n",
              "      <td>8.7</td>\n",
              "      <td>7</td>\n",
              "    </tr>\n",
              "    <tr>\n",
              "      <th>25</th>\n",
              "      <td>9.0</td>\n",
              "      <td>7</td>\n",
              "    </tr>\n",
              "    <tr>\n",
              "      <th>26</th>\n",
              "      <td>9.5</td>\n",
              "      <td>8</td>\n",
              "    </tr>\n",
              "    <tr>\n",
              "      <th>27</th>\n",
              "      <td>9.6</td>\n",
              "      <td>8</td>\n",
              "    </tr>\n",
              "    <tr>\n",
              "      <th>28</th>\n",
              "      <td>10.3</td>\n",
              "      <td>9</td>\n",
              "    </tr>\n",
              "    <tr>\n",
              "      <th>29</th>\n",
              "      <td>10.5</td>\n",
              "      <td>9</td>\n",
              "    </tr>\n",
              "  </tbody>\n",
              "</table>\n",
              "</div>"
            ],
            "text/plain": [
              "    YearsExperience Salary_Catergorical\n",
              "0               1.1                   1\n",
              "1               1.3                   2\n",
              "2               1.5                   1\n",
              "3               2.0                   2\n",
              "4               2.2                   1\n",
              "5               2.9                   2\n",
              "6               3.0                   3\n",
              "7               3.2                   2\n",
              "8               3.2                   3\n",
              "9               3.7                   2\n",
              "10              3.9                   3\n",
              "11              4.0                   2\n",
              "12              4.0                   2\n",
              "13              4.1                   2\n",
              "14              4.5                   3\n",
              "15              4.9                   3\n",
              "16              5.1                   3\n",
              "17              5.3                   5\n",
              "18              5.9                   5\n",
              "19              6.0                   6\n",
              "20              6.8                   6\n",
              "21              7.1                   6\n",
              "22              7.9                   7\n",
              "23              8.2                   8\n",
              "24              8.7                   7\n",
              "25              9.0                   7\n",
              "26              9.5                   8\n",
              "27              9.6                   8\n",
              "28             10.3                   9\n",
              "29             10.5                   9"
            ]
          },
          "metadata": {},
          "execution_count": 105
        }
      ]
    },
    {
      "cell_type": "code",
      "metadata": {
        "id": "TbVFPcaCy892"
      },
      "source": [
        "X3 = dataSalCater.iloc[:,:-1]\n",
        "y3 = dataSalCater.iloc[:,-1:]"
      ],
      "execution_count": null,
      "outputs": []
    },
    {
      "cell_type": "code",
      "metadata": {
        "id": "Z21-J_YRkcz1"
      },
      "source": [
        "#hàm chia data theo Kfold, predict và evaluate\n",
        "def kFold_each_model(X, y, model, n_splits):\n",
        "  evaluate = KFold(n_splits=n_splits, random_state=None)\n",
        "  model = model\n",
        "  \n",
        "  acc_score = []\n",
        "  \n",
        "  for train_index , test_index in evaluate.split(X):\n",
        "      X_train, X_test = X.iloc[train_index,:],X.iloc[test_index,:]\n",
        "      y_train, y_test = y.iloc[train_index] , y.iloc[test_index]\n",
        "      \n",
        "      model.fit(X_train,y_train)\n",
        "      predictY = model.predict(X_test)\n",
        "      \n",
        "      acc = model.score(X_test,y_test)\n",
        "      acc_score.append(round(acc,3))\n",
        "      \n",
        "  avg_acc_score = round(sum(acc_score)/n_splits,3)\n",
        "  acc_score.append(avg_acc_score)\n",
        "  return acc_score"
      ],
      "execution_count": null,
      "outputs": []
    },
    {
      "cell_type": "markdown",
      "metadata": {
        "id": "4Mlhe96ZfIy9"
      },
      "source": [
        "####3.4.1 KNN"
      ]
    },
    {
      "cell_type": "code",
      "metadata": {
        "colab": {
          "base_uri": "https://localhost:8080/"
        },
        "id": "-P2nAeOMemte",
        "outputId": "00c2abc7-2a32-4624-aa9d-81cc5bf726f5"
      },
      "source": [
        "knn = KNeighborsClassifier( n_neighbors=5)\n",
        "acc_score_knn = kFold_each_model(X3, y3,knn, 5)\n",
        "acc_score_knn"
      ],
      "execution_count": null,
      "outputs": [
        {
          "output_type": "execute_result",
          "data": {
            "text/plain": [
              "[0.0, 0.333, 0.333, 0.167, 0.0, 0.167]"
            ]
          },
          "metadata": {},
          "execution_count": 108
        }
      ]
    },
    {
      "cell_type": "markdown",
      "metadata": {
        "id": "akUQzE6HfWm7"
      },
      "source": [
        "####3.4.2 SVM BRF"
      ]
    },
    {
      "cell_type": "code",
      "metadata": {
        "colab": {
          "base_uri": "https://localhost:8080/"
        },
        "id": "ab4mrG9SfXHI",
        "outputId": "49186e9d-b065-4a4a-c335-88cb532ab39a"
      },
      "source": [
        "svc = SVC()\n",
        "acc_score_svm= kFold_each_model(X3, y3,svc, 5)\n",
        "acc_score_svm"
      ],
      "execution_count": null,
      "outputs": [
        {
          "output_type": "execute_result",
          "data": {
            "text/plain": [
              "[0.0, 0.5, 0.333, 0.167, 0.333, 0.267]"
            ]
          },
          "metadata": {},
          "execution_count": 109
        }
      ]
    },
    {
      "cell_type": "markdown",
      "metadata": {
        "id": "n2cJ4zQcfyrs"
      },
      "source": [
        "####3.4.3 Decision Tree"
      ]
    },
    {
      "cell_type": "code",
      "metadata": {
        "colab": {
          "base_uri": "https://localhost:8080/"
        },
        "id": "myISIe1ofyd-",
        "outputId": "80ea7ac8-053c-4b79-8ee6-30883d5ab53b"
      },
      "source": [
        "dtree = DecisionTreeClassifier()\n",
        "acc_score_dtree = kFold_each_model(X3, y3,dtree, 5)\n",
        "acc_score_dtree"
      ],
      "execution_count": null,
      "outputs": [
        {
          "output_type": "execute_result",
          "data": {
            "text/plain": [
              "[0.0, 0.5, 0.5, 0.333, 0.333, 0.333]"
            ]
          },
          "metadata": {},
          "execution_count": 110
        }
      ]
    },
    {
      "cell_type": "markdown",
      "metadata": {
        "id": "lxQSGbhHf0Ou"
      },
      "source": [
        "####3.4.4 Naive Bayes"
      ]
    },
    {
      "cell_type": "code",
      "metadata": {
        "colab": {
          "base_uri": "https://localhost:8080/"
        },
        "id": "YM9GsvmZf0X4",
        "outputId": "1cf33773-5f72-431f-8ece-d03205a30a68"
      },
      "source": [
        "NB = GaussianNB()\n",
        "acc_score_nb = kFold_each_model(X3, y3,NB, 5)\n",
        "acc_score_nb"
      ],
      "execution_count": null,
      "outputs": [
        {
          "output_type": "execute_result",
          "data": {
            "text/plain": [
              "[0.0, 0.5, 0.333, 0.0, 0.0, 0.167]"
            ]
          },
          "metadata": {},
          "execution_count": 111
        }
      ]
    },
    {
      "cell_type": "markdown",
      "metadata": {
        "id": "zhJeMOZTf0hw"
      },
      "source": [
        "####3.4.5 Random Forest"
      ]
    },
    {
      "cell_type": "code",
      "metadata": {
        "colab": {
          "base_uri": "https://localhost:8080/"
        },
        "id": "unebG7UQf0ql",
        "outputId": "e53b35a4-fb79-46d4-8223-7c62941f2803"
      },
      "source": [
        "RF = RandomForestClassifier()\n",
        "acc_score_rf= kFold_each_model(X3, y3,RF, 5)\n",
        "acc_score_rf"
      ],
      "execution_count": null,
      "outputs": [
        {
          "output_type": "execute_result",
          "data": {
            "text/plain": [
              "[0.0, 0.5, 0.5, 0.333, 0.333, 0.333]"
            ]
          },
          "metadata": {},
          "execution_count": 112
        }
      ]
    },
    {
      "cell_type": "markdown",
      "metadata": {
        "id": "5eygIOmhf0ys"
      },
      "source": [
        "####3.4.6 Logistic Regression"
      ]
    },
    {
      "cell_type": "code",
      "metadata": {
        "colab": {
          "base_uri": "https://localhost:8080/"
        },
        "id": "djsjZOJaf07S",
        "outputId": "8ae35262-86ea-4529-9882-81c0e9425d65"
      },
      "source": [
        "lr = LogisticRegression()\n",
        "acc_score_lr = kFold_each_model(X3, y3,lr, 5)\n",
        "acc_score_lr"
      ],
      "execution_count": null,
      "outputs": [
        {
          "output_type": "execute_result",
          "data": {
            "text/plain": [
              "[0.5, 0.5, 0.333, 0.167, 0.333, 0.367]"
            ]
          },
          "metadata": {},
          "execution_count": 113
        }
      ]
    },
    {
      "cell_type": "markdown",
      "metadata": {
        "id": "JfC3D2tR4oUI"
      },
      "source": [
        "####3.4.7 SVM Kernel polynomial"
      ]
    },
    {
      "cell_type": "code",
      "metadata": {
        "colab": {
          "base_uri": "https://localhost:8080/"
        },
        "id": "PbIZZoit4oG7",
        "outputId": "b6b753ab-c3ae-4def-b5a3-05165e4196e7"
      },
      "source": [
        "svcpoly = SVC(kernel='poly')\n",
        "acc_score_svmpoly= kFold_each_model(X3, y3,svcpoly, 5)\n",
        "acc_score_svmpoly"
      ],
      "execution_count": null,
      "outputs": [
        {
          "output_type": "execute_result",
          "data": {
            "text/plain": [
              "[0.5, 0.5, 0.5, 0.333, 0.333, 0.433]"
            ]
          },
          "metadata": {},
          "execution_count": 114
        }
      ]
    },
    {
      "cell_type": "code",
      "metadata": {
        "id": "aRXe2mOp475N"
      },
      "source": [
        "listofKeys = ['KNN', 'SVM', 'SVM Polyminal', 'Decision Tree', 'Naive Bayes', 'Random Forest', 'Logistic Regression', 'Average']\n",
        "listofAcc = [acc_score_knn, acc_score_svm,acc_score_svmpoly, acc_score_dtree,acc_score_nb,acc_score_rf,acc_score_lr ]"
      ],
      "execution_count": null,
      "outputs": []
    },
    {
      "cell_type": "code",
      "metadata": {
        "colab": {
          "base_uri": "https://localhost:8080/",
          "height": 234
        },
        "id": "ERO4tQXE5D4M",
        "outputId": "2b7f17d6-93d1-4073-9b4a-a58bf58f5c24"
      },
      "source": [
        "zipResut = zip(listofKeys, listofAcc)\n",
        "dictofData = dict(zipResut)\n",
        "_result = pd.DataFrame(dictofData)\n",
        "index = ['Fold 1', 'Fold 2', 'Fold 3', 'Fold 4', 'Fold 5', 'Average']\n",
        "_result.index = index\n",
        "_result"
      ],
      "execution_count": null,
      "outputs": [
        {
          "output_type": "execute_result",
          "data": {
            "text/html": [
              "<div>\n",
              "<style scoped>\n",
              "    .dataframe tbody tr th:only-of-type {\n",
              "        vertical-align: middle;\n",
              "    }\n",
              "\n",
              "    .dataframe tbody tr th {\n",
              "        vertical-align: top;\n",
              "    }\n",
              "\n",
              "    .dataframe thead th {\n",
              "        text-align: right;\n",
              "    }\n",
              "</style>\n",
              "<table border=\"1\" class=\"dataframe\">\n",
              "  <thead>\n",
              "    <tr style=\"text-align: right;\">\n",
              "      <th></th>\n",
              "      <th>KNN</th>\n",
              "      <th>SVM</th>\n",
              "      <th>SVM Polyminal</th>\n",
              "      <th>Decision Tree</th>\n",
              "      <th>Naive Bayes</th>\n",
              "      <th>Random Forest</th>\n",
              "      <th>Logistic Regression</th>\n",
              "    </tr>\n",
              "  </thead>\n",
              "  <tbody>\n",
              "    <tr>\n",
              "      <th>Fold 1</th>\n",
              "      <td>0.000</td>\n",
              "      <td>0.000</td>\n",
              "      <td>0.500</td>\n",
              "      <td>0.000</td>\n",
              "      <td>0.000</td>\n",
              "      <td>0.000</td>\n",
              "      <td>0.500</td>\n",
              "    </tr>\n",
              "    <tr>\n",
              "      <th>Fold 2</th>\n",
              "      <td>0.333</td>\n",
              "      <td>0.500</td>\n",
              "      <td>0.500</td>\n",
              "      <td>0.500</td>\n",
              "      <td>0.500</td>\n",
              "      <td>0.500</td>\n",
              "      <td>0.500</td>\n",
              "    </tr>\n",
              "    <tr>\n",
              "      <th>Fold 3</th>\n",
              "      <td>0.333</td>\n",
              "      <td>0.333</td>\n",
              "      <td>0.500</td>\n",
              "      <td>0.500</td>\n",
              "      <td>0.333</td>\n",
              "      <td>0.500</td>\n",
              "      <td>0.333</td>\n",
              "    </tr>\n",
              "    <tr>\n",
              "      <th>Fold 4</th>\n",
              "      <td>0.167</td>\n",
              "      <td>0.167</td>\n",
              "      <td>0.333</td>\n",
              "      <td>0.333</td>\n",
              "      <td>0.000</td>\n",
              "      <td>0.333</td>\n",
              "      <td>0.167</td>\n",
              "    </tr>\n",
              "    <tr>\n",
              "      <th>Fold 5</th>\n",
              "      <td>0.000</td>\n",
              "      <td>0.333</td>\n",
              "      <td>0.333</td>\n",
              "      <td>0.333</td>\n",
              "      <td>0.000</td>\n",
              "      <td>0.333</td>\n",
              "      <td>0.333</td>\n",
              "    </tr>\n",
              "    <tr>\n",
              "      <th>Average</th>\n",
              "      <td>0.167</td>\n",
              "      <td>0.267</td>\n",
              "      <td>0.433</td>\n",
              "      <td>0.333</td>\n",
              "      <td>0.167</td>\n",
              "      <td>0.333</td>\n",
              "      <td>0.367</td>\n",
              "    </tr>\n",
              "  </tbody>\n",
              "</table>\n",
              "</div>"
            ],
            "text/plain": [
              "           KNN    SVM  ...  Random Forest  Logistic Regression\n",
              "Fold 1   0.000  0.000  ...          0.000                0.500\n",
              "Fold 2   0.333  0.500  ...          0.500                0.500\n",
              "Fold 3   0.333  0.333  ...          0.500                0.333\n",
              "Fold 4   0.167  0.167  ...          0.333                0.167\n",
              "Fold 5   0.000  0.333  ...          0.333                0.333\n",
              "Average  0.167  0.267  ...          0.333                0.367\n",
              "\n",
              "[6 rows x 7 columns]"
            ]
          },
          "metadata": {},
          "execution_count": 116
        }
      ]
    },
    {
      "cell_type": "markdown",
      "metadata": {
        "id": "eONSlrW9yiCi"
      },
      "source": [
        "<a name = \"4\"></a>\n",
        "#4. Bài tập 2: Bài tập Linear Regression đa biến"
      ]
    },
    {
      "cell_type": "markdown",
      "metadata": {
        "id": "1KgIa_Mf6oxs"
      },
      "source": [
        "###4.1 Tiền xử lý dữ liệu"
      ]
    },
    {
      "cell_type": "code",
      "metadata": {
        "colab": {
          "base_uri": "https://localhost:8080/"
        },
        "id": "Z97183oU6tta",
        "outputId": "dab2edcc-992e-4b8f-baf2-5a6b485254ce"
      },
      "source": [
        "print('Unique State in Datasets:{}'.format(dataStartup['State'].unique()))"
      ],
      "execution_count": null,
      "outputs": [
        {
          "output_type": "stream",
          "name": "stdout",
          "text": [
            "Unique State in Datasets:['New York' 'California' 'Florida']\n"
          ]
        }
      ]
    },
    {
      "cell_type": "code",
      "metadata": {
        "id": "jykozSrACgxy"
      },
      "source": [
        "#one hot encoding categorical data\n",
        "dataStartup = pd.get_dummies(dataStartup)\n",
        "dataStartup = dataStartup[['R&D Spend','Administration','Marketing Spend','State_California',\t'State_Florida',\t'State_New York','Profit']]"
      ],
      "execution_count": null,
      "outputs": []
    },
    {
      "cell_type": "code",
      "metadata": {
        "colab": {
          "base_uri": "https://localhost:8080/",
          "height": 1000
        },
        "id": "xlBKE3SD6YNc",
        "outputId": "d9793556-d785-4d39-ba80-8407f1aef2dd"
      },
      "source": [
        "#convert continuous data to catergorical\n",
        "catergory2 = pd.cut(dataStartup.Profit,bins=[0,20000,40000,60000,70000,80000,90000,100000,110000,120000,130000,140000,150000,160000,180000,200000],labels=['0','1','2','3','4','5','6','7','8','9','10','11','12','13','14'])\n",
        "dataStartup.insert(6,'Profit_Catergorical', catergory2)\n",
        "# dataStartupCater = dataStartup[['R&D Spend',\t'Administration',\t'Marketing Spend',\t'State_California',\t'State_Florida', 'State_Florida'\t,'Profit_Catergorical']]\n",
        "dataStartup"
      ],
      "execution_count": null,
      "outputs": [
        {
          "output_type": "execute_result",
          "data": {
            "text/html": [
              "<div>\n",
              "<style scoped>\n",
              "    .dataframe tbody tr th:only-of-type {\n",
              "        vertical-align: middle;\n",
              "    }\n",
              "\n",
              "    .dataframe tbody tr th {\n",
              "        vertical-align: top;\n",
              "    }\n",
              "\n",
              "    .dataframe thead th {\n",
              "        text-align: right;\n",
              "    }\n",
              "</style>\n",
              "<table border=\"1\" class=\"dataframe\">\n",
              "  <thead>\n",
              "    <tr style=\"text-align: right;\">\n",
              "      <th></th>\n",
              "      <th>R&amp;D Spend</th>\n",
              "      <th>Administration</th>\n",
              "      <th>Marketing Spend</th>\n",
              "      <th>State_California</th>\n",
              "      <th>State_Florida</th>\n",
              "      <th>State_New York</th>\n",
              "      <th>Profit_Catergorical</th>\n",
              "      <th>Profit</th>\n",
              "    </tr>\n",
              "  </thead>\n",
              "  <tbody>\n",
              "    <tr>\n",
              "      <th>0</th>\n",
              "      <td>165349.20</td>\n",
              "      <td>136897.80</td>\n",
              "      <td>471784.10</td>\n",
              "      <td>0</td>\n",
              "      <td>0</td>\n",
              "      <td>1</td>\n",
              "      <td>14</td>\n",
              "      <td>192261.83</td>\n",
              "    </tr>\n",
              "    <tr>\n",
              "      <th>1</th>\n",
              "      <td>162597.70</td>\n",
              "      <td>151377.59</td>\n",
              "      <td>443898.53</td>\n",
              "      <td>1</td>\n",
              "      <td>0</td>\n",
              "      <td>0</td>\n",
              "      <td>14</td>\n",
              "      <td>191792.06</td>\n",
              "    </tr>\n",
              "    <tr>\n",
              "      <th>2</th>\n",
              "      <td>153441.51</td>\n",
              "      <td>101145.55</td>\n",
              "      <td>407934.54</td>\n",
              "      <td>0</td>\n",
              "      <td>1</td>\n",
              "      <td>0</td>\n",
              "      <td>14</td>\n",
              "      <td>191050.39</td>\n",
              "    </tr>\n",
              "    <tr>\n",
              "      <th>3</th>\n",
              "      <td>144372.41</td>\n",
              "      <td>118671.85</td>\n",
              "      <td>383199.62</td>\n",
              "      <td>0</td>\n",
              "      <td>0</td>\n",
              "      <td>1</td>\n",
              "      <td>14</td>\n",
              "      <td>182901.99</td>\n",
              "    </tr>\n",
              "    <tr>\n",
              "      <th>4</th>\n",
              "      <td>142107.34</td>\n",
              "      <td>91391.77</td>\n",
              "      <td>366168.42</td>\n",
              "      <td>0</td>\n",
              "      <td>1</td>\n",
              "      <td>0</td>\n",
              "      <td>13</td>\n",
              "      <td>166187.94</td>\n",
              "    </tr>\n",
              "    <tr>\n",
              "      <th>5</th>\n",
              "      <td>131876.90</td>\n",
              "      <td>99814.71</td>\n",
              "      <td>362861.36</td>\n",
              "      <td>0</td>\n",
              "      <td>0</td>\n",
              "      <td>1</td>\n",
              "      <td>12</td>\n",
              "      <td>156991.12</td>\n",
              "    </tr>\n",
              "    <tr>\n",
              "      <th>6</th>\n",
              "      <td>134615.46</td>\n",
              "      <td>147198.87</td>\n",
              "      <td>127716.82</td>\n",
              "      <td>1</td>\n",
              "      <td>0</td>\n",
              "      <td>0</td>\n",
              "      <td>12</td>\n",
              "      <td>156122.51</td>\n",
              "    </tr>\n",
              "    <tr>\n",
              "      <th>7</th>\n",
              "      <td>130298.13</td>\n",
              "      <td>145530.06</td>\n",
              "      <td>323876.68</td>\n",
              "      <td>0</td>\n",
              "      <td>1</td>\n",
              "      <td>0</td>\n",
              "      <td>12</td>\n",
              "      <td>155752.60</td>\n",
              "    </tr>\n",
              "    <tr>\n",
              "      <th>8</th>\n",
              "      <td>120542.52</td>\n",
              "      <td>148718.95</td>\n",
              "      <td>311613.29</td>\n",
              "      <td>0</td>\n",
              "      <td>0</td>\n",
              "      <td>1</td>\n",
              "      <td>12</td>\n",
              "      <td>152211.77</td>\n",
              "    </tr>\n",
              "    <tr>\n",
              "      <th>9</th>\n",
              "      <td>123334.88</td>\n",
              "      <td>108679.17</td>\n",
              "      <td>304981.62</td>\n",
              "      <td>1</td>\n",
              "      <td>0</td>\n",
              "      <td>0</td>\n",
              "      <td>11</td>\n",
              "      <td>149759.96</td>\n",
              "    </tr>\n",
              "    <tr>\n",
              "      <th>10</th>\n",
              "      <td>101913.08</td>\n",
              "      <td>110594.11</td>\n",
              "      <td>229160.95</td>\n",
              "      <td>0</td>\n",
              "      <td>1</td>\n",
              "      <td>0</td>\n",
              "      <td>11</td>\n",
              "      <td>146121.95</td>\n",
              "    </tr>\n",
              "    <tr>\n",
              "      <th>11</th>\n",
              "      <td>100671.96</td>\n",
              "      <td>91790.61</td>\n",
              "      <td>249744.55</td>\n",
              "      <td>1</td>\n",
              "      <td>0</td>\n",
              "      <td>0</td>\n",
              "      <td>11</td>\n",
              "      <td>144259.40</td>\n",
              "    </tr>\n",
              "    <tr>\n",
              "      <th>12</th>\n",
              "      <td>93863.75</td>\n",
              "      <td>127320.38</td>\n",
              "      <td>249839.44</td>\n",
              "      <td>0</td>\n",
              "      <td>1</td>\n",
              "      <td>0</td>\n",
              "      <td>11</td>\n",
              "      <td>141585.52</td>\n",
              "    </tr>\n",
              "    <tr>\n",
              "      <th>13</th>\n",
              "      <td>91992.39</td>\n",
              "      <td>135495.07</td>\n",
              "      <td>252664.93</td>\n",
              "      <td>1</td>\n",
              "      <td>0</td>\n",
              "      <td>0</td>\n",
              "      <td>10</td>\n",
              "      <td>134307.35</td>\n",
              "    </tr>\n",
              "    <tr>\n",
              "      <th>14</th>\n",
              "      <td>119943.24</td>\n",
              "      <td>156547.42</td>\n",
              "      <td>256512.92</td>\n",
              "      <td>0</td>\n",
              "      <td>1</td>\n",
              "      <td>0</td>\n",
              "      <td>10</td>\n",
              "      <td>132602.65</td>\n",
              "    </tr>\n",
              "    <tr>\n",
              "      <th>15</th>\n",
              "      <td>114523.61</td>\n",
              "      <td>122616.84</td>\n",
              "      <td>261776.23</td>\n",
              "      <td>0</td>\n",
              "      <td>0</td>\n",
              "      <td>1</td>\n",
              "      <td>9</td>\n",
              "      <td>129917.04</td>\n",
              "    </tr>\n",
              "    <tr>\n",
              "      <th>16</th>\n",
              "      <td>78013.11</td>\n",
              "      <td>121597.55</td>\n",
              "      <td>264346.06</td>\n",
              "      <td>1</td>\n",
              "      <td>0</td>\n",
              "      <td>0</td>\n",
              "      <td>9</td>\n",
              "      <td>126992.93</td>\n",
              "    </tr>\n",
              "    <tr>\n",
              "      <th>17</th>\n",
              "      <td>94657.16</td>\n",
              "      <td>145077.58</td>\n",
              "      <td>282574.31</td>\n",
              "      <td>0</td>\n",
              "      <td>0</td>\n",
              "      <td>1</td>\n",
              "      <td>9</td>\n",
              "      <td>125370.37</td>\n",
              "    </tr>\n",
              "    <tr>\n",
              "      <th>18</th>\n",
              "      <td>91749.16</td>\n",
              "      <td>114175.79</td>\n",
              "      <td>294919.57</td>\n",
              "      <td>0</td>\n",
              "      <td>1</td>\n",
              "      <td>0</td>\n",
              "      <td>9</td>\n",
              "      <td>124266.90</td>\n",
              "    </tr>\n",
              "    <tr>\n",
              "      <th>19</th>\n",
              "      <td>86419.70</td>\n",
              "      <td>153514.11</td>\n",
              "      <td>0.00</td>\n",
              "      <td>0</td>\n",
              "      <td>0</td>\n",
              "      <td>1</td>\n",
              "      <td>9</td>\n",
              "      <td>122776.86</td>\n",
              "    </tr>\n",
              "    <tr>\n",
              "      <th>20</th>\n",
              "      <td>76253.86</td>\n",
              "      <td>113867.30</td>\n",
              "      <td>298664.47</td>\n",
              "      <td>1</td>\n",
              "      <td>0</td>\n",
              "      <td>0</td>\n",
              "      <td>8</td>\n",
              "      <td>118474.03</td>\n",
              "    </tr>\n",
              "    <tr>\n",
              "      <th>21</th>\n",
              "      <td>78389.47</td>\n",
              "      <td>153773.43</td>\n",
              "      <td>299737.29</td>\n",
              "      <td>0</td>\n",
              "      <td>0</td>\n",
              "      <td>1</td>\n",
              "      <td>8</td>\n",
              "      <td>111313.02</td>\n",
              "    </tr>\n",
              "    <tr>\n",
              "      <th>22</th>\n",
              "      <td>73994.56</td>\n",
              "      <td>122782.75</td>\n",
              "      <td>303319.26</td>\n",
              "      <td>0</td>\n",
              "      <td>1</td>\n",
              "      <td>0</td>\n",
              "      <td>8</td>\n",
              "      <td>110352.25</td>\n",
              "    </tr>\n",
              "    <tr>\n",
              "      <th>23</th>\n",
              "      <td>67532.53</td>\n",
              "      <td>105751.03</td>\n",
              "      <td>304768.73</td>\n",
              "      <td>0</td>\n",
              "      <td>1</td>\n",
              "      <td>0</td>\n",
              "      <td>7</td>\n",
              "      <td>108733.99</td>\n",
              "    </tr>\n",
              "    <tr>\n",
              "      <th>24</th>\n",
              "      <td>77044.01</td>\n",
              "      <td>99281.34</td>\n",
              "      <td>140574.81</td>\n",
              "      <td>0</td>\n",
              "      <td>0</td>\n",
              "      <td>1</td>\n",
              "      <td>7</td>\n",
              "      <td>108552.04</td>\n",
              "    </tr>\n",
              "    <tr>\n",
              "      <th>25</th>\n",
              "      <td>64664.71</td>\n",
              "      <td>139553.16</td>\n",
              "      <td>137962.62</td>\n",
              "      <td>1</td>\n",
              "      <td>0</td>\n",
              "      <td>0</td>\n",
              "      <td>7</td>\n",
              "      <td>107404.34</td>\n",
              "    </tr>\n",
              "    <tr>\n",
              "      <th>26</th>\n",
              "      <td>75328.87</td>\n",
              "      <td>144135.98</td>\n",
              "      <td>134050.07</td>\n",
              "      <td>0</td>\n",
              "      <td>1</td>\n",
              "      <td>0</td>\n",
              "      <td>7</td>\n",
              "      <td>105733.54</td>\n",
              "    </tr>\n",
              "    <tr>\n",
              "      <th>27</th>\n",
              "      <td>72107.60</td>\n",
              "      <td>127864.55</td>\n",
              "      <td>353183.81</td>\n",
              "      <td>0</td>\n",
              "      <td>0</td>\n",
              "      <td>1</td>\n",
              "      <td>7</td>\n",
              "      <td>105008.31</td>\n",
              "    </tr>\n",
              "    <tr>\n",
              "      <th>28</th>\n",
              "      <td>66051.52</td>\n",
              "      <td>182645.56</td>\n",
              "      <td>118148.20</td>\n",
              "      <td>0</td>\n",
              "      <td>1</td>\n",
              "      <td>0</td>\n",
              "      <td>7</td>\n",
              "      <td>103282.38</td>\n",
              "    </tr>\n",
              "    <tr>\n",
              "      <th>29</th>\n",
              "      <td>65605.48</td>\n",
              "      <td>153032.06</td>\n",
              "      <td>107138.38</td>\n",
              "      <td>0</td>\n",
              "      <td>0</td>\n",
              "      <td>1</td>\n",
              "      <td>7</td>\n",
              "      <td>101004.64</td>\n",
              "    </tr>\n",
              "    <tr>\n",
              "      <th>30</th>\n",
              "      <td>61994.48</td>\n",
              "      <td>115641.28</td>\n",
              "      <td>91131.24</td>\n",
              "      <td>0</td>\n",
              "      <td>1</td>\n",
              "      <td>0</td>\n",
              "      <td>6</td>\n",
              "      <td>99937.59</td>\n",
              "    </tr>\n",
              "    <tr>\n",
              "      <th>31</th>\n",
              "      <td>61136.38</td>\n",
              "      <td>152701.92</td>\n",
              "      <td>88218.23</td>\n",
              "      <td>0</td>\n",
              "      <td>0</td>\n",
              "      <td>1</td>\n",
              "      <td>6</td>\n",
              "      <td>97483.56</td>\n",
              "    </tr>\n",
              "    <tr>\n",
              "      <th>32</th>\n",
              "      <td>63408.86</td>\n",
              "      <td>129219.61</td>\n",
              "      <td>46085.25</td>\n",
              "      <td>1</td>\n",
              "      <td>0</td>\n",
              "      <td>0</td>\n",
              "      <td>6</td>\n",
              "      <td>97427.84</td>\n",
              "    </tr>\n",
              "    <tr>\n",
              "      <th>33</th>\n",
              "      <td>55493.95</td>\n",
              "      <td>103057.49</td>\n",
              "      <td>214634.81</td>\n",
              "      <td>0</td>\n",
              "      <td>1</td>\n",
              "      <td>0</td>\n",
              "      <td>6</td>\n",
              "      <td>96778.92</td>\n",
              "    </tr>\n",
              "    <tr>\n",
              "      <th>34</th>\n",
              "      <td>46426.07</td>\n",
              "      <td>157693.92</td>\n",
              "      <td>210797.67</td>\n",
              "      <td>1</td>\n",
              "      <td>0</td>\n",
              "      <td>0</td>\n",
              "      <td>6</td>\n",
              "      <td>96712.80</td>\n",
              "    </tr>\n",
              "    <tr>\n",
              "      <th>35</th>\n",
              "      <td>46014.02</td>\n",
              "      <td>85047.44</td>\n",
              "      <td>205517.64</td>\n",
              "      <td>0</td>\n",
              "      <td>0</td>\n",
              "      <td>1</td>\n",
              "      <td>6</td>\n",
              "      <td>96479.51</td>\n",
              "    </tr>\n",
              "    <tr>\n",
              "      <th>36</th>\n",
              "      <td>28663.76</td>\n",
              "      <td>127056.21</td>\n",
              "      <td>201126.82</td>\n",
              "      <td>0</td>\n",
              "      <td>1</td>\n",
              "      <td>0</td>\n",
              "      <td>6</td>\n",
              "      <td>90708.19</td>\n",
              "    </tr>\n",
              "    <tr>\n",
              "      <th>37</th>\n",
              "      <td>44069.95</td>\n",
              "      <td>51283.14</td>\n",
              "      <td>197029.42</td>\n",
              "      <td>1</td>\n",
              "      <td>0</td>\n",
              "      <td>0</td>\n",
              "      <td>5</td>\n",
              "      <td>89949.14</td>\n",
              "    </tr>\n",
              "    <tr>\n",
              "      <th>38</th>\n",
              "      <td>20229.59</td>\n",
              "      <td>65947.93</td>\n",
              "      <td>185265.10</td>\n",
              "      <td>0</td>\n",
              "      <td>0</td>\n",
              "      <td>1</td>\n",
              "      <td>5</td>\n",
              "      <td>81229.06</td>\n",
              "    </tr>\n",
              "    <tr>\n",
              "      <th>39</th>\n",
              "      <td>38558.51</td>\n",
              "      <td>82982.09</td>\n",
              "      <td>174999.30</td>\n",
              "      <td>1</td>\n",
              "      <td>0</td>\n",
              "      <td>0</td>\n",
              "      <td>5</td>\n",
              "      <td>81005.76</td>\n",
              "    </tr>\n",
              "    <tr>\n",
              "      <th>40</th>\n",
              "      <td>28754.33</td>\n",
              "      <td>118546.05</td>\n",
              "      <td>172795.67</td>\n",
              "      <td>1</td>\n",
              "      <td>0</td>\n",
              "      <td>0</td>\n",
              "      <td>4</td>\n",
              "      <td>78239.91</td>\n",
              "    </tr>\n",
              "    <tr>\n",
              "      <th>41</th>\n",
              "      <td>27892.92</td>\n",
              "      <td>84710.77</td>\n",
              "      <td>164470.71</td>\n",
              "      <td>0</td>\n",
              "      <td>1</td>\n",
              "      <td>0</td>\n",
              "      <td>4</td>\n",
              "      <td>77798.83</td>\n",
              "    </tr>\n",
              "    <tr>\n",
              "      <th>42</th>\n",
              "      <td>23640.93</td>\n",
              "      <td>96189.63</td>\n",
              "      <td>148001.11</td>\n",
              "      <td>1</td>\n",
              "      <td>0</td>\n",
              "      <td>0</td>\n",
              "      <td>4</td>\n",
              "      <td>71498.49</td>\n",
              "    </tr>\n",
              "    <tr>\n",
              "      <th>43</th>\n",
              "      <td>15505.73</td>\n",
              "      <td>127382.30</td>\n",
              "      <td>35534.17</td>\n",
              "      <td>0</td>\n",
              "      <td>0</td>\n",
              "      <td>1</td>\n",
              "      <td>3</td>\n",
              "      <td>69758.98</td>\n",
              "    </tr>\n",
              "    <tr>\n",
              "      <th>44</th>\n",
              "      <td>22177.74</td>\n",
              "      <td>154806.14</td>\n",
              "      <td>28334.72</td>\n",
              "      <td>1</td>\n",
              "      <td>0</td>\n",
              "      <td>0</td>\n",
              "      <td>3</td>\n",
              "      <td>65200.33</td>\n",
              "    </tr>\n",
              "    <tr>\n",
              "      <th>45</th>\n",
              "      <td>1000.23</td>\n",
              "      <td>124153.04</td>\n",
              "      <td>1903.93</td>\n",
              "      <td>0</td>\n",
              "      <td>0</td>\n",
              "      <td>1</td>\n",
              "      <td>3</td>\n",
              "      <td>64926.08</td>\n",
              "    </tr>\n",
              "    <tr>\n",
              "      <th>46</th>\n",
              "      <td>1315.46</td>\n",
              "      <td>115816.21</td>\n",
              "      <td>297114.46</td>\n",
              "      <td>0</td>\n",
              "      <td>1</td>\n",
              "      <td>0</td>\n",
              "      <td>2</td>\n",
              "      <td>49490.75</td>\n",
              "    </tr>\n",
              "    <tr>\n",
              "      <th>47</th>\n",
              "      <td>0.00</td>\n",
              "      <td>135426.92</td>\n",
              "      <td>0.00</td>\n",
              "      <td>1</td>\n",
              "      <td>0</td>\n",
              "      <td>0</td>\n",
              "      <td>2</td>\n",
              "      <td>42559.73</td>\n",
              "    </tr>\n",
              "    <tr>\n",
              "      <th>48</th>\n",
              "      <td>542.05</td>\n",
              "      <td>51743.15</td>\n",
              "      <td>0.00</td>\n",
              "      <td>0</td>\n",
              "      <td>0</td>\n",
              "      <td>1</td>\n",
              "      <td>1</td>\n",
              "      <td>35673.41</td>\n",
              "    </tr>\n",
              "    <tr>\n",
              "      <th>49</th>\n",
              "      <td>0.00</td>\n",
              "      <td>116983.80</td>\n",
              "      <td>45173.06</td>\n",
              "      <td>1</td>\n",
              "      <td>0</td>\n",
              "      <td>0</td>\n",
              "      <td>0</td>\n",
              "      <td>14681.40</td>\n",
              "    </tr>\n",
              "  </tbody>\n",
              "</table>\n",
              "</div>"
            ],
            "text/plain": [
              "    R&D Spend  Administration  ...  Profit_Catergorical     Profit\n",
              "0   165349.20       136897.80  ...                   14  192261.83\n",
              "1   162597.70       151377.59  ...                   14  191792.06\n",
              "2   153441.51       101145.55  ...                   14  191050.39\n",
              "3   144372.41       118671.85  ...                   14  182901.99\n",
              "4   142107.34        91391.77  ...                   13  166187.94\n",
              "5   131876.90        99814.71  ...                   12  156991.12\n",
              "6   134615.46       147198.87  ...                   12  156122.51\n",
              "7   130298.13       145530.06  ...                   12  155752.60\n",
              "8   120542.52       148718.95  ...                   12  152211.77\n",
              "9   123334.88       108679.17  ...                   11  149759.96\n",
              "10  101913.08       110594.11  ...                   11  146121.95\n",
              "11  100671.96        91790.61  ...                   11  144259.40\n",
              "12   93863.75       127320.38  ...                   11  141585.52\n",
              "13   91992.39       135495.07  ...                   10  134307.35\n",
              "14  119943.24       156547.42  ...                   10  132602.65\n",
              "15  114523.61       122616.84  ...                    9  129917.04\n",
              "16   78013.11       121597.55  ...                    9  126992.93\n",
              "17   94657.16       145077.58  ...                    9  125370.37\n",
              "18   91749.16       114175.79  ...                    9  124266.90\n",
              "19   86419.70       153514.11  ...                    9  122776.86\n",
              "20   76253.86       113867.30  ...                    8  118474.03\n",
              "21   78389.47       153773.43  ...                    8  111313.02\n",
              "22   73994.56       122782.75  ...                    8  110352.25\n",
              "23   67532.53       105751.03  ...                    7  108733.99\n",
              "24   77044.01        99281.34  ...                    7  108552.04\n",
              "25   64664.71       139553.16  ...                    7  107404.34\n",
              "26   75328.87       144135.98  ...                    7  105733.54\n",
              "27   72107.60       127864.55  ...                    7  105008.31\n",
              "28   66051.52       182645.56  ...                    7  103282.38\n",
              "29   65605.48       153032.06  ...                    7  101004.64\n",
              "30   61994.48       115641.28  ...                    6   99937.59\n",
              "31   61136.38       152701.92  ...                    6   97483.56\n",
              "32   63408.86       129219.61  ...                    6   97427.84\n",
              "33   55493.95       103057.49  ...                    6   96778.92\n",
              "34   46426.07       157693.92  ...                    6   96712.80\n",
              "35   46014.02        85047.44  ...                    6   96479.51\n",
              "36   28663.76       127056.21  ...                    6   90708.19\n",
              "37   44069.95        51283.14  ...                    5   89949.14\n",
              "38   20229.59        65947.93  ...                    5   81229.06\n",
              "39   38558.51        82982.09  ...                    5   81005.76\n",
              "40   28754.33       118546.05  ...                    4   78239.91\n",
              "41   27892.92        84710.77  ...                    4   77798.83\n",
              "42   23640.93        96189.63  ...                    4   71498.49\n",
              "43   15505.73       127382.30  ...                    3   69758.98\n",
              "44   22177.74       154806.14  ...                    3   65200.33\n",
              "45    1000.23       124153.04  ...                    3   64926.08\n",
              "46    1315.46       115816.21  ...                    2   49490.75\n",
              "47       0.00       135426.92  ...                    2   42559.73\n",
              "48     542.05        51743.15  ...                    1   35673.41\n",
              "49       0.00       116983.80  ...                    0   14681.40\n",
              "\n",
              "[50 rows x 8 columns]"
            ]
          },
          "metadata": {},
          "execution_count": 120
        }
      ]
    },
    {
      "cell_type": "code",
      "metadata": {
        "id": "435xBVmnHDaJ"
      },
      "source": [
        "X2 = dataStartup.iloc[:,:-2]\n",
        "y2 = dataStartup[['Profit']] #use for linear regression\n",
        "y4 = dataStartup[['Profit_Catergorical']] #use for classification"
      ],
      "execution_count": null,
      "outputs": []
    },
    {
      "cell_type": "code",
      "metadata": {
        "id": "B3fBTgCIg1qU"
      },
      "source": [
        "#standard data\n",
        "scaler = StandardScaler()\n",
        "scaledX = scaler.fit_transform(X2)"
      ],
      "execution_count": null,
      "outputs": []
    },
    {
      "cell_type": "markdown",
      "metadata": {
        "id": "a2lmc0eT_uym"
      },
      "source": [
        "###4.2 Phân chia tập train:test (8:2) để dùng cho model Linear Regression"
      ]
    },
    {
      "cell_type": "code",
      "metadata": {
        "colab": {
          "base_uri": "https://localhost:8080/"
        },
        "id": "Swvj29EyULrC",
        "outputId": "5c1168f3-392b-464d-a25e-3ed7bdb848e7"
      },
      "source": [
        "X_trainStu, X_testStu, y_trainStu, y_testStu = train_test_split(scaledX,y2,test_size = 0.2)\n",
        "print('Số mẫu dữ liệu trong tập train:{}'.format(X_trainStu.shape))\n",
        "print('Số mẫu dữ liệu trong tập test:{}'.format(X_testStu.shape))"
      ],
      "execution_count": null,
      "outputs": [
        {
          "output_type": "stream",
          "name": "stdout",
          "text": [
            "Số mẫu dữ liệu trong tập train:(40, 6)\n",
            "Số mẫu dữ liệu trong tập test:(10, 6)\n"
          ]
        }
      ]
    },
    {
      "cell_type": "markdown",
      "metadata": {
        "id": "Uii_P3qVK6GA"
      },
      "source": [
        "###4.3 Dùng Linear Regression để dự đoán"
      ]
    },
    {
      "cell_type": "code",
      "metadata": {
        "colab": {
          "base_uri": "https://localhost:8080/"
        },
        "id": "m4tB2VcLUyf7",
        "outputId": "5b856d5b-6f6e-4602-ebe0-acb5b4514e5a"
      },
      "source": [
        "lr2 = LinearRegression()\n",
        "\n",
        "lr2.fit(X_trainStu, y_trainStu)\n",
        "\n",
        "predictStu = lr2.predict(X_testStu)\n",
        "\n",
        "score2 = lr2.score(X_testStu, predictStu)\n",
        "print('Score: {}'.format(round(loss,3)))"
      ],
      "execution_count": null,
      "outputs": [
        {
          "output_type": "stream",
          "name": "stdout",
          "text": [
            "Score: 0.902\n"
          ]
        }
      ]
    },
    {
      "cell_type": "markdown",
      "metadata": {
        "id": "iPmKxCiRBKoA"
      },
      "source": [
        "###4.4 Sử dụng các mô hình Classifier và KFold"
      ]
    },
    {
      "cell_type": "markdown",
      "metadata": {
        "id": "e5vf9HCnUD25"
      },
      "source": [
        "####4.4.1 KNN"
      ]
    },
    {
      "cell_type": "code",
      "metadata": {
        "id": "7snaYHnEKzZz",
        "colab": {
          "base_uri": "https://localhost:8080/"
        },
        "outputId": "bc7b3833-5065-40cc-83e2-c65bd9c1e193"
      },
      "source": [
        "acc_score_knn2 = kFold_each_model(X3, y4,knn, 5)\n",
        "acc_score_knn2"
      ],
      "execution_count": null,
      "outputs": [
        {
          "output_type": "execute_result",
          "data": {
            "text/plain": [
              "[0.167, 0.0, 0.167, 0.5, 0.0, 0.167]"
            ]
          },
          "metadata": {},
          "execution_count": 145
        }
      ]
    },
    {
      "cell_type": "markdown",
      "metadata": {
        "id": "x3d5HdPjET90"
      },
      "source": [
        "#### 4.4.2 SVM BRF"
      ]
    },
    {
      "cell_type": "code",
      "metadata": {
        "colab": {
          "base_uri": "https://localhost:8080/"
        },
        "id": "BNnMlHFvLNhc",
        "outputId": "0973b2ff-3f6f-4f10-f7d0-f65989c0679f"
      },
      "source": [
        "acc_score_svm2= kFold_each_model(X3, y4,svc, 5)\n",
        "acc_score_svm2"
      ],
      "execution_count": null,
      "outputs": [
        {
          "output_type": "execute_result",
          "data": {
            "text/plain": [
              "[0.0, 0.0, 0.0, 0.5, 0.0, 0.1]"
            ]
          },
          "metadata": {},
          "execution_count": 146
        }
      ]
    },
    {
      "cell_type": "markdown",
      "metadata": {
        "id": "3AI6eNeTK0FF"
      },
      "source": [
        "#### 4.4.3 Decision Tree"
      ]
    },
    {
      "cell_type": "code",
      "metadata": {
        "colab": {
          "base_uri": "https://localhost:8080/"
        },
        "id": "QijW3aoDE3Wh",
        "outputId": "79ed1284-05e6-4890-e768-7880a8afb72b"
      },
      "source": [
        "acc_score_dtree2 = kFold_each_model(X3, y4,dtree, 5)\n",
        "acc_score_dtree2"
      ],
      "execution_count": null,
      "outputs": [
        {
          "output_type": "execute_result",
          "data": {
            "text/plain": [
              "[0.167, 1.0, 0.5, 0.5, 1.0, 0.633]"
            ]
          },
          "metadata": {},
          "execution_count": 147
        }
      ]
    },
    {
      "cell_type": "markdown",
      "metadata": {
        "id": "y3rk8OCCE3i6"
      },
      "source": [
        "#### 4.4.4 Naive Bayes"
      ]
    },
    {
      "cell_type": "code",
      "metadata": {
        "colab": {
          "base_uri": "https://localhost:8080/"
        },
        "id": "qUn0nWD1E3xB",
        "outputId": "99f38799-f1b3-456f-fe66-93a7ca9a7343"
      },
      "source": [
        "acc_score_nb2 = kFold_each_model(X3, y4,NB, 5)\n",
        "acc_score_nb2"
      ],
      "execution_count": null,
      "outputs": [
        {
          "output_type": "execute_result",
          "data": {
            "text/plain": [
              "[0.167, 0.167, 0.167, 0.5, 0.0, 0.2]"
            ]
          },
          "metadata": {},
          "execution_count": 148
        }
      ]
    },
    {
      "cell_type": "markdown",
      "metadata": {
        "id": "P7Bzu_QIE37K"
      },
      "source": [
        "###4.4.5 Random Forest"
      ]
    },
    {
      "cell_type": "code",
      "metadata": {
        "colab": {
          "base_uri": "https://localhost:8080/"
        },
        "id": "cRFIB51wE4KA",
        "outputId": "c30a73a1-ccc1-4dd5-b433-15d4bd84dc3e"
      },
      "source": [
        "acc_score_rf2= kFold_each_model(X3, y4,RF, 5)\n",
        "acc_score_rf2"
      ],
      "execution_count": null,
      "outputs": [
        {
          "output_type": "execute_result",
          "data": {
            "text/plain": [
              "[0.167, 1.0, 0.5, 0.5, 1.0, 0.633]"
            ]
          },
          "metadata": {},
          "execution_count": 151
        }
      ]
    },
    {
      "cell_type": "markdown",
      "metadata": {
        "id": "jC6l8mELE4hY"
      },
      "source": [
        "####4.4.6 Logistic Regression"
      ]
    },
    {
      "cell_type": "code",
      "metadata": {
        "colab": {
          "base_uri": "https://localhost:8080/"
        },
        "id": "rK402wLLE4sM",
        "outputId": "f2005a64-80a9-4821-cb9a-d31e2c38b946"
      },
      "source": [
        "acc_score_lr2 = kFold_each_model(X3, y4,lr, 5)\n",
        "acc_score_lr2"
      ],
      "execution_count": null,
      "outputs": [
        {
          "output_type": "execute_result",
          "data": {
            "text/plain": [
              "[0.167, 0.0, 0.0, 0.5, 0.0, 0.133]"
            ]
          },
          "metadata": {},
          "execution_count": 152
        }
      ]
    },
    {
      "cell_type": "markdown",
      "metadata": {
        "id": "8lceyXEYGyZD"
      },
      "source": [
        "####4.4.7 SVM Kernel polynomial"
      ]
    },
    {
      "cell_type": "code",
      "metadata": {
        "colab": {
          "base_uri": "https://localhost:8080/"
        },
        "id": "2xUKQXJRGymn",
        "outputId": "32551532-5d45-4a70-93f7-7b1f1806dee6"
      },
      "source": [
        "acc_score_svmpoly2= kFold_each_model(X3, y4,svcpoly, 5)\n",
        "acc_score_svmpoly2"
      ],
      "execution_count": null,
      "outputs": [
        {
          "output_type": "execute_result",
          "data": {
            "text/plain": [
              "[0.167, 0.0, 0.333, 0.5, 1.0, 0.4]"
            ]
          },
          "metadata": {},
          "execution_count": 153
        }
      ]
    },
    {
      "cell_type": "markdown",
      "metadata": {
        "id": "M-zuz6CjGzIT"
      },
      "source": [
        "####4.4.8 Comparision Table"
      ]
    },
    {
      "cell_type": "code",
      "metadata": {
        "id": "Nhvu5F3aGzTd"
      },
      "source": [
        "listofKeys = ['KNN', 'SVM', 'SVM Polyminal', 'Decision Tree', 'Naive Bayes', 'Random Forest', 'Logistic Regression', 'Average']\n",
        "listofAcc2 = [acc_score_knn2, acc_score_svm2,acc_score_svmpoly2, acc_score_dtree2,acc_score_nb2,acc_score_rf2,acc_score_lr2 ]"
      ],
      "execution_count": null,
      "outputs": []
    },
    {
      "cell_type": "code",
      "metadata": {
        "colab": {
          "base_uri": "https://localhost:8080/",
          "height": 234
        },
        "id": "9erfdwbWHH-l",
        "outputId": "85500653-3f40-46e4-f2cb-1064a9bb4bc0"
      },
      "source": [
        "zipResut = zip(listofKeys, listofAcc)\n",
        "dictofData = dict(zipResut)\n",
        "_result = pd.DataFrame(dictofData)\n",
        "index = ['Fold 1', 'Fold 2', 'Fold 3', 'Fold 4', 'Fold 5', 'Average']\n",
        "_result.index = index\n",
        "_result"
      ],
      "execution_count": null,
      "outputs": [
        {
          "output_type": "execute_result",
          "data": {
            "text/html": [
              "<div>\n",
              "<style scoped>\n",
              "    .dataframe tbody tr th:only-of-type {\n",
              "        vertical-align: middle;\n",
              "    }\n",
              "\n",
              "    .dataframe tbody tr th {\n",
              "        vertical-align: top;\n",
              "    }\n",
              "\n",
              "    .dataframe thead th {\n",
              "        text-align: right;\n",
              "    }\n",
              "</style>\n",
              "<table border=\"1\" class=\"dataframe\">\n",
              "  <thead>\n",
              "    <tr style=\"text-align: right;\">\n",
              "      <th></th>\n",
              "      <th>KNN</th>\n",
              "      <th>SVM</th>\n",
              "      <th>SVM Polyminal</th>\n",
              "      <th>Decision Tree</th>\n",
              "      <th>Naive Bayes</th>\n",
              "      <th>Random Forest</th>\n",
              "      <th>Logistic Regression</th>\n",
              "    </tr>\n",
              "  </thead>\n",
              "  <tbody>\n",
              "    <tr>\n",
              "      <th>Fold 1</th>\n",
              "      <td>0.000</td>\n",
              "      <td>0.000</td>\n",
              "      <td>0.500</td>\n",
              "      <td>0.000</td>\n",
              "      <td>0.000</td>\n",
              "      <td>0.000</td>\n",
              "      <td>0.500</td>\n",
              "    </tr>\n",
              "    <tr>\n",
              "      <th>Fold 2</th>\n",
              "      <td>0.333</td>\n",
              "      <td>0.500</td>\n",
              "      <td>0.500</td>\n",
              "      <td>0.500</td>\n",
              "      <td>0.500</td>\n",
              "      <td>0.500</td>\n",
              "      <td>0.500</td>\n",
              "    </tr>\n",
              "    <tr>\n",
              "      <th>Fold 3</th>\n",
              "      <td>0.333</td>\n",
              "      <td>0.333</td>\n",
              "      <td>0.500</td>\n",
              "      <td>0.500</td>\n",
              "      <td>0.333</td>\n",
              "      <td>0.500</td>\n",
              "      <td>0.333</td>\n",
              "    </tr>\n",
              "    <tr>\n",
              "      <th>Fold 4</th>\n",
              "      <td>0.167</td>\n",
              "      <td>0.167</td>\n",
              "      <td>0.333</td>\n",
              "      <td>0.333</td>\n",
              "      <td>0.000</td>\n",
              "      <td>0.333</td>\n",
              "      <td>0.167</td>\n",
              "    </tr>\n",
              "    <tr>\n",
              "      <th>Fold 5</th>\n",
              "      <td>0.000</td>\n",
              "      <td>0.333</td>\n",
              "      <td>0.333</td>\n",
              "      <td>0.333</td>\n",
              "      <td>0.000</td>\n",
              "      <td>0.333</td>\n",
              "      <td>0.333</td>\n",
              "    </tr>\n",
              "    <tr>\n",
              "      <th>Average</th>\n",
              "      <td>0.167</td>\n",
              "      <td>0.267</td>\n",
              "      <td>0.433</td>\n",
              "      <td>0.333</td>\n",
              "      <td>0.167</td>\n",
              "      <td>0.333</td>\n",
              "      <td>0.367</td>\n",
              "    </tr>\n",
              "  </tbody>\n",
              "</table>\n",
              "</div>"
            ],
            "text/plain": [
              "           KNN    SVM  ...  Random Forest  Logistic Regression\n",
              "Fold 1   0.000  0.000  ...          0.000                0.500\n",
              "Fold 2   0.333  0.500  ...          0.500                0.500\n",
              "Fold 3   0.333  0.333  ...          0.500                0.333\n",
              "Fold 4   0.167  0.167  ...          0.333                0.167\n",
              "Fold 5   0.000  0.333  ...          0.333                0.333\n",
              "Average  0.167  0.267  ...          0.333                0.367\n",
              "\n",
              "[6 rows x 7 columns]"
            ]
          },
          "metadata": {},
          "execution_count": 155
        }
      ]
    }
  ]
}