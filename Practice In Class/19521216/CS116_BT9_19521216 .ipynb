{
  "nbformat": 4,
  "nbformat_minor": 0,
  "metadata": {
    "colab": {
      "name": "CS116_BT9_19521216.ipynb",
      "provenance": [],
      "collapsed_sections": [],
      "toc_visible": true
    },
    "kernelspec": {
      "name": "python3",
      "display_name": "Python 3"
    },
    "language_info": {
      "name": "python"
    },
    "accelerator": "GPU"
  },
  "cells": [
    {
      "cell_type": "markdown",
      "metadata": {
        "id": "u9VzQbtwaObZ"
      },
      "source": [
        "##**Thông tin**\n",
        "\n",
        "\n",
        "1.   Họ tên: Trần Huỳnh Kỳ Anh\n",
        "2.   MSSV: 19521216\n",
        "3.   Ngày thực hiện: 09/11/2021\n",
        "4.   Nội dung: \n",
        "\n",
        "\n"
      ]
    },
    {
      "cell_type": "markdown",
      "metadata": {
        "id": "hXcY3vy8X9mN"
      },
      "source": [
        "#**Clone dữ liệu**"
      ]
    },
    {
      "cell_type": "code",
      "metadata": {
        "id": "vTvhv0q5VYUr"
      },
      "source": [
        "from keras.datasets import mnist\n",
        "from keras.utils import np_utils\n",
        "\n",
        "(x_train,y_train),(x_test,y_test) = mnist.load_data()\n",
        "\n",
        "x_train = x_train.astype('float32')\n",
        "x_test = x_test.astype('float32')\n",
        "\n",
        "x_train /= 255\n",
        "x_test /= 255\n",
        "\n",
        "y_train = np_utils.to_categorical(y_train,10)\n",
        "\n",
        "\n",
        "x_train = x_train.reshape(x_train.shape[0],28,28,1)\n",
        "x_test = x_test.reshape(x_test.shape[0],28,28,1)\n"
      ],
      "execution_count": null,
      "outputs": []
    },
    {
      "cell_type": "markdown",
      "metadata": {
        "id": "SBHiib6pkgJs"
      },
      "source": [
        "#**Cài đặt mạng CNN**"
      ]
    },
    {
      "cell_type": "code",
      "metadata": {
        "id": "rKgXSTTNXRWC"
      },
      "source": [
        "from keras.models import Sequential\n",
        "from keras.layers import Dense,Input,MaxPooling2D,Flatten,AveragePooling2D,Conv2D\n",
        "def get_model(input_dim):\n",
        "  model = Sequential()\n",
        "  model.add(Conv2D(8,(3,3),input_shape = input_dim,padding = 'same',activation = 'relu'))\n",
        "  model.add(MaxPooling2D(pool_size=(2, 2),strides=(2, 2), padding='same'))\n",
        "  model.add(Conv2D(8,(3,3),padding = 'same',activation = 'relu'))\n",
        "  model.add(Conv2D(8,(3,3),padding = 'same',activation = 'relu'))\n",
        "  model.add(Conv2D(8,(3,3),strides=(2,2),padding = 'same',activation = 'relu'))\n",
        "  model.add(Conv2D(16,(3,3),padding = 'same',activation = 'relu'))\n",
        "  model.add(Conv2D(16,(3,3),padding = 'same',activation = 'relu'))\n",
        "  model.add(AveragePooling2D(pool_size=(2, 2),strides=(2, 2), padding='same'))\n",
        "  model.add(Flatten())\n",
        "  model.add(Dense(units=400, activation='relu',use_bias=True))\n",
        "  model.add(Dense(units=10, activation='sigmoid',use_bias=True))\n",
        "  \n",
        "  model.compile(loss='binary_crossentropy', optimizer='adam', metrics=['accuracy'])\n",
        "  model.summary()\n",
        "  return model"
      ],
      "execution_count": null,
      "outputs": []
    },
    {
      "cell_type": "code",
      "metadata": {
        "colab": {
          "base_uri": "https://localhost:8080/"
        },
        "id": "yuU_2huOWx6o",
        "outputId": "3cf5fbb9-1c8c-40a2-bd61-f2440a1fd5c1"
      },
      "source": [
        "model_cnn = get_model((28,28,1))"
      ],
      "execution_count": null,
      "outputs": [
        {
          "output_type": "stream",
          "name": "stdout",
          "text": [
            "Model: \"sequential_6\"\n",
            "_________________________________________________________________\n",
            "Layer (type)                 Output Shape              Param #   \n",
            "=================================================================\n",
            "conv2d_21 (Conv2D)           (None, 28, 28, 8)         80        \n",
            "_________________________________________________________________\n",
            "max_pooling2d_3 (MaxPooling2 (None, 14, 14, 8)         0         \n",
            "_________________________________________________________________\n",
            "conv2d_22 (Conv2D)           (None, 14, 14, 8)         584       \n",
            "_________________________________________________________________\n",
            "conv2d_23 (Conv2D)           (None, 14, 14, 8)         584       \n",
            "_________________________________________________________________\n",
            "conv2d_24 (Conv2D)           (None, 7, 7, 8)           584       \n",
            "_________________________________________________________________\n",
            "conv2d_25 (Conv2D)           (None, 7, 7, 16)          1168      \n",
            "_________________________________________________________________\n",
            "conv2d_26 (Conv2D)           (None, 7, 7, 16)          2320      \n",
            "_________________________________________________________________\n",
            "average_pooling2d_3 (Average (None, 4, 4, 16)          0         \n",
            "_________________________________________________________________\n",
            "flatten_3 (Flatten)          (None, 256)               0         \n",
            "_________________________________________________________________\n",
            "dense_6 (Dense)              (None, 400)               102800    \n",
            "_________________________________________________________________\n",
            "dense_7 (Dense)              (None, 10)                4010      \n",
            "=================================================================\n",
            "Total params: 112,130\n",
            "Trainable params: 112,130\n",
            "Non-trainable params: 0\n",
            "_________________________________________________________________\n"
          ]
        }
      ]
    },
    {
      "cell_type": "code",
      "metadata": {
        "colab": {
          "base_uri": "https://localhost:8080/"
        },
        "id": "cyi3a9VBb6pd",
        "outputId": "050a57bf-57ed-4e2e-a982-f3ee932a189d"
      },
      "source": [
        "model_cnn.fit(x_train,y_train,epochs=50,batch_size=128)"
      ],
      "execution_count": null,
      "outputs": [
        {
          "output_type": "stream",
          "name": "stdout",
          "text": [
            "Epoch 1/50\n",
            "469/469 [==============================] - 5s 10ms/step - loss: 0.1197 - accuracy: 0.7760\n",
            "Epoch 2/50\n",
            "469/469 [==============================] - 5s 10ms/step - loss: 0.0236 - accuracy: 0.9640\n",
            "Epoch 3/50\n",
            "469/469 [==============================] - 5s 10ms/step - loss: 0.0161 - accuracy: 0.9745\n",
            "Epoch 4/50\n",
            "469/469 [==============================] - 5s 10ms/step - loss: 0.0128 - accuracy: 0.9804\n",
            "Epoch 5/50\n",
            "469/469 [==============================] - 5s 10ms/step - loss: 0.0105 - accuracy: 0.9839\n",
            "Epoch 6/50\n",
            "469/469 [==============================] - 5s 10ms/step - loss: 0.0094 - accuracy: 0.9856\n",
            "Epoch 7/50\n",
            "469/469 [==============================] - 5s 10ms/step - loss: 0.0081 - accuracy: 0.9876\n",
            "Epoch 8/50\n",
            "469/469 [==============================] - 5s 10ms/step - loss: 0.0071 - accuracy: 0.9888\n",
            "Epoch 9/50\n",
            "469/469 [==============================] - 5s 10ms/step - loss: 0.0063 - accuracy: 0.9906\n",
            "Epoch 10/50\n",
            "469/469 [==============================] - 4s 10ms/step - loss: 0.0058 - accuracy: 0.9915\n",
            "Epoch 11/50\n",
            "469/469 [==============================] - 5s 10ms/step - loss: 0.0054 - accuracy: 0.9920\n",
            "Epoch 12/50\n",
            "469/469 [==============================] - 5s 10ms/step - loss: 0.0048 - accuracy: 0.9930\n",
            "Epoch 13/50\n",
            "469/469 [==============================] - 5s 10ms/step - loss: 0.0044 - accuracy: 0.9938\n",
            "Epoch 14/50\n",
            "469/469 [==============================] - 5s 10ms/step - loss: 0.0038 - accuracy: 0.9949\n",
            "Epoch 15/50\n",
            "469/469 [==============================] - 5s 10ms/step - loss: 0.0036 - accuracy: 0.9949\n",
            "Epoch 16/50\n",
            "469/469 [==============================] - 5s 10ms/step - loss: 0.0032 - accuracy: 0.9954\n",
            "Epoch 17/50\n",
            "469/469 [==============================] - 5s 10ms/step - loss: 0.0030 - accuracy: 0.9956\n",
            "Epoch 18/50\n",
            "469/469 [==============================] - 5s 10ms/step - loss: 0.0026 - accuracy: 0.9967\n",
            "Epoch 19/50\n",
            "469/469 [==============================] - 5s 10ms/step - loss: 0.0025 - accuracy: 0.9965\n",
            "Epoch 20/50\n",
            "469/469 [==============================] - 5s 10ms/step - loss: 0.0024 - accuracy: 0.9966\n",
            "Epoch 21/50\n",
            "469/469 [==============================] - 5s 10ms/step - loss: 0.0021 - accuracy: 0.9971\n",
            "Epoch 22/50\n",
            "469/469 [==============================] - 5s 10ms/step - loss: 0.0020 - accuracy: 0.9973\n",
            "Epoch 23/50\n",
            "469/469 [==============================] - 5s 10ms/step - loss: 0.0018 - accuracy: 0.9978\n",
            "Epoch 24/50\n",
            "469/469 [==============================] - 5s 10ms/step - loss: 0.0017 - accuracy: 0.9978\n",
            "Epoch 25/50\n",
            "469/469 [==============================] - 5s 10ms/step - loss: 0.0016 - accuracy: 0.9981\n",
            "Epoch 26/50\n",
            "469/469 [==============================] - 5s 10ms/step - loss: 0.0012 - accuracy: 0.9986\n",
            "Epoch 27/50\n",
            "469/469 [==============================] - 5s 10ms/step - loss: 0.0013 - accuracy: 0.9984\n",
            "Epoch 28/50\n",
            "469/469 [==============================] - 5s 10ms/step - loss: 0.0014 - accuracy: 0.9983\n",
            "Epoch 29/50\n",
            "469/469 [==============================] - 5s 10ms/step - loss: 0.0012 - accuracy: 0.9985\n",
            "Epoch 30/50\n",
            "469/469 [==============================] - 5s 10ms/step - loss: 0.0012 - accuracy: 0.9986\n",
            "Epoch 31/50\n",
            "469/469 [==============================] - 5s 10ms/step - loss: 0.0010 - accuracy: 0.9987\n",
            "Epoch 32/50\n",
            "469/469 [==============================] - 5s 10ms/step - loss: 0.0011 - accuracy: 0.9988\n",
            "Epoch 33/50\n",
            "469/469 [==============================] - 5s 10ms/step - loss: 0.0013 - accuracy: 0.9985\n",
            "Epoch 34/50\n",
            "469/469 [==============================] - 5s 10ms/step - loss: 8.2088e-04 - accuracy: 0.9991\n",
            "Epoch 35/50\n",
            "469/469 [==============================] - 5s 10ms/step - loss: 9.9410e-04 - accuracy: 0.9989\n",
            "Epoch 36/50\n",
            "469/469 [==============================] - 5s 10ms/step - loss: 0.0011 - accuracy: 0.9987\n",
            "Epoch 37/50\n",
            "469/469 [==============================] - 5s 10ms/step - loss: 7.7688e-04 - accuracy: 0.9991\n",
            "Epoch 38/50\n",
            "469/469 [==============================] - 5s 10ms/step - loss: 6.6416e-04 - accuracy: 0.9993\n",
            "Epoch 39/50\n",
            "469/469 [==============================] - 5s 10ms/step - loss: 0.0010 - accuracy: 0.9989\n",
            "Epoch 40/50\n",
            "469/469 [==============================] - 5s 10ms/step - loss: 0.0010 - accuracy: 0.9988\n",
            "Epoch 41/50\n",
            "469/469 [==============================] - 5s 10ms/step - loss: 6.9775e-04 - accuracy: 0.9991\n",
            "Epoch 42/50\n",
            "469/469 [==============================] - 5s 10ms/step - loss: 5.5975e-04 - accuracy: 0.9994\n",
            "Epoch 43/50\n",
            "469/469 [==============================] - 5s 10ms/step - loss: 4.7646e-04 - accuracy: 0.9996\n",
            "Epoch 44/50\n",
            "469/469 [==============================] - 5s 10ms/step - loss: 8.2275e-04 - accuracy: 0.9992\n",
            "Epoch 45/50\n",
            "469/469 [==============================] - 5s 10ms/step - loss: 9.6343e-04 - accuracy: 0.9989\n",
            "Epoch 46/50\n",
            "469/469 [==============================] - 5s 10ms/step - loss: 8.8025e-04 - accuracy: 0.9991\n",
            "Epoch 47/50\n",
            "469/469 [==============================] - 5s 10ms/step - loss: 3.0403e-04 - accuracy: 0.9997\n",
            "Epoch 48/50\n",
            "469/469 [==============================] - 5s 10ms/step - loss: 6.3709e-04 - accuracy: 0.9994\n",
            "Epoch 49/50\n",
            "469/469 [==============================] - 5s 10ms/step - loss: 9.5805e-04 - accuracy: 0.9990\n",
            "Epoch 50/50\n",
            "469/469 [==============================] - 5s 10ms/step - loss: 4.6717e-04 - accuracy: 0.9996\n"
          ]
        },
        {
          "output_type": "execute_result",
          "data": {
            "text/plain": [
              "<keras.callbacks.History at 0x7f5b033ee6d0>"
            ]
          },
          "metadata": {},
          "execution_count": 42
        }
      ]
    },
    {
      "cell_type": "markdown",
      "metadata": {
        "id": "5RjiQcsrkbK4"
      },
      "source": [
        "#**Kết quả**"
      ]
    },
    {
      "cell_type": "code",
      "metadata": {
        "id": "MXtLsyGIheGa"
      },
      "source": [
        "import matplotlib.pyplot as plt\n",
        "import numpy as np\n",
        "\n",
        "pre = model_cnn.predict(x_test)\n"
      ],
      "execution_count": null,
      "outputs": []
    },
    {
      "cell_type": "code",
      "metadata": {
        "colab": {
          "base_uri": "https://localhost:8080/",
          "height": 299
        },
        "id": "OGvfyDM-hyTc",
        "outputId": "5bb62dfb-2697-46c8-b87a-624831b5db0d"
      },
      "source": [
        "index = 123\n",
        "plt.imshow(x_test[index][:,:,0])\n",
        "plt.show()\n",
        "print(\"Predict: \", np.argmax(pre[index]))\n",
        "print(\"True value:\", y_test[index])"
      ],
      "execution_count": null,
      "outputs": [
        {
          "output_type": "display_data",
          "data": {
            "image/png": "[encoded data removed]",
            "text/plain": [
              "<Figure size 432x288 with 1 Axes>"
            ]
          },
          "metadata": {
            "needs_background": "light"
          }
        },
        {
          "output_type": "stream",
          "name": "stdout",
          "text": [
            "Predict:  6\n",
            "True value: 6\n"
          ]
        }
      ]
    },
    {
      "cell_type": "code",
      "metadata": {
        "id": "DulAQNmjlEFm"
      },
      "source": [
        ""
      ],
      "execution_count": null,
      "outputs": []
    }
  ]
}