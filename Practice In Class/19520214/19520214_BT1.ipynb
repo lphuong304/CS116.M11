{
  "nbformat": 4,
  "nbformat_minor": 0,
  "metadata": {
    "colab": {
      "name": "19520214.ipynb",
      "provenance": [],
      "collapsed_sections": [],
      "toc_visible": true
    },
    "kernelspec": {
      "name": "python3",
      "display_name": "Python 3"
    },
    "language_info": {
      "name": "python"
    }
  },
  "cells": [
    {
      "cell_type": "markdown",
      "metadata": {
        "id": "NceZr7rNMvpk"
      },
      "source": [
        "<h1 align=\"center\"><b>CS116.M11 - LẬP TRÌNH PYTHON CHO MÁY HỌC</b></h1>\n",
        "<h1 align=\"center\"><b>BÀI TẬP 2 - NGÀY 21/09/2021</b></h1>"
      ]
    },
    {
      "cell_type": "markdown",
      "metadata": {
        "id": "Xt3wRu_fM6lH"
      },
      "source": [
        "# **Thông tin sinh viên**"
      ]
    },
    {
      "cell_type": "markdown",
      "metadata": {
        "id": "9UwFHkz-M8_7"
      },
      "source": [
        "1. ***MSSV:*** 19520214\n",
        "2. ***Họ tên:*** Cao Hưng Phú\n",
        "3. ***Bài tập:*** Bài tập 2\n",
        "4. ***Ngày thực hiện:*** 21/09/2021"
      ]
    },
    {
      "cell_type": "markdown",
      "metadata": {
        "id": "IVl_1DNqM_5X"
      },
      "source": [
        "# **Bài làm**"
      ]
    },
    {
      "cell_type": "markdown",
      "metadata": {
        "id": "4KjwN4asNIsv"
      },
      "source": [
        "## **1. Cài thư viện geopandas**"
      ]
    },
    {
      "cell_type": "code",
      "metadata": {
        "colab": {
          "base_uri": "https://localhost:8080/"
        },
        "id": "xPvREfscNYOp",
        "outputId": "7a28c206-46f4-4598-e74f-015d3a81f160"
      },
      "source": [
        "!pip install geopandas"
      ],
      "execution_count": 2,
      "outputs": [
        {
          "output_type": "stream",
          "name": "stdout",
          "text": [
            "Collecting geopandas\n",
            "  Downloading geopandas-0.9.0-py2.py3-none-any.whl (994 kB)\n",
            "\u001b[K     |████████████████████████████████| 994 kB 7.5 MB/s \n",
            "\u001b[?25hRequirement already satisfied: pandas>=0.24.0 in /usr/local/lib/python3.7/dist-packages (from geopandas) (1.1.5)\n",
            "Requirement already satisfied: shapely>=1.6 in /usr/local/lib/python3.7/dist-packages (from geopandas) (1.7.1)\n",
            "Collecting pyproj>=2.2.0\n",
            "  Downloading pyproj-3.2.1-cp37-cp37m-manylinux2010_x86_64.whl (6.3 MB)\n",
            "\u001b[K     |████████████████████████████████| 6.3 MB 47.9 MB/s \n",
            "\u001b[?25hCollecting fiona>=1.8\n",
            "  Downloading Fiona-1.8.20-cp37-cp37m-manylinux1_x86_64.whl (15.4 MB)\n",
            "\u001b[K     |████████████████████████████████| 15.4 MB 39 kB/s \n",
            "\u001b[?25hRequirement already satisfied: attrs>=17 in /usr/local/lib/python3.7/dist-packages (from fiona>=1.8->geopandas) (21.2.0)\n",
            "Requirement already satisfied: setuptools in /usr/local/lib/python3.7/dist-packages (from fiona>=1.8->geopandas) (57.4.0)\n",
            "Collecting munch\n",
            "  Downloading munch-2.5.0-py2.py3-none-any.whl (10 kB)\n",
            "Collecting cligj>=0.5\n",
            "  Downloading cligj-0.7.2-py3-none-any.whl (7.1 kB)\n",
            "Requirement already satisfied: click>=4.0 in /usr/local/lib/python3.7/dist-packages (from fiona>=1.8->geopandas) (7.1.2)\n",
            "Collecting click-plugins>=1.0\n",
            "  Downloading click_plugins-1.1.1-py2.py3-none-any.whl (7.5 kB)\n",
            "Requirement already satisfied: six>=1.7 in /usr/local/lib/python3.7/dist-packages (from fiona>=1.8->geopandas) (1.15.0)\n",
            "Requirement already satisfied: certifi in /usr/local/lib/python3.7/dist-packages (from fiona>=1.8->geopandas) (2021.5.30)\n",
            "Requirement already satisfied: pytz>=2017.2 in /usr/local/lib/python3.7/dist-packages (from pandas>=0.24.0->geopandas) (2018.9)\n",
            "Requirement already satisfied: python-dateutil>=2.7.3 in /usr/local/lib/python3.7/dist-packages (from pandas>=0.24.0->geopandas) (2.8.2)\n",
            "Requirement already satisfied: numpy>=1.15.4 in /usr/local/lib/python3.7/dist-packages (from pandas>=0.24.0->geopandas) (1.19.5)\n",
            "Installing collected packages: munch, cligj, click-plugins, pyproj, fiona, geopandas\n",
            "Successfully installed click-plugins-1.1.1 cligj-0.7.2 fiona-1.8.20 geopandas-0.9.0 munch-2.5.0 pyproj-3.2.1\n"
          ]
        }
      ]
    },
    {
      "cell_type": "code",
      "metadata": {
        "id": "oc9FwEbvMu30"
      },
      "source": [
        "import geopandas as gpd"
      ],
      "execution_count": 7,
      "outputs": []
    },
    {
      "cell_type": "markdown",
      "metadata": {
        "id": "SvURbJpsNefh"
      },
      "source": [
        "## **2. Clone data**"
      ]
    },
    {
      "cell_type": "code",
      "metadata": {
        "colab": {
          "base_uri": "https://localhost:8080/"
        },
        "id": "fCXp1E9uNjAa",
        "outputId": "efa6e297-f202-45e3-fbf1-5847e797d4d2"
      },
      "source": [
        "!git clone https://github.com/CityScope/CSL_HCMC.git"
      ],
      "execution_count": 4,
      "outputs": [
        {
          "output_type": "stream",
          "name": "stdout",
          "text": [
            "Cloning into 'CSL_HCMC'...\n",
            "remote: Enumerating objects: 1930, done.\u001b[K\n",
            "remote: Counting objects: 100% (590/590), done.\u001b[K\n",
            "remote: Compressing objects: 100% (315/315), done.\u001b[K\n",
            "remote: Total 1930 (delta 308), reused 500 (delta 269), pack-reused 1340\u001b[K\n",
            "Receiving objects: 100% (1930/1930), 176.98 MiB | 23.37 MiB/s, done.\n",
            "Resolving deltas: 100% (985/985), done.\n",
            "Checking out files: 100% (542/542), done.\n"
          ]
        }
      ]
    },
    {
      "cell_type": "markdown",
      "metadata": {
        "id": "c9gxrxsUOIGI"
      },
      "source": [
        "## **3. Gán path và đọc file data bằng geopandas**"
      ]
    },
    {
      "cell_type": "code",
      "metadata": {
        "id": "SKz3sxQmNzrS"
      },
      "source": [
        "path_data = \"/content/CSL_HCMC/Data/GIS/Population/population_HCMC/population_shapefile\""
      ],
      "execution_count": 5,
      "outputs": []
    },
    {
      "cell_type": "code",
      "metadata": {
        "id": "KgNaiTBLN_xx"
      },
      "source": [
        "path_read_data = path_data + \"/Population_Ward_Level.shp\""
      ],
      "execution_count": 6,
      "outputs": []
    },
    {
      "cell_type": "code",
      "metadata": {
        "id": "KuPp-f1EOmmO"
      },
      "source": [
        "data = gpd.read_file(path_read_data)"
      ],
      "execution_count": 9,
      "outputs": []
    },
    {
      "cell_type": "markdown",
      "metadata": {
        "id": "BfdOW8Z2PFCv"
      },
      "source": [
        "## **4. Truy vấn**"
      ]
    },
    {
      "cell_type": "markdown",
      "metadata": {
        "id": "dc5uFErePUzm"
      },
      "source": [
        "### **4.1. Phường nào có diện tích lớn nhất**"
      ]
    },
    {
      "cell_type": "code",
      "metadata": {
        "colab": {
          "base_uri": "https://localhost:8080/"
        },
        "id": "w8ib074LQMQw",
        "outputId": "622a5779-c213-4200-8049-beb2fba9cee8"
      },
      "source": [
        "max_area = data.loc[data['Shape_Area'].idxmax()]\n",
        "print(\"Phường có diện tích lớn nhất: {}, {} với diện tích {} mét vuông\".format(max_area['Com_Name'], max_area['Dist_Name'], max_area['Shape_Area']))"
      ],
      "execution_count": 21,
      "outputs": [
        {
          "output_type": "stream",
          "name": "stdout",
          "text": [
            "Phường có diện tích lớn nhất: Ly Nhon, Can Gio với diện tích 161193856.431 mét vuông\n"
          ]
        }
      ]
    },
    {
      "cell_type": "markdown",
      "metadata": {
        "id": "S3LCQhnKPZ-D"
      },
      "source": [
        "### **4.2. Phường nào có dân số 2019 (Pop_2019) cao nhất**"
      ]
    },
    {
      "cell_type": "code",
      "metadata": {
        "colab": {
          "base_uri": "https://localhost:8080/"
        },
        "id": "UgvDBtNwSPaS",
        "outputId": "58bc34ec-76d5-4fe6-ea21-2d9c04299d5b"
      },
      "source": [
        "max_pop_2019 = data.loc[data['Pop_2019'].idxmax()]\n",
        "print(\"Phường có dân số 2019 cao nhất: {}, {} với dân số {} người\".format(max_pop_2019['Com_Name'], max_pop_2019['Dist_Name'], int(max_pop_2019['Pop_2019'])))"
      ],
      "execution_count": 25,
      "outputs": [
        {
          "output_type": "stream",
          "name": "stdout",
          "text": [
            "Phường có dân số 2019 cao nhất: Vinh Loc A, Binh Chanh với dân số 124709 người\n"
          ]
        }
      ]
    },
    {
      "cell_type": "markdown",
      "metadata": {
        "id": "WCXs03uQPeNJ"
      },
      "source": [
        "### **4.3. Phường nào có diện tích nhỏ nhất**"
      ]
    },
    {
      "cell_type": "code",
      "metadata": {
        "colab": {
          "base_uri": "https://localhost:8080/"
        },
        "id": "YWBi7CbwS7O9",
        "outputId": "cfd81b7b-7023-454b-d77c-7016c8d485e8"
      },
      "source": [
        "min_area = data.loc[data['Shape_Area'].idxmin()]\n",
        "print(\"Phường có diện tích nhỏ nhất: {}, {} với diện tích {} mét vuông\".format(min_area['Com_Name'], min_area['Dist_Name'], min_area['Shape_Area']))"
      ],
      "execution_count": 24,
      "outputs": [
        {
          "output_type": "stream",
          "name": "stdout",
          "text": [
            "Phường có diện tích nhỏ nhất: Ward 3, District 10 với diện tích 101642.928821 mét vuông\n"
          ]
        }
      ]
    },
    {
      "cell_type": "markdown",
      "metadata": {
        "id": "znn-jjQhPhCv"
      },
      "source": [
        "### **4.4. Phường nào có dân số thấp nhất (2019)**"
      ]
    },
    {
      "cell_type": "code",
      "metadata": {
        "colab": {
          "base_uri": "https://localhost:8080/"
        },
        "id": "vwFqxzL1TMYZ",
        "outputId": "941138f0-1fe3-4746-a3e5-ef7c5bfc98b5"
      },
      "source": [
        "min_pop_2019 = data.loc[data['Pop_2019'].idxmin()]\n",
        "print(\"Phường có dân số 2019 thấp nhất: {}, {} với dân số {} người\".format(min_pop_2019['Com_Name'], min_pop_2019['Dist_Name'], int(min_pop_2019['Pop_2019'])))"
      ],
      "execution_count": 26,
      "outputs": [
        {
          "output_type": "stream",
          "name": "stdout",
          "text": [
            "Phường có dân số 2019 thấp nhất: An Khanh, District 2 với dân số 223 người\n"
          ]
        }
      ]
    },
    {
      "cell_type": "markdown",
      "metadata": {
        "id": "E1miCJtmPped"
      },
      "source": [
        "### **4.5. Phường nào có tốc độ tăng trưởng dân số nhanh nhất (dựa trên Pop_2009 và Pop_2019)**"
      ]
    },
    {
      "cell_type": "code",
      "metadata": {
        "id": "-VMSiUnuT_l0"
      },
      "source": [
        "data['TocDoTangTruong'] = data['Pop_2019'] / data['Pop_2009']"
      ],
      "execution_count": 35,
      "outputs": []
    },
    {
      "cell_type": "code",
      "metadata": {
        "colab": {
          "base_uri": "https://localhost:8080/"
        },
        "id": "OAJH6scETx50",
        "outputId": "f90d357a-88aa-46ec-9119-2c1d5c2b87ca"
      },
      "source": [
        "max_toc_do = data.loc[data['TocDoTangTruong'].idxmax()]\n",
        "print(\"Phường có tốc độ tăng trưởng dân số nhanh nhất: {}, {} từ 2009->2019 là {:.2f} lần\".format(max_toc_do['Com_Name'], max_toc_do['Dist_Name'], max_toc_do['TocDoTangTruong']))"
      ],
      "execution_count": 38,
      "outputs": [
        {
          "output_type": "stream",
          "name": "stdout",
          "text": [
            "Phường có tốc độ tăng trưởng dân số nhanh nhất: Phu Huu, District 9 từ 2009->2019 là 3.06 lần\n"
          ]
        }
      ]
    },
    {
      "cell_type": "markdown",
      "metadata": {
        "id": "cpaCUAmBPpXf"
      },
      "source": [
        "### **4.6. Phường nào có tốc độ tăng trưởng dân số thấp nhất**"
      ]
    },
    {
      "cell_type": "code",
      "metadata": {
        "colab": {
          "base_uri": "https://localhost:8080/"
        },
        "id": "gd_C4_24VE9T",
        "outputId": "756b3f14-0d05-43d3-92a2-4ae1075febda"
      },
      "source": [
        "min_toc_do = data.loc[data['TocDoTangTruong'].idxmin()]\n",
        "print(\"Phường có tốc độ tăng trưởng dân số thấp nhất: {}, {} từ 2009->2019 là {:.2f} lần\".format(min_toc_do['Com_Name'], min_toc_do['Dist_Name'], min_toc_do['TocDoTangTruong']))"
      ],
      "execution_count": 39,
      "outputs": [
        {
          "output_type": "stream",
          "name": "stdout",
          "text": [
            "Phường có tốc độ tăng trưởng dân số thấp nhất: An Khanh, District 2 từ 2009->2019 là 0.01 lần\n"
          ]
        }
      ]
    },
    {
      "cell_type": "markdown",
      "metadata": {
        "id": "tLX4oumDPpOI"
      },
      "source": [
        "### **4.7. Phường nào có biến động dân số nhanh nhất**"
      ]
    },
    {
      "cell_type": "code",
      "metadata": {
        "id": "Vod-6zEOXEcU"
      },
      "source": [
        "data['BienDongTangTruong'] = data['Pop_2019'] - data['Pop_2009']"
      ],
      "execution_count": 41,
      "outputs": []
    },
    {
      "cell_type": "code",
      "metadata": {
        "colab": {
          "base_uri": "https://localhost:8080/"
        },
        "id": "FF76oUDRWRaB",
        "outputId": "01393c01-34e0-4264-8703-3f54ef1c397e"
      },
      "source": [
        "max_bien_dong = data.loc[data['BienDongTangTruong'].idxmax()]\n",
        "if max_bien_dong['BienDongTangTruong'] < 0:\n",
        "  status_max_bien_dong = \"GIẢM\"\n",
        "else:\n",
        "  status_max_bien_dong = \"TĂNG\"\n",
        "print(\"Phường có biến động dân số nhanh nhất: {}, {} với dân số {} từ 2009->2019 là {} người\".format(max_bien_dong['Com_Name'], max_bien_dong['Dist_Name'], status_max_bien_dong, int(abs(max_bien_dong['BienDongTangTruong']))))"
      ],
      "execution_count": 44,
      "outputs": [
        {
          "output_type": "stream",
          "name": "stdout",
          "text": [
            "Phường có biến động dân số nhanh nhất: Vinh Loc A, Binh Chanh với dân số TĂNG từ 2009->2019 là 74763 người\n"
          ]
        }
      ]
    },
    {
      "cell_type": "markdown",
      "metadata": {
        "id": "hZSU0tmiPo_o"
      },
      "source": [
        "### **4.8. Phường nào có biến động dân số chậm nhất**"
      ]
    },
    {
      "cell_type": "code",
      "metadata": {
        "colab": {
          "base_uri": "https://localhost:8080/"
        },
        "id": "kqYpx0MTWUEA",
        "outputId": "8e040cc3-af17-42ad-f696-d0668fb362ea"
      },
      "source": [
        "min_bien_dong = data.loc[data['BienDongTangTruong'].idxmin()]\n",
        "if min_bien_dong['BienDongTangTruong'] < 0:\n",
        "  status_min_bien_dong = \"GIẢM\"\n",
        "else:\n",
        "  status_min_bien_dong = \"TĂNG\"\n",
        "print(\"Phường có biến động dân số chậm nhất: {}, {} với dân số {} từ 2009->2019 là {} người\".format(min_bien_dong['Com_Name'], min_bien_dong['Dist_Name'], status_min_bien_dong, int(abs(min_bien_dong['BienDongTangTruong']))))"
      ],
      "execution_count": 45,
      "outputs": [
        {
          "output_type": "stream",
          "name": "stdout",
          "text": [
            "Phường có biến động dân số chậm nhất: An Khanh, District 2 với dân số GIẢM từ 2009->2019 là 15436 người\n"
          ]
        }
      ]
    },
    {
      "cell_type": "markdown",
      "metadata": {
        "id": "i3-Yi9TyQCmg"
      },
      "source": [
        "### **4.9. Phường nào có mật độ dân số cao nhất (2019)**"
      ]
    },
    {
      "cell_type": "code",
      "metadata": {
        "id": "YNh58gMSXwCg"
      },
      "source": [
        "data['MatDoDanSo'] = data['Pop_2019'] / (data['Shape_Area'] / 1000000)"
      ],
      "execution_count": 58,
      "outputs": []
    },
    {
      "cell_type": "code",
      "metadata": {
        "colab": {
          "base_uri": "https://localhost:8080/"
        },
        "id": "9-nCkW8CX6G6",
        "outputId": "1458492c-c479-4047-a4df-83a61b53d4f4"
      },
      "source": [
        "max_mat_do = data.loc[data['MatDoDanSo'].idxmax()]\n",
        "print(\"Phường có mật độ dân số cao nhất (2019): {}, {} là {} người/km^2\".format(max_mat_do['Com_Name'], max_mat_do['Dist_Name'], int(max_mat_do['MatDoDanSo'])))"
      ],
      "execution_count": 61,
      "outputs": [
        {
          "output_type": "stream",
          "name": "stdout",
          "text": [
            "Phường có mật độ dân số cao nhất (2019): Ward 8, District 4 là 96192 người/km^2\n"
          ]
        }
      ]
    },
    {
      "cell_type": "markdown",
      "metadata": {
        "id": "S1wd69tpQGMm"
      },
      "source": [
        "### **4.10. Phường nào có mật độ dân số thấp nhất (2019)**"
      ]
    },
    {
      "cell_type": "code",
      "metadata": {
        "colab": {
          "base_uri": "https://localhost:8080/"
        },
        "id": "r-xgLD0IYTZJ",
        "outputId": "3b94a0f2-400e-4e3e-daf7-a6d459eddbe1"
      },
      "source": [
        "min_mat_do = data.loc[data['MatDoDanSo'].idxmin()]\n",
        "print(\"Phường có mật độ dân số thấp nhất (2019): {}, {} là {} người/km^2\".format(min_mat_do['Com_Name'], min_mat_do['Dist_Name'], int(min_mat_do['MatDoDanSo'])))"
      ],
      "execution_count": 62,
      "outputs": [
        {
          "output_type": "stream",
          "name": "stdout",
          "text": [
            "Phường có mật độ dân số thấp nhất (2019): Ly Nhon, Can Gio là 32 người/km^2\n"
          ]
        }
      ]
    }
  ]
}
