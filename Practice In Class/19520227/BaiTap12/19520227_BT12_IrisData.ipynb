{
  "nbformat": 4,
  "nbformat_minor": 0,
  "metadata": {
    "colab": {
      "name": "19520227_BT12_IrisData.ipynb",
      "provenance": [],
      "authorship_tag": "ABX9TyNIKWBRFfzqoi0wa1LiyYkc",
      "include_colab_link": true
    },
    "kernelspec": {
      "name": "python3",
      "display_name": "Python 3"
    },
    "language_info": {
      "name": "python"
    }
  },
  "cells": [
    {
      "cell_type": "markdown",
      "metadata": {
        "id": "view-in-github",
        "colab_type": "text"
      },
      "source": [
        "<a href=\"https://colab.research.google.com/github/lphuong304/CS116.M11/blob/main/Practice%20In%20Class/19520227/BaiTap12/19520227_BT12_IrisData.ipynb\" target=\"_parent\"><img src=\"https://colab.research.google.com/assets/colab-badge.svg\" alt=\"Open In Colab\"/></a>"
      ]
    },
    {
      "cell_type": "markdown",
      "metadata": {
        "id": "VBNIssUzWvDt"
      },
      "source": [
        "<h1 align=\"center\"><strong>BÀI TẬP 12 - 23/11/2021</strong></h1>\n",
        "<h1 align=\"center\"><strong>LẬP TRÌNH PYTHON CHO MÁY HỌC CS116.M11 - BÀI TOÁN PHÂN LỚP VỚI XGBOOST VÀ GBM VỚI IRIS DATASET </strong></h1>\n",
        "\n",
        "# GIỚI THIỆU:\n",
        "\n",
        "1. Họ và tên: Nguyễn Ngọc Lan Phương\n",
        "2. MSSV: 19520227 - KHMT2019\n",
        "3. Lớp: CS116.M11\n",
        "4. Bài tập: Bài toán Phân lớp với XGBoost và GBM.\n",
        "5. Ngày thực hiện: 23/11/2021\n",
        "\n",
        "# MỤC LỤC\n",
        "1. [Import packages](#1)\n",
        "2. [Get data](#2)\n",
        "3. [Method 1: Using Gradient Boosting Classifier](#3) \n",
        "4. [Method 2: Using XGBoost Classifier](#4) \n"
      ]
    },
    {
      "cell_type": "markdown",
      "metadata": {
        "id": "_lyWOQYbXMGl"
      },
      "source": [
        "<a name = \"1\"></a>\n",
        "#1. Import packages"
      ]
    },
    {
      "cell_type": "code",
      "metadata": {
        "id": "NgHsNVKeX00q"
      },
      "source": [
        "import os\n",
        "import pandas as pd\n",
        "import numpy as np\n",
        "import matplotlib.pyplot as plt\n",
        "from sklearn.linear_model import LinearRegression, LogisticRegression, Ridge, Lasso\n",
        "from sklearn.preprocessing import StandardScaler\n",
        "from sklearn.metrics import accuracy_score, mean_squared_error, classification_report\n",
        "from sklearn.model_selection import train_test_split, KFold\n",
        "from sklearn.svm import SVC\n",
        "from sklearn.ensemble import GradientBoostingClassifier as GBM\n",
        "from sklearn.datasets import load_iris\n",
        "import warnings\n",
        "warnings.filterwarnings('ignore')\n",
        "from xgboost import XGBRegressor, XGBClassifier"
      ],
      "execution_count": null,
      "outputs": []
    },
    {
      "cell_type": "markdown",
      "metadata": {
        "id": "KILr7hPhX1of"
      },
      "source": [
        "<a name = \"2\"></a>\n",
        "#2. Get data"
      ]
    },
    {
      "cell_type": "code",
      "metadata": {
        "id": "vpaQ3FL9Yd8H"
      },
      "source": [
        "data = load_iris()"
      ],
      "execution_count": null,
      "outputs": []
    },
    {
      "cell_type": "markdown",
      "metadata": {
        "id": "tYdWrpvRcv7S"
      },
      "source": [
        "<a name = \"3\"></a>\n",
        "#3. Method 1 -  Using Gradient Boosting Classifier\n"
      ]
    },
    {
      "cell_type": "code",
      "metadata": {
        "colab": {
          "base_uri": "https://localhost:8080/"
        },
        "id": "Kwcexof_ZJL7",
        "outputId": "95ea891a-7780-47ce-e73a-af076a54f64c"
      },
      "source": [
        "X = data.data\n",
        "y = data.target\n",
        "X"
      ],
      "execution_count": null,
      "outputs": [
        {
          "output_type": "execute_result",
          "data": {
            "text/plain": [
              "array([[5.1, 3.5, 1.4, 0.2],\n",
              "       [4.9, 3. , 1.4, 0.2],\n",
              "       [4.7, 3.2, 1.3, 0.2],\n",
              "       [4.6, 3.1, 1.5, 0.2],\n",
              "       [5. , 3.6, 1.4, 0.2],\n",
              "       [5.4, 3.9, 1.7, 0.4],\n",
              "       [4.6, 3.4, 1.4, 0.3],\n",
              "       [5. , 3.4, 1.5, 0.2],\n",
              "       [4.4, 2.9, 1.4, 0.2],\n",
              "       [4.9, 3.1, 1.5, 0.1],\n",
              "       [5.4, 3.7, 1.5, 0.2],\n",
              "       [4.8, 3.4, 1.6, 0.2],\n",
              "       [4.8, 3. , 1.4, 0.1],\n",
              "       [4.3, 3. , 1.1, 0.1],\n",
              "       [5.8, 4. , 1.2, 0.2],\n",
              "       [5.7, 4.4, 1.5, 0.4],\n",
              "       [5.4, 3.9, 1.3, 0.4],\n",
              "       [5.1, 3.5, 1.4, 0.3],\n",
              "       [5.7, 3.8, 1.7, 0.3],\n",
              "       [5.1, 3.8, 1.5, 0.3],\n",
              "       [5.4, 3.4, 1.7, 0.2],\n",
              "       [5.1, 3.7, 1.5, 0.4],\n",
              "       [4.6, 3.6, 1. , 0.2],\n",
              "       [5.1, 3.3, 1.7, 0.5],\n",
              "       [4.8, 3.4, 1.9, 0.2],\n",
              "       [5. , 3. , 1.6, 0.2],\n",
              "       [5. , 3.4, 1.6, 0.4],\n",
              "       [5.2, 3.5, 1.5, 0.2],\n",
              "       [5.2, 3.4, 1.4, 0.2],\n",
              "       [4.7, 3.2, 1.6, 0.2],\n",
              "       [4.8, 3.1, 1.6, 0.2],\n",
              "       [5.4, 3.4, 1.5, 0.4],\n",
              "       [5.2, 4.1, 1.5, 0.1],\n",
              "       [5.5, 4.2, 1.4, 0.2],\n",
              "       [4.9, 3.1, 1.5, 0.2],\n",
              "       [5. , 3.2, 1.2, 0.2],\n",
              "       [5.5, 3.5, 1.3, 0.2],\n",
              "       [4.9, 3.6, 1.4, 0.1],\n",
              "       [4.4, 3. , 1.3, 0.2],\n",
              "       [5.1, 3.4, 1.5, 0.2],\n",
              "       [5. , 3.5, 1.3, 0.3],\n",
              "       [4.5, 2.3, 1.3, 0.3],\n",
              "       [4.4, 3.2, 1.3, 0.2],\n",
              "       [5. , 3.5, 1.6, 0.6],\n",
              "       [5.1, 3.8, 1.9, 0.4],\n",
              "       [4.8, 3. , 1.4, 0.3],\n",
              "       [5.1, 3.8, 1.6, 0.2],\n",
              "       [4.6, 3.2, 1.4, 0.2],\n",
              "       [5.3, 3.7, 1.5, 0.2],\n",
              "       [5. , 3.3, 1.4, 0.2],\n",
              "       [7. , 3.2, 4.7, 1.4],\n",
              "       [6.4, 3.2, 4.5, 1.5],\n",
              "       [6.9, 3.1, 4.9, 1.5],\n",
              "       [5.5, 2.3, 4. , 1.3],\n",
              "       [6.5, 2.8, 4.6, 1.5],\n",
              "       [5.7, 2.8, 4.5, 1.3],\n",
              "       [6.3, 3.3, 4.7, 1.6],\n",
              "       [4.9, 2.4, 3.3, 1. ],\n",
              "       [6.6, 2.9, 4.6, 1.3],\n",
              "       [5.2, 2.7, 3.9, 1.4],\n",
              "       [5. , 2. , 3.5, 1. ],\n",
              "       [5.9, 3. , 4.2, 1.5],\n",
              "       [6. , 2.2, 4. , 1. ],\n",
              "       [6.1, 2.9, 4.7, 1.4],\n",
              "       [5.6, 2.9, 3.6, 1.3],\n",
              "       [6.7, 3.1, 4.4, 1.4],\n",
              "       [5.6, 3. , 4.5, 1.5],\n",
              "       [5.8, 2.7, 4.1, 1. ],\n",
              "       [6.2, 2.2, 4.5, 1.5],\n",
              "       [5.6, 2.5, 3.9, 1.1],\n",
              "       [5.9, 3.2, 4.8, 1.8],\n",
              "       [6.1, 2.8, 4. , 1.3],\n",
              "       [6.3, 2.5, 4.9, 1.5],\n",
              "       [6.1, 2.8, 4.7, 1.2],\n",
              "       [6.4, 2.9, 4.3, 1.3],\n",
              "       [6.6, 3. , 4.4, 1.4],\n",
              "       [6.8, 2.8, 4.8, 1.4],\n",
              "       [6.7, 3. , 5. , 1.7],\n",
              "       [6. , 2.9, 4.5, 1.5],\n",
              "       [5.7, 2.6, 3.5, 1. ],\n",
              "       [5.5, 2.4, 3.8, 1.1],\n",
              "       [5.5, 2.4, 3.7, 1. ],\n",
              "       [5.8, 2.7, 3.9, 1.2],\n",
              "       [6. , 2.7, 5.1, 1.6],\n",
              "       [5.4, 3. , 4.5, 1.5],\n",
              "       [6. , 3.4, 4.5, 1.6],\n",
              "       [6.7, 3.1, 4.7, 1.5],\n",
              "       [6.3, 2.3, 4.4, 1.3],\n",
              "       [5.6, 3. , 4.1, 1.3],\n",
              "       [5.5, 2.5, 4. , 1.3],\n",
              "       [5.5, 2.6, 4.4, 1.2],\n",
              "       [6.1, 3. , 4.6, 1.4],\n",
              "       [5.8, 2.6, 4. , 1.2],\n",
              "       [5. , 2.3, 3.3, 1. ],\n",
              "       [5.6, 2.7, 4.2, 1.3],\n",
              "       [5.7, 3. , 4.2, 1.2],\n",
              "       [5.7, 2.9, 4.2, 1.3],\n",
              "       [6.2, 2.9, 4.3, 1.3],\n",
              "       [5.1, 2.5, 3. , 1.1],\n",
              "       [5.7, 2.8, 4.1, 1.3],\n",
              "       [6.3, 3.3, 6. , 2.5],\n",
              "       [5.8, 2.7, 5.1, 1.9],\n",
              "       [7.1, 3. , 5.9, 2.1],\n",
              "       [6.3, 2.9, 5.6, 1.8],\n",
              "       [6.5, 3. , 5.8, 2.2],\n",
              "       [7.6, 3. , 6.6, 2.1],\n",
              "       [4.9, 2.5, 4.5, 1.7],\n",
              "       [7.3, 2.9, 6.3, 1.8],\n",
              "       [6.7, 2.5, 5.8, 1.8],\n",
              "       [7.2, 3.6, 6.1, 2.5],\n",
              "       [6.5, 3.2, 5.1, 2. ],\n",
              "       [6.4, 2.7, 5.3, 1.9],\n",
              "       [6.8, 3. , 5.5, 2.1],\n",
              "       [5.7, 2.5, 5. , 2. ],\n",
              "       [5.8, 2.8, 5.1, 2.4],\n",
              "       [6.4, 3.2, 5.3, 2.3],\n",
              "       [6.5, 3. , 5.5, 1.8],\n",
              "       [7.7, 3.8, 6.7, 2.2],\n",
              "       [7.7, 2.6, 6.9, 2.3],\n",
              "       [6. , 2.2, 5. , 1.5],\n",
              "       [6.9, 3.2, 5.7, 2.3],\n",
              "       [5.6, 2.8, 4.9, 2. ],\n",
              "       [7.7, 2.8, 6.7, 2. ],\n",
              "       [6.3, 2.7, 4.9, 1.8],\n",
              "       [6.7, 3.3, 5.7, 2.1],\n",
              "       [7.2, 3.2, 6. , 1.8],\n",
              "       [6.2, 2.8, 4.8, 1.8],\n",
              "       [6.1, 3. , 4.9, 1.8],\n",
              "       [6.4, 2.8, 5.6, 2.1],\n",
              "       [7.2, 3. , 5.8, 1.6],\n",
              "       [7.4, 2.8, 6.1, 1.9],\n",
              "       [7.9, 3.8, 6.4, 2. ],\n",
              "       [6.4, 2.8, 5.6, 2.2],\n",
              "       [6.3, 2.8, 5.1, 1.5],\n",
              "       [6.1, 2.6, 5.6, 1.4],\n",
              "       [7.7, 3. , 6.1, 2.3],\n",
              "       [6.3, 3.4, 5.6, 2.4],\n",
              "       [6.4, 3.1, 5.5, 1.8],\n",
              "       [6. , 3. , 4.8, 1.8],\n",
              "       [6.9, 3.1, 5.4, 2.1],\n",
              "       [6.7, 3.1, 5.6, 2.4],\n",
              "       [6.9, 3.1, 5.1, 2.3],\n",
              "       [5.8, 2.7, 5.1, 1.9],\n",
              "       [6.8, 3.2, 5.9, 2.3],\n",
              "       [6.7, 3.3, 5.7, 2.5],\n",
              "       [6.7, 3. , 5.2, 2.3],\n",
              "       [6.3, 2.5, 5. , 1.9],\n",
              "       [6.5, 3. , 5.2, 2. ],\n",
              "       [6.2, 3.4, 5.4, 2.3],\n",
              "       [5.9, 3. , 5.1, 1.8]])"
            ]
          },
          "metadata": {},
          "execution_count": 9
        }
      ]
    },
    {
      "cell_type": "code",
      "metadata": {
        "colab": {
          "base_uri": "https://localhost:8080/"
        },
        "id": "T7Cn-oyBajlY",
        "outputId": "327b1ed7-eb2b-47cb-a660-39275118dcc8"
      },
      "source": [
        "n_splits = 5\n",
        "evaluate = KFold(n_splits=n_splits, random_state=None)\n",
        "model = GBM(n_estimators=100, learning_rate=1.0, max_depth=1, random_state=0)\n",
        "\n",
        "acc_score = []\n",
        "i = 1\n",
        "for train_index , test_index in evaluate.split(X):\n",
        "    X_train, X_test = X[train_index,:],X[test_index,:]\n",
        "    y_train, y_test = y[train_index] , y[test_index]\n",
        "    \n",
        "    model.fit(X_train,y_train)\n",
        "    predictY = model.predict(X_test)\n",
        "    \n",
        "    acc = model.score(X_test,y_test)\n",
        "    acc_score.append(acc)\n",
        "    print('Fold {}:'.format(i))\n",
        "    i += 1\n",
        "    print('\\nAccuracy: {}'.format(acc))\n",
        "    print('=================================\\n')\n",
        "avg_acc_score = round(sum(acc_score)/n_splits,3)\n",
        "print('\\nAvg score: {}'.format(avg_acc_score))"
      ],
      "execution_count": null,
      "outputs": [
        {
          "output_type": "stream",
          "name": "stdout",
          "text": [
            "Fold 1:\n",
            "\n",
            "Accuracy: 1.0\n",
            "=================================\n",
            "\n",
            "Fold 2:\n",
            "\n",
            "Accuracy: 0.9666666666666667\n",
            "=================================\n",
            "\n",
            "Fold 3:\n",
            "\n",
            "Accuracy: 0.9\n",
            "=================================\n",
            "\n",
            "Fold 4:\n",
            "\n",
            "Accuracy: 0.9333333333333333\n",
            "=================================\n",
            "\n",
            "Fold 5:\n",
            "\n",
            "Accuracy: 0.7333333333333333\n",
            "=================================\n",
            "\n",
            "\n",
            "Avg score: 0.907\n"
          ]
        }
      ]
    },
    {
      "cell_type": "markdown",
      "metadata": {
        "id": "t5-iWU16ctQQ"
      },
      "source": [
        "<a name = \"4\"></a>\n",
        "#4. Method 2 -  Using XGBoost Classifier"
      ]
    },
    {
      "cell_type": "code",
      "metadata": {
        "colab": {
          "base_uri": "https://localhost:8080/"
        },
        "id": "cbCQlhV2c1XC",
        "outputId": "042bde9c-ac8c-40e5-b48c-a3d249ddaf9f"
      },
      "source": [
        "model2 = XGBClassifier()\n",
        "\n",
        "acc_score2 = []\n",
        "i = 1\n",
        "for train_index , test_index in evaluate.split(X):\n",
        "    X_train, X_test = X[train_index,:],X[test_index,:]\n",
        "    y_train, y_test = y[train_index] , y[test_index]\n",
        "    \n",
        "    model2.fit(X_train,y_train)\n",
        "    predictY = model.predict(X_test)\n",
        "    \n",
        "    acc2 = model.score(X_test,y_test)\n",
        "    acc_score2.append(acc2)\n",
        "    print('Fold {}:'.format(i))\n",
        "    i += 1\n",
        "    print('\\nAccuracy: {}'.format(acc2))\n",
        "    print('=================================\\n')\n",
        "avg_acc_score2 = round(sum(acc_score2)/n_splits,3)\n",
        "print('\\nAvg score: {}'.format(avg_acc_score2))"
      ],
      "execution_count": null,
      "outputs": [
        {
          "output_type": "stream",
          "name": "stdout",
          "text": [
            "Fold 1:\n",
            "\n",
            "Accuracy: 1.0\n",
            "=================================\n",
            "\n",
            "Fold 2:\n",
            "\n",
            "Accuracy: 1.0\n",
            "=================================\n",
            "\n",
            "Fold 3:\n",
            "\n",
            "Accuracy: 1.0\n",
            "=================================\n",
            "\n",
            "Fold 4:\n",
            "\n",
            "Accuracy: 1.0\n",
            "=================================\n",
            "\n",
            "Fold 5:\n",
            "\n",
            "Accuracy: 0.7333333333333333\n",
            "=================================\n",
            "\n",
            "\n",
            "Avg score: 0.947\n"
          ]
        }
      ]
    }
  ]
}