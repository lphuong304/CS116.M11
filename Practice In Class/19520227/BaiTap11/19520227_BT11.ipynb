{
  "nbformat": 4,
  "nbformat_minor": 0,
  "metadata": {
    "colab": {
      "name": "19520227_BT11.ipynb",
      "provenance": [],
      "collapsed_sections": [],
      "toc_visible": true,
      "authorship_tag": "ABX9TyPUJV1H6CLY2cniMEiEgWHG",
      "include_colab_link": true
    },
    "kernelspec": {
      "name": "python3",
      "display_name": "Python 3"
    },
    "language_info": {
      "name": "python"
    }
  },
  "cells": [
    {
      "cell_type": "markdown",
      "metadata": {
        "id": "view-in-github",
        "colab_type": "text"
      },
      "source": [
        "<a href=\"https://colab.research.google.com/github/lphuong304/CS116.M11/blob/main/Practice%20In%20Class/19520227/BaiTap11/19520227_BT11.ipynb\" target=\"_parent\"><img src=\"https://colab.research.google.com/assets/colab-badge.svg\" alt=\"Open In Colab\"/></a>"
      ]
    },
    {
      "cell_type": "markdown",
      "metadata": {
        "id": "uRoHrP3PUkLh"
      },
      "source": [
        "<h1 align=\"center\"><strong>BÀI TẬP 11 - 17/11/2021</strong></h1>\n",
        "<h1 align=\"center\"><strong>LẬP TRÌNH PYTHON CHO MÁY HỌC CS116.M11 - BÀI TOÁN OPTIMIZE HYPARAMETERS </strong></h1>\n",
        "\n",
        "# GIỚI THIỆU:\n",
        "\n",
        "1. Họ và tên: Nguyễn Ngọc Lan Phương\n",
        "2. MSSV: 19520227 - KHMT2019\n",
        "3. Lớp: CS116.M11\n",
        "4. Bài tập: Bài toán Optimize Hyparameters.\n",
        "5. Ngày thực hiện: 17/11/2021\n",
        "\n",
        "# MỤC LỤC\n",
        "1. [import packages](#1)\n",
        "2. [get data](#2)\n",
        "3. [split train:val:test(6:2:2)](#3)\n",
        "4. [pre-processing datasets](#4)\n",
        "5. [list of hyparameter](#5)\n",
        "6. [find best parameter](#6)\n",
        "7. [evaluation](#7)"
      ]
    },
    {
      "cell_type": "markdown",
      "metadata": {
        "id": "EQVvyXLsYjkH"
      },
      "source": [
        "<a name = \"1\"></a>\n",
        "#1. import packages"
      ]
    },
    {
      "cell_type": "code",
      "metadata": {
        "id": "PH8Bw9F_YjtL"
      },
      "source": [
        "import os\n",
        "import pandas as pd\n",
        "import numpy as np\n",
        "import matplotlib.pyplot as plt\n",
        "from sklearn.linear_model import LinearRegression, LogisticRegression, Ridge, Lasso\n",
        "from sklearn.preprocessing import StandardScaler, LabelEncoder, OneHotEncoder\n",
        "from sklearn.metrics import accuracy_score, mean_squared_error, classification_report\n",
        "from sklearn.model_selection import train_test_split, KFold, GridSearchCV\n",
        "from sklearn.svm import SVC\n",
        "import warnings\n",
        "warnings.filterwarnings('ignore')"
      ],
      "execution_count": null,
      "outputs": []
    },
    {
      "cell_type": "markdown",
      "metadata": {
        "id": "sbpvn1lAU2DI"
      },
      "source": [
        "<a name = \"2\"></a>\n",
        "#2. get data"
      ]
    },
    {
      "cell_type": "code",
      "metadata": {
        "id": "D8onIUTdUgMf",
        "colab": {
          "base_uri": "https://localhost:8080/"
        },
        "outputId": "4136df3b-3b87-435a-961e-96482b657ac1"
      },
      "source": [
        "!gdown --id 1vFk63n3YATMLGauFCovSHgmXUi1vhxMM"
      ],
      "execution_count": null,
      "outputs": [
        {
          "output_type": "stream",
          "name": "stdout",
          "text": [
            "Downloading...\n",
            "From: https://drive.google.com/uc?id=1vFk63n3YATMLGauFCovSHgmXUi1vhxMM\n",
            "To: /content/Social_Network_Ads.csv\n",
            "\r  0% 0.00/4.90k [00:00<?, ?B/s]\r100% 4.90k/4.90k [00:00<00:00, 4.20MB/s]\n"
          ]
        }
      ]
    },
    {
      "cell_type": "code",
      "metadata": {
        "id": "4rqs-zmAbHSB",
        "colab": {
          "base_uri": "https://localhost:8080/",
          "height": 204
        },
        "outputId": "895bbec8-10db-4c4b-8e20-932d80ca84cc"
      },
      "source": [
        "data = pd.read_csv('/content/Social_Network_Ads.csv')\n",
        "data.head(5)"
      ],
      "execution_count": null,
      "outputs": [
        {
          "output_type": "execute_result",
          "data": {
            "text/html": [
              "<div>\n",
              "<style scoped>\n",
              "    .dataframe tbody tr th:only-of-type {\n",
              "        vertical-align: middle;\n",
              "    }\n",
              "\n",
              "    .dataframe tbody tr th {\n",
              "        vertical-align: top;\n",
              "    }\n",
              "\n",
              "    .dataframe thead th {\n",
              "        text-align: right;\n",
              "    }\n",
              "</style>\n",
              "<table border=\"1\" class=\"dataframe\">\n",
              "  <thead>\n",
              "    <tr style=\"text-align: right;\">\n",
              "      <th></th>\n",
              "      <th>Age</th>\n",
              "      <th>EstimatedSalary</th>\n",
              "      <th>Purchased</th>\n",
              "    </tr>\n",
              "  </thead>\n",
              "  <tbody>\n",
              "    <tr>\n",
              "      <th>0</th>\n",
              "      <td>19</td>\n",
              "      <td>19000</td>\n",
              "      <td>0</td>\n",
              "    </tr>\n",
              "    <tr>\n",
              "      <th>1</th>\n",
              "      <td>35</td>\n",
              "      <td>20000</td>\n",
              "      <td>0</td>\n",
              "    </tr>\n",
              "    <tr>\n",
              "      <th>2</th>\n",
              "      <td>26</td>\n",
              "      <td>43000</td>\n",
              "      <td>0</td>\n",
              "    </tr>\n",
              "    <tr>\n",
              "      <th>3</th>\n",
              "      <td>27</td>\n",
              "      <td>57000</td>\n",
              "      <td>0</td>\n",
              "    </tr>\n",
              "    <tr>\n",
              "      <th>4</th>\n",
              "      <td>19</td>\n",
              "      <td>76000</td>\n",
              "      <td>0</td>\n",
              "    </tr>\n",
              "  </tbody>\n",
              "</table>\n",
              "</div>"
            ],
            "text/plain": [
              "   Age  EstimatedSalary  Purchased\n",
              "0   19            19000          0\n",
              "1   35            20000          0\n",
              "2   26            43000          0\n",
              "3   27            57000          0\n",
              "4   19            76000          0"
            ]
          },
          "metadata": {},
          "execution_count": 9
        }
      ]
    },
    {
      "cell_type": "markdown",
      "metadata": {
        "id": "38Ea3pcptctq"
      },
      "source": [
        "<a name = \"3\"></a>\n",
        "#3. split train:val:test (6:2:2)"
      ]
    },
    {
      "cell_type": "code",
      "metadata": {
        "id": "ePI2TNw8Ftwb"
      },
      "source": [
        "X = data.iloc[:,:-1]\n",
        "y = data.iloc[:,-1:]"
      ],
      "execution_count": null,
      "outputs": []
    },
    {
      "cell_type": "code",
      "metadata": {
        "colab": {
          "base_uri": "https://localhost:8080/"
        },
        "id": "w5wqUekNtku_",
        "outputId": "cf3b0959-e414-49ac-d225-9bc4bec1d66e"
      },
      "source": [
        "X_train, X_test, y_train, y_test = train_test_split(X,y,test_size = 0.2, random_state = 42)\n",
        "X_train, X_val, y_train, y_val = train_test_split(X,y,test_size = 0.2, random_state = 42)\n",
        "print('Số mẫu dữ liệu trong tập train: {}'.format(X_train.shape))\n",
        "print('Số mẫu dữ liệu trong tập test: {}'.format(X_test.shape))\n",
        "print('Số mẫu dữ liệu trong tập valid : {}'.format(X_val.shape))"
      ],
      "execution_count": null,
      "outputs": [
        {
          "output_type": "stream",
          "name": "stdout",
          "text": [
            "Số mẫu dữ liệu trong tập train: (320, 2)\n",
            "Số mẫu dữ liệu trong tập test: (80, 2)\n",
            "Số mẫu dữ liệu trong tập valid : (80, 2)\n"
          ]
        }
      ]
    },
    {
      "cell_type": "markdown",
      "metadata": {
        "id": "DGA9ZP1ssuit"
      },
      "source": [
        "<a name = \"4\"></a>\n",
        "#4. pre-processing datasets"
      ]
    },
    {
      "cell_type": "code",
      "metadata": {
        "id": "uBAv7pYLMtEB"
      },
      "source": [
        "scaler = StandardScaler()\n",
        "scaledX_train = scaler.fit_transform(X_train)\n",
        "scaledX_test = scaler.transform(X_test)\n",
        "scaledX_val = scaler.transform(X_val)"
      ],
      "execution_count": null,
      "outputs": []
    },
    {
      "cell_type": "markdown",
      "metadata": {
        "id": "KiN4jJNlOoqJ"
      },
      "source": [
        "<a name = \"5\"></a>\n",
        "#5. list of hyparameters"
      ]
    },
    {
      "cell_type": "code",
      "metadata": {
        "id": "n177_fPkOn8i"
      },
      "source": [
        "listKernel = ['linear', 'rbf', 'poly', 'sigmoid']\n",
        "listC = [1, 10, 100, 1000]\n",
        "listGamma =  [0.0001, 0.001, 0.01, 0.1]"
      ],
      "execution_count": null,
      "outputs": []
    },
    {
      "cell_type": "markdown",
      "metadata": {
        "id": "0adgb2ljuKMi"
      },
      "source": [
        "<a name = \"6\"></a>\n",
        "#6. find best hyparameters"
      ]
    },
    {
      "cell_type": "markdown",
      "metadata": {
        "id": "21zLyChIe3IW"
      },
      "source": [
        "##6.1 loop method"
      ]
    },
    {
      "cell_type": "code",
      "metadata": {
        "colab": {
          "base_uri": "https://localhost:8080/"
        },
        "id": "pT179CZmWU4K",
        "outputId": "6b7cfb31-6ab7-453d-84cb-bc58118c1535"
      },
      "source": [
        "bestK, bestC, bestG =  listKernel[0], listC[0], listGamma[0]\n",
        "svc = SVC(kernel=bestK, C = bestC, gamma=bestG).fit(scaledX_train, y_train)\n",
        "predict = svc.predict(scaledX_val)\n",
        "score_flag = accuracy_score(y_val, predict)\n",
        "print('=========================================')\n",
        "print(\"Score:{} for ('C': {}, 'gamma': {}, 'kernel': {})\".format(score, C, gamma, kernel))\n",
        "for kernel in listKernel:\n",
        "  for C in listC:\n",
        "    for gamma in listGamma:\n",
        "      svc = SVC(kernel=kernel, C = C, gamma=gamma).fit(scaledX_train, y_train)\n",
        "      predict = svc.predict(scaledX_val)\n",
        "      score = accuracy_score(y_val, predict)\n",
        "      print('=========================================')\n",
        "      print(\"Score:{} for ('C': {}, 'gamma': {}, 'kernel': {})\".format(score, C, gamma, kernel))\n",
        "      if score >= score_flag:\n",
        "        score_flag = score\n",
        "        bestK, bestC, bestG = kernel, C, gamma\n",
        "print('\\n=========================================')\n",
        "print('Best parameters set found on development set:\\n')\n",
        "print(\" 'C:' {}, 'gamma': {}, 'kernel': {} \".format(bestC, bestG, bestK))"
      ],
      "execution_count": null,
      "outputs": [
        {
          "output_type": "stream",
          "name": "stdout",
          "text": [
            "=========================================\n",
            "Score:0.825 for ('C': 1000, 'gamma': 0.1, 'kernel': sigmoid)\n",
            "=========================================\n",
            "Score:0.8625 for ('C': 1, 'gamma': 0.0001, 'kernel': linear)\n",
            "=========================================\n",
            "Score:0.8625 for ('C': 1, 'gamma': 0.001, 'kernel': linear)\n",
            "=========================================\n",
            "Score:0.8625 for ('C': 1, 'gamma': 0.01, 'kernel': linear)\n",
            "=========================================\n",
            "Score:0.8625 for ('C': 1, 'gamma': 0.1, 'kernel': linear)\n",
            "=========================================\n",
            "Score:0.8625 for ('C': 10, 'gamma': 0.0001, 'kernel': linear)\n",
            "=========================================\n",
            "Score:0.8625 for ('C': 10, 'gamma': 0.001, 'kernel': linear)\n",
            "=========================================\n",
            "Score:0.8625 for ('C': 10, 'gamma': 0.01, 'kernel': linear)\n",
            "=========================================\n",
            "Score:0.8625 for ('C': 10, 'gamma': 0.1, 'kernel': linear)\n",
            "=========================================\n",
            "Score:0.8625 for ('C': 100, 'gamma': 0.0001, 'kernel': linear)\n",
            "=========================================\n",
            "Score:0.8625 for ('C': 100, 'gamma': 0.001, 'kernel': linear)\n",
            "=========================================\n",
            "Score:0.8625 for ('C': 100, 'gamma': 0.01, 'kernel': linear)\n",
            "=========================================\n",
            "Score:0.8625 for ('C': 100, 'gamma': 0.1, 'kernel': linear)\n",
            "=========================================\n",
            "Score:0.8625 for ('C': 1000, 'gamma': 0.0001, 'kernel': linear)\n",
            "=========================================\n",
            "Score:0.8625 for ('C': 1000, 'gamma': 0.001, 'kernel': linear)\n",
            "=========================================\n",
            "Score:0.8625 for ('C': 1000, 'gamma': 0.01, 'kernel': linear)\n",
            "=========================================\n",
            "Score:0.8625 for ('C': 1000, 'gamma': 0.1, 'kernel': linear)\n",
            "=========================================\n",
            "Score:0.65 for ('C': 1, 'gamma': 0.0001, 'kernel': rbf)\n",
            "=========================================\n",
            "Score:0.65 for ('C': 1, 'gamma': 0.001, 'kernel': rbf)\n",
            "=========================================\n",
            "Score:0.85 for ('C': 1, 'gamma': 0.01, 'kernel': rbf)\n",
            "=========================================\n",
            "Score:0.925 for ('C': 1, 'gamma': 0.1, 'kernel': rbf)\n",
            "=========================================\n",
            "Score:0.65 for ('C': 10, 'gamma': 0.0001, 'kernel': rbf)\n",
            "=========================================\n",
            "Score:0.825 for ('C': 10, 'gamma': 0.001, 'kernel': rbf)\n",
            "=========================================\n",
            "Score:0.8875 for ('C': 10, 'gamma': 0.01, 'kernel': rbf)\n",
            "=========================================\n",
            "Score:0.925 for ('C': 10, 'gamma': 0.1, 'kernel': rbf)\n",
            "=========================================\n",
            "Score:0.825 for ('C': 100, 'gamma': 0.0001, 'kernel': rbf)\n",
            "=========================================\n",
            "Score:0.875 for ('C': 100, 'gamma': 0.001, 'kernel': rbf)\n",
            "=========================================\n",
            "Score:0.925 for ('C': 100, 'gamma': 0.01, 'kernel': rbf)\n",
            "=========================================\n",
            "Score:0.925 for ('C': 100, 'gamma': 0.1, 'kernel': rbf)\n",
            "=========================================\n",
            "Score:0.875 for ('C': 1000, 'gamma': 0.0001, 'kernel': rbf)\n",
            "=========================================\n",
            "Score:0.9 for ('C': 1000, 'gamma': 0.001, 'kernel': rbf)\n",
            "=========================================\n",
            "Score:0.925 for ('C': 1000, 'gamma': 0.01, 'kernel': rbf)\n",
            "=========================================\n",
            "Score:0.925 for ('C': 1000, 'gamma': 0.1, 'kernel': rbf)\n",
            "=========================================\n",
            "Score:0.65 for ('C': 1, 'gamma': 0.0001, 'kernel': poly)\n",
            "=========================================\n",
            "Score:0.65 for ('C': 1, 'gamma': 0.001, 'kernel': poly)\n",
            "=========================================\n",
            "Score:0.65 for ('C': 1, 'gamma': 0.01, 'kernel': poly)\n",
            "=========================================\n",
            "Score:0.775 for ('C': 1, 'gamma': 0.1, 'kernel': poly)\n",
            "=========================================\n",
            "Score:0.65 for ('C': 10, 'gamma': 0.0001, 'kernel': poly)\n",
            "=========================================\n",
            "Score:0.65 for ('C': 10, 'gamma': 0.001, 'kernel': poly)\n",
            "=========================================\n",
            "Score:0.65 for ('C': 10, 'gamma': 0.01, 'kernel': poly)\n",
            "=========================================\n",
            "Score:0.825 for ('C': 10, 'gamma': 0.1, 'kernel': poly)\n",
            "=========================================\n",
            "Score:0.65 for ('C': 100, 'gamma': 0.0001, 'kernel': poly)\n",
            "=========================================\n",
            "Score:0.65 for ('C': 100, 'gamma': 0.001, 'kernel': poly)\n",
            "=========================================\n",
            "Score:0.65 for ('C': 100, 'gamma': 0.01, 'kernel': poly)\n",
            "=========================================\n",
            "Score:0.875 for ('C': 100, 'gamma': 0.1, 'kernel': poly)\n",
            "=========================================\n",
            "Score:0.65 for ('C': 1000, 'gamma': 0.0001, 'kernel': poly)\n",
            "=========================================\n",
            "Score:0.65 for ('C': 1000, 'gamma': 0.001, 'kernel': poly)\n",
            "=========================================\n",
            "Score:0.775 for ('C': 1000, 'gamma': 0.01, 'kernel': poly)\n",
            "=========================================\n",
            "Score:0.9 for ('C': 1000, 'gamma': 0.1, 'kernel': poly)\n",
            "=========================================\n",
            "Score:0.65 for ('C': 1, 'gamma': 0.0001, 'kernel': sigmoid)\n",
            "=========================================\n",
            "Score:0.65 for ('C': 1, 'gamma': 0.001, 'kernel': sigmoid)\n",
            "=========================================\n",
            "Score:0.825 for ('C': 1, 'gamma': 0.01, 'kernel': sigmoid)\n",
            "=========================================\n",
            "Score:0.8625 for ('C': 1, 'gamma': 0.1, 'kernel': sigmoid)\n",
            "=========================================\n",
            "Score:0.65 for ('C': 10, 'gamma': 0.0001, 'kernel': sigmoid)\n",
            "=========================================\n",
            "Score:0.825 for ('C': 10, 'gamma': 0.001, 'kernel': sigmoid)\n",
            "=========================================\n",
            "Score:0.875 for ('C': 10, 'gamma': 0.01, 'kernel': sigmoid)\n",
            "=========================================\n",
            "Score:0.85 for ('C': 10, 'gamma': 0.1, 'kernel': sigmoid)\n",
            "=========================================\n",
            "Score:0.825 for ('C': 100, 'gamma': 0.0001, 'kernel': sigmoid)\n",
            "=========================================\n",
            "Score:0.875 for ('C': 100, 'gamma': 0.001, 'kernel': sigmoid)\n",
            "=========================================\n",
            "Score:0.8625 for ('C': 100, 'gamma': 0.01, 'kernel': sigmoid)\n",
            "=========================================\n",
            "Score:0.85 for ('C': 100, 'gamma': 0.1, 'kernel': sigmoid)\n",
            "=========================================\n",
            "Score:0.875 for ('C': 1000, 'gamma': 0.0001, 'kernel': sigmoid)\n",
            "=========================================\n",
            "Score:0.8625 for ('C': 1000, 'gamma': 0.001, 'kernel': sigmoid)\n",
            "=========================================\n",
            "Score:0.8625 for ('C': 1000, 'gamma': 0.01, 'kernel': sigmoid)\n",
            "=========================================\n",
            "Score:0.825 for ('C': 1000, 'gamma': 0.1, 'kernel': sigmoid)\n",
            "\n",
            "=========================================\n",
            "Best parameters set found on development set:\n",
            "\n",
            " 'C:' 1000, 'gamma': 0.1, 'kernel': rbf \n"
          ]
        }
      ]
    },
    {
      "cell_type": "markdown",
      "metadata": {
        "id": "7T7RWpple88j"
      },
      "source": [
        "##6.2 GridSearchCV method"
      ]
    },
    {
      "cell_type": "code",
      "metadata": {
        "colab": {
          "base_uri": "https://localhost:8080/"
        },
        "id": "G8RzzFtlgBMu",
        "outputId": "f8c3de1c-a496-486c-a92f-5978a4e6efe8"
      },
      "source": [
        "tuned_parameters = {\"kernel\": listKernel, \"C\": listC, \"gamma\":listGamma}\n",
        "clf = GridSearchCV(SVC(), tuned_parameters)\n",
        "clf.fit(scaledX_train, y_train)\n",
        "print('\\n=========================================')\n",
        "print(\"Best parameters set found on development set:\\n\")\n",
        "print(clf.best_params_)"
      ],
      "execution_count": null,
      "outputs": [
        {
          "output_type": "stream",
          "name": "stdout",
          "text": [
            "\n",
            "=========================================\n",
            "Best parameters set found on development set:\n",
            "\n",
            "{'C': 1000, 'gamma': 0.1, 'kernel': 'rbf'}\n"
          ]
        }
      ]
    },
    {
      "cell_type": "markdown",
      "metadata": {
        "id": "VjI7N5yShyNR"
      },
      "source": [
        "<a name = \"7\"></a>\n",
        "#7. evaluation"
      ]
    },
    {
      "cell_type": "code",
      "metadata": {
        "colab": {
          "base_uri": "https://localhost:8080/"
        },
        "id": "ARZHh9foiAN2",
        "outputId": "2e87fa26-6433-4b2e-af14-bc1ca60a1549"
      },
      "source": [
        "svc = SVC(kernel=bestK, C = bestC, gamma=bestG).fit(scaledX_train, y_train)\n",
        "predict = svc.predict(scaledX_test)\n",
        "print(classification_report(predict, y_test))"
      ],
      "execution_count": null,
      "outputs": [
        {
          "output_type": "stream",
          "name": "stdout",
          "text": [
            "              precision    recall  f1-score   support\n",
            "\n",
            "           0       0.90      0.98      0.94        48\n",
            "           1       0.96      0.84      0.90        32\n",
            "\n",
            "    accuracy                           0.93        80\n",
            "   macro avg       0.93      0.91      0.92        80\n",
            "weighted avg       0.93      0.93      0.92        80\n",
            "\n"
          ]
        }
      ]
    }
  ]
}